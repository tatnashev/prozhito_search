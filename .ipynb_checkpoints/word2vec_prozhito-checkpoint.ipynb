{
 "cells": [
  {
   "cell_type": "markdown",
   "id": "780843cd",
   "metadata": {},
   "source": [
    "# ДЗ-3 \n",
    "\n",
    "*Выполнил: Атнашев Тимофей* \n",
    "\n",
    "Краткое описание: в качестве основного источника данных используется Прожито (старый дамп с DH-хакатона в 21 году, его было найти проще всего) \n",
    "\n",
    "Сравниваются два исторических периода: имперский и послереволюционный. \n",
    "\n",
    "Ссылка на данные - https://drive.google.com/file/d/1rKrNCmgWPReJujCoZCDlhAb66yiUZ_by/view, на гитхаб не влезло"
   ]
  },
  {
   "cell_type": "code",
   "execution_count": 2,
   "id": "e5be0063",
   "metadata": {},
   "outputs": [],
   "source": [
    "import pandas as pd \n",
    "import numpy as np \n",
    "import plotly.express as px\n",
    "import pymorphy2\n",
    "import nltk\n",
    "import seaborn as sns\n",
    "import re\n",
    "\n",
    "from nltk.corpus import stopwords\n",
    "from tqdm import tqdm\n",
    "from pandarallel import pandarallel\n",
    "from gensim.models import Word2Vec\n",
    "from sklearn.manifold import TSNE\n",
    "\n",
    "tqdm.pandas()"
   ]
  },
  {
   "cell_type": "code",
   "execution_count": 77,
   "id": "b9d6911a",
   "metadata": {},
   "outputs": [],
   "source": [
    "import plotly.io as pio\n",
    "pio.renderers.default='notebook'"
   ]
  },
  {
   "cell_type": "code",
   "execution_count": 2,
   "id": "79f9b48b",
   "metadata": {},
   "outputs": [
    {
     "name": "stderr",
     "output_type": "stream",
     "text": [
      "[nltk_data] Downloading package stopwords to /home/timcha/nltk_data...\n",
      "[nltk_data]   Package stopwords is already up-to-date!\n"
     ]
    }
   ],
   "source": [
    "nltk.download('stopwords')\n",
    "\n",
    "stopwords_set = set(stopwords.words('russian'))"
   ]
  },
  {
   "cell_type": "code",
   "execution_count": 3,
   "id": "85a80224",
   "metadata": {},
   "outputs": [],
   "source": [
    "morph = pymorphy2.MorphAnalyzer()"
   ]
  },
  {
   "cell_type": "code",
   "execution_count": 4,
   "id": "9e9b0ac6",
   "metadata": {},
   "outputs": [
    {
     "name": "stdout",
     "output_type": "stream",
     "text": [
      "INFO: Pandarallel will run on 6 workers.\n",
      "INFO: Pandarallel will use Memory file system to transfer data between the main process and workers.\n"
     ]
    }
   ],
   "source": [
    "pandarallel.initialize(progress_bar=True, nb_workers=6)"
   ]
  },
  {
   "cell_type": "markdown",
   "id": "358a8851",
   "metadata": {},
   "source": [
    "## Препроцессинг\n",
    "\n",
    "Сначала приводим к порядку сам датасет, затем препроцессим текст. \n",
    "\n",
    "В дампе изначально были тексты с препроцессингом, однако мне он не очень понравился, поэтому я решил, что лучше сделать свой. "
   ]
  },
  {
   "cell_type": "code",
   "execution_count": 79,
   "id": "b51896ae",
   "metadata": {},
   "outputs": [
    {
     "data": {
      "text/html": [
       "<div>\n",
       "<style scoped>\n",
       "    .dataframe tbody tr th:only-of-type {\n",
       "        vertical-align: middle;\n",
       "    }\n",
       "\n",
       "    .dataframe tbody tr th {\n",
       "        vertical-align: top;\n",
       "    }\n",
       "\n",
       "    .dataframe thead th {\n",
       "        text-align: right;\n",
       "    }\n",
       "</style>\n",
       "<table border=\"1\" class=\"dataframe\">\n",
       "  <thead>\n",
       "    <tr style=\"text-align: right;\">\n",
       "      <th></th>\n",
       "      <th>Unnamed: 0</th>\n",
       "      <th>notes</th>\n",
       "      <th>notes\\n</th>\n",
       "      <th>dates</th>\n",
       "      <th>id</th>\n",
       "      <th>author</th>\n",
       "    </tr>\n",
       "  </thead>\n",
       "  <tbody>\n",
       "    <tr>\n",
       "      <th>0</th>\n",
       "      <td>0</td>\n",
       "      <td>Воскресенье.    \\nВчера приехал Слава навестит...</td>\n",
       "      <td>воскресение.    \\nвчера приезжать слава навеща...</td>\n",
       "      <td>0/0/0</td>\n",
       "      <td>2950</td>\n",
       "      <td>Василий Сергеевич Савельев</td>\n",
       "    </tr>\n",
       "    <tr>\n",
       "      <th>1</th>\n",
       "      <td>1</td>\n",
       "      <td>Ночью мы достигли банки Антон-Дорн, в Датском ...</td>\n",
       "      <td>ночь мы достигать банка антон-дорн, в датский ...</td>\n",
       "      <td>0/0/0</td>\n",
       "      <td>2268</td>\n",
       "      <td>Олег Владимирович Амитров</td>\n",
       "    </tr>\n",
       "    <tr>\n",
       "      <th>2</th>\n",
       "      <td>2</td>\n",
       "      <td>Суббота. Москва. Еду в Селище.</td>\n",
       "      <td>суббота. москва. ехать в селище.\\n</td>\n",
       "      <td>0/12/21</td>\n",
       "      <td>795</td>\n",
       "      <td>Сергей Иванович Танеев</td>\n",
       "    </tr>\n",
       "    <tr>\n",
       "      <th>3</th>\n",
       "      <td>3</td>\n",
       "      <td>18 Августа Его Королевское Величество отправил...</td>\n",
       "      <td>18 август его королевский величество отправлят...</td>\n",
       "      <td>1609/8/18</td>\n",
       "      <td>1081</td>\n",
       "      <td>Самуил  Бельский</td>\n",
       "    </tr>\n",
       "    <tr>\n",
       "      <th>4</th>\n",
       "      <td>4</td>\n",
       "      <td>На следующий день, 19 Августа, прибыл в Остров...</td>\n",
       "      <td>на следующий день, 19 август, прибывать в остр...</td>\n",
       "      <td>1609/8/19</td>\n",
       "      <td>1081</td>\n",
       "      <td>Самуил  Бельский</td>\n",
       "    </tr>\n",
       "    <tr>\n",
       "      <th>...</th>\n",
       "      <td>...</td>\n",
       "      <td>...</td>\n",
       "      <td>...</td>\n",
       "      <td>...</td>\n",
       "      <td>...</td>\n",
       "      <td>...</td>\n",
       "    </tr>\n",
       "    <tr>\n",
       "      <th>384521</th>\n",
       "      <td>384521</td>\n",
       "      <td>Вся моя личная жизнь является чудом Божиим, вс...</td>\n",
       "      <td>весь мой личный жизнь являться чудо божий, вес...</td>\n",
       "      <td>2018/6/3</td>\n",
       "      <td>2378</td>\n",
       "      <td>Александр Михайлович Чугунов</td>\n",
       "    </tr>\n",
       "    <tr>\n",
       "      <th>384522</th>\n",
       "      <td>384522</td>\n",
       "      <td>Может быть, то место, где я сейчас нахожусь, г...</td>\n",
       "      <td>мочь быть, то место, где я сейчас находиться, ...</td>\n",
       "      <td>2018/6/12</td>\n",
       "      <td>2378</td>\n",
       "      <td>Александр Михайлович Чугунов</td>\n",
       "    </tr>\n",
       "    <tr>\n",
       "      <th>384523</th>\n",
       "      <td>384523</td>\n",
       "      <td>Если взглянуть на мою жизнь, прожитые годы, то...</td>\n",
       "      <td>если взглядывать на мой жизнь, проживать год, ...</td>\n",
       "      <td>2018/6/13</td>\n",
       "      <td>2378</td>\n",
       "      <td>Александр Михайлович Чугунов</td>\n",
       "    </tr>\n",
       "    <tr>\n",
       "      <th>384524</th>\n",
       "      <td>384524</td>\n",
       "      <td>Вся моя жизнь после ухода из отеческого дома в...</td>\n",
       "      <td>весь мой жизнь после уход из отеческий дом в 1...</td>\n",
       "      <td>2018/6/17</td>\n",
       "      <td>2378</td>\n",
       "      <td>Александр Михайлович Чугунов</td>\n",
       "    </tr>\n",
       "    <tr>\n",
       "      <th>384525</th>\n",
       "      <td>384525</td>\n",
       "      <td>a</td>\n",
       "      <td>a\\n</td>\n",
       "      <td>2959/3/9</td>\n",
       "      <td>82</td>\n",
       "      <td>no author</td>\n",
       "    </tr>\n",
       "  </tbody>\n",
       "</table>\n",
       "<p>384526 rows × 6 columns</p>\n",
       "</div>"
      ],
      "text/plain": [
       "        Unnamed: 0                                              notes  \\\n",
       "0                0  Воскресенье.    \\nВчера приехал Слава навестит...   \n",
       "1                1  Ночью мы достигли банки Антон-Дорн, в Датском ...   \n",
       "2                2                     Суббота. Москва. Еду в Селище.   \n",
       "3                3  18 Августа Его Королевское Величество отправил...   \n",
       "4                4  На следующий день, 19 Августа, прибыл в Остров...   \n",
       "...            ...                                                ...   \n",
       "384521      384521  Вся моя личная жизнь является чудом Божиим, вс...   \n",
       "384522      384522  Может быть, то место, где я сейчас нахожусь, г...   \n",
       "384523      384523  Если взглянуть на мою жизнь, прожитые годы, то...   \n",
       "384524      384524  Вся моя жизнь после ухода из отеческого дома в...   \n",
       "384525      384525                                                  a   \n",
       "\n",
       "                                                  notes\\n      dates    id  \\\n",
       "0       воскресение.    \\nвчера приезжать слава навеща...      0/0/0  2950   \n",
       "1       ночь мы достигать банка антон-дорн, в датский ...      0/0/0  2268   \n",
       "2                      суббота. москва. ехать в селище.\\n    0/12/21   795   \n",
       "3       18 август его королевский величество отправлят...  1609/8/18  1081   \n",
       "4       на следующий день, 19 август, прибывать в остр...  1609/8/19  1081   \n",
       "...                                                   ...        ...   ...   \n",
       "384521  весь мой личный жизнь являться чудо божий, вес...   2018/6/3  2378   \n",
       "384522  мочь быть, то место, где я сейчас находиться, ...  2018/6/12  2378   \n",
       "384523  если взглядывать на мой жизнь, проживать год, ...  2018/6/13  2378   \n",
       "384524  весь мой жизнь после уход из отеческий дом в 1...  2018/6/17  2378   \n",
       "384525                                                a\\n   2959/3/9    82   \n",
       "\n",
       "                              author  \n",
       "0         Василий Сергеевич Савельев  \n",
       "1          Олег Владимирович Амитров  \n",
       "2             Сергей Иванович Танеев  \n",
       "3                   Самуил  Бельский  \n",
       "4                   Самуил  Бельский  \n",
       "...                              ...  \n",
       "384521  Александр Михайлович Чугунов  \n",
       "384522  Александр Михайлович Чугунов  \n",
       "384523  Александр Михайлович Чугунов  \n",
       "384524  Александр Михайлович Чугунов  \n",
       "384525                     no author  \n",
       "\n",
       "[384526 rows x 6 columns]"
      ]
     },
     "execution_count": 79,
     "metadata": {},
     "output_type": "execute_result"
    }
   ],
   "source": [
    "data = pd.read_csv('data/whole_table_with_lemm.csv', sep='\\t')\n",
    "data"
   ]
  },
  {
   "cell_type": "code",
   "execution_count": 80,
   "id": "cf0faa7d",
   "metadata": {},
   "outputs": [
    {
     "data": {
      "text/html": [
       "<div>\n",
       "<style scoped>\n",
       "    .dataframe tbody tr th:only-of-type {\n",
       "        vertical-align: middle;\n",
       "    }\n",
       "\n",
       "    .dataframe tbody tr th {\n",
       "        vertical-align: top;\n",
       "    }\n",
       "\n",
       "    .dataframe thead th {\n",
       "        text-align: right;\n",
       "    }\n",
       "</style>\n",
       "<table border=\"1\" class=\"dataframe\">\n",
       "  <thead>\n",
       "    <tr style=\"text-align: right;\">\n",
       "      <th></th>\n",
       "      <th>notes</th>\n",
       "      <th>notes\\n</th>\n",
       "      <th>dates</th>\n",
       "      <th>id</th>\n",
       "      <th>author</th>\n",
       "    </tr>\n",
       "  </thead>\n",
       "  <tbody>\n",
       "    <tr>\n",
       "      <th>3556</th>\n",
       "      <td>Вторник. Князь Орлов спрашивал меня о моем здо...</td>\n",
       "      <td>вторник. князь орлов спрашивать я о мой здоров...</td>\n",
       "      <td>1779-11-21</td>\n",
       "      <td>1740</td>\n",
       "      <td>Алексей Григорьевич Бобринский</td>\n",
       "    </tr>\n",
       "    <tr>\n",
       "      <th>3557</th>\n",
       "      <td>Рибас&lt;com id=\"1510498731141\"/&gt; сказал мне, что...</td>\n",
       "      <td>рибас&lt;com id=\"1510498731141\"/&gt; сказать я, что ...</td>\n",
       "      <td>1779-11-22</td>\n",
       "      <td>1740</td>\n",
       "      <td>Алексей Григорьевич Бобринский</td>\n",
       "    </tr>\n",
       "    <tr>\n",
       "      <th>3558</th>\n",
       "      <td>Он мне сказал, что мы поедем на волчью охоту.</td>\n",
       "      <td>он я сказать, что мы поехать на волчий охота.\\n</td>\n",
       "      <td>1779-11-23</td>\n",
       "      <td>1740</td>\n",
       "      <td>Алексей Григорьевич Бобринский</td>\n",
       "    </tr>\n",
       "    <tr>\n",
       "      <th>3559</th>\n",
       "      <td>Свадьба Надежды Васильевны с г. Измайловым&lt;com...</td>\n",
       "      <td>свадьба надежда васильевна с г. измайлов&lt;com i...</td>\n",
       "      <td>1779-11-24</td>\n",
       "      <td>1740</td>\n",
       "      <td>Алексей Григорьевич Бобринский</td>\n",
       "    </tr>\n",
       "    <tr>\n",
       "      <th>3560</th>\n",
       "      <td>Г. Ахвердов принял свою роту. Г. Рибас не ноче...</td>\n",
       "      <td>г. ахвердов принимать свой рота. г. рибас не н...</td>\n",
       "      <td>1779-11-25</td>\n",
       "      <td>1740</td>\n",
       "      <td>Алексей Григорьевич Бобринский</td>\n",
       "    </tr>\n",
       "  </tbody>\n",
       "</table>\n",
       "</div>"
      ],
      "text/plain": [
       "                                                  notes  \\\n",
       "3556  Вторник. Князь Орлов спрашивал меня о моем здо...   \n",
       "3557  Рибас<com id=\"1510498731141\"/> сказал мне, что...   \n",
       "3558      Он мне сказал, что мы поедем на волчью охоту.   \n",
       "3559  Свадьба Надежды Васильевны с г. Измайловым<com...   \n",
       "3560  Г. Ахвердов принял свою роту. Г. Рибас не ноче...   \n",
       "\n",
       "                                                notes\\n      dates    id  \\\n",
       "3556  вторник. князь орлов спрашивать я о мой здоров... 1779-11-21  1740   \n",
       "3557  рибас<com id=\"1510498731141\"/> сказать я, что ... 1779-11-22  1740   \n",
       "3558    он я сказать, что мы поехать на волчий охота.\\n 1779-11-23  1740   \n",
       "3559  свадьба надежда васильевна с г. измайлов<com i... 1779-11-24  1740   \n",
       "3560  г. ахвердов принимать свой рота. г. рибас не н... 1779-11-25  1740   \n",
       "\n",
       "                              author  \n",
       "3556  Алексей Григорьевич Бобринский  \n",
       "3557  Алексей Григорьевич Бобринский  \n",
       "3558  Алексей Григорьевич Бобринский  \n",
       "3559  Алексей Григорьевич Бобринский  \n",
       "3560  Алексей Григорьевич Бобринский  "
      ]
     },
     "execution_count": 80,
     "metadata": {},
     "output_type": "execute_result"
    }
   ],
   "source": [
    "# тут все немного поехало (объединил в одну ячейку весь препроцессинг, \n",
    "# после чего случайно нажал на ячейку) \n",
    "# пусть столбец notes_lemmatized не смущает \n",
    "\n",
    "data = data.drop(columns=['Unnamed: 0']) \n",
    "\n",
    "# тут боремся со странными датами \n",
    "data['dates'] = data['dates'].replace({'0/0/0': '1/1/1', \n",
    "                                        '0/12/21': '1/1/1'}) \n",
    "\n",
    "data = data[data['dates'] != '1/1/1']\n",
    "\n",
    "data['dates'] = pd.to_datetime(data['dates'], errors='coerce') \n",
    "\n",
    "data = data.dropna()\n",
    "data.head()"
   ]
  },
  {
   "cell_type": "markdown",
   "id": "69d9d7a1",
   "metadata": {},
   "source": [
    "### Препроцессинг текстов"
   ]
  },
  {
   "cell_type": "code",
   "execution_count": 8,
   "id": "1197d332",
   "metadata": {},
   "outputs": [],
   "source": [
    "def remove_links(text): \n",
    "    return re.sub('<[^<]+>', \"\", text)\n",
    "\n",
    "def get_words_and_numbers(text): \n",
    "    return re.findall('[а-яА-Яa-zA-Z0-9]+', text) \n",
    "\n",
    "def lemmatize(words): \n",
    "    \n",
    "    return [morph.parse(word)[0].normal_form for word in words if word not in stopwords_set and len(word) > 2] "
   ]
  },
  {
   "cell_type": "code",
   "execution_count": 10,
   "id": "8aac9793",
   "metadata": {},
   "outputs": [
    {
     "data": {
      "application/vnd.jupyter.widget-view+json": {
       "model_id": "5132ebeb198141619eb02af6f27009e8",
       "version_major": 2,
       "version_minor": 0
      },
      "text/plain": [
       "VBox(children=(HBox(children=(IntProgress(value=0, description='0.00%', max=63495), Label(value='0 / 63495')))…"
      ]
     },
     "metadata": {},
     "output_type": "display_data"
    },
    {
     "name": "stderr",
     "output_type": "stream",
     "text": [
      "/tmp/ipykernel_33958/462370674.py:1: SettingWithCopyWarning: \n",
      "A value is trying to be set on a copy of a slice from a DataFrame.\n",
      "Try using .loc[row_indexer,col_indexer] = value instead\n",
      "\n",
      "See the caveats in the documentation: https://pandas.pydata.org/pandas-docs/stable/user_guide/indexing.html#returning-a-view-versus-a-copy\n",
      "  data['notes_lemmatized'] =\\\n"
     ]
    }
   ],
   "source": [
    "data['notes_lemmatized'] =\\\n",
    "            data['notes'].parallel_apply(lambda x: lemmatize(get_words_and_numbers(remove_links(x))))"
   ]
  },
  {
   "cell_type": "code",
   "execution_count": 15,
   "id": "721f17d6",
   "metadata": {},
   "outputs": [
    {
     "data": {
      "text/plain": [
       "['вторник',\n",
       " 'князь',\n",
       " 'орлов',\n",
       " 'спрашивать',\n",
       " 'мой',\n",
       " 'здоровье',\n",
       " 'рибас',\n",
       " 'свой',\n",
       " 'девочка',\n",
       " 'новый',\n",
       " 'кормилица',\n",
       " 'приходить',\n",
       " 'навестить',\n",
       " 'муж',\n",
       " 'корпус',\n",
       " 'опера']"
      ]
     },
     "execution_count": 15,
     "metadata": {},
     "output_type": "execute_result"
    }
   ],
   "source": [
    "data['notes_lemmatized'].iloc[0]"
   ]
  },
  {
   "cell_type": "code",
   "execution_count": 19,
   "id": "0a8f97a6",
   "metadata": {},
   "outputs": [
    {
     "name": "stdout",
     "output_type": "stream",
     "text": [
      "Рибас<com id=\"1510498731141\"/> сказал мне, что он подал просьбу об отставке, так как видит, что кадеты недовольны им. Между прочим он заметил, что Свечин, взойдя, тотчас ушел, увидавши его. \n",
      "\n",
      " рибас сказать подать просьба отставка видеть кадет недовольный между прочить заметить свечин взойти тотчас уйти увидать\n"
     ]
    }
   ],
   "source": [
    "print(data['notes'].iloc[1], '\\n\\n', ' '.join(data['notes_lemmatized'].iloc[1])) "
   ]
  },
  {
   "cell_type": "markdown",
   "id": "1e1464f3",
   "metadata": {},
   "source": [
    "Ура, выглядеть стало сильно приятнее (ну для семантической модели точно) "
   ]
  },
  {
   "cell_type": "code",
   "execution_count": 59,
   "id": "a8e0fda9",
   "metadata": {},
   "outputs": [],
   "source": [
    "# data.to_csv('data/diaries_preprocessed.csv', index=False)"
   ]
  },
  {
   "cell_type": "code",
   "execution_count": 7,
   "id": "0760785c",
   "metadata": {},
   "outputs": [
    {
     "data": {
      "text/html": [
       "<div>\n",
       "<style scoped>\n",
       "    .dataframe tbody tr th:only-of-type {\n",
       "        vertical-align: middle;\n",
       "    }\n",
       "\n",
       "    .dataframe tbody tr th {\n",
       "        vertical-align: top;\n",
       "    }\n",
       "\n",
       "    .dataframe thead th {\n",
       "        text-align: right;\n",
       "    }\n",
       "</style>\n",
       "<table border=\"1\" class=\"dataframe\">\n",
       "  <thead>\n",
       "    <tr style=\"text-align: right;\">\n",
       "      <th></th>\n",
       "      <th>notes</th>\n",
       "      <th>notes\\n</th>\n",
       "      <th>dates</th>\n",
       "      <th>id</th>\n",
       "      <th>author</th>\n",
       "      <th>notes_lemmatized</th>\n",
       "    </tr>\n",
       "  </thead>\n",
       "  <tbody>\n",
       "    <tr>\n",
       "      <th>0</th>\n",
       "      <td>Вторник. Князь Орлов спрашивал меня о моем здо...</td>\n",
       "      <td>вторник. князь орлов спрашивать я о мой здоров...</td>\n",
       "      <td>1779-11-21</td>\n",
       "      <td>1740</td>\n",
       "      <td>Алексей Григорьевич Бобринский</td>\n",
       "      <td>[вторник, князь, орлов, спрашивать, мой, здоро...</td>\n",
       "    </tr>\n",
       "    <tr>\n",
       "      <th>1</th>\n",
       "      <td>Рибас&lt;com id=\"1510498731141\"/&gt; сказал мне, что...</td>\n",
       "      <td>рибас&lt;com id=\"1510498731141\"/&gt; сказать я, что ...</td>\n",
       "      <td>1779-11-22</td>\n",
       "      <td>1740</td>\n",
       "      <td>Алексей Григорьевич Бобринский</td>\n",
       "      <td>[рибас, сказать, подать, просьба, отставка, ви...</td>\n",
       "    </tr>\n",
       "    <tr>\n",
       "      <th>2</th>\n",
       "      <td>Он мне сказал, что мы поедем на волчью охоту.</td>\n",
       "      <td>он я сказать, что мы поехать на волчий охота.\\n</td>\n",
       "      <td>1779-11-23</td>\n",
       "      <td>1740</td>\n",
       "      <td>Алексей Григорьевич Бобринский</td>\n",
       "      <td>[сказать, поехать, волчий, охота]</td>\n",
       "    </tr>\n",
       "    <tr>\n",
       "      <th>3</th>\n",
       "      <td>Свадьба Надежды Васильевны с г. Измайловым&lt;com...</td>\n",
       "      <td>свадьба надежда васильевна с г. измайлов&lt;com i...</td>\n",
       "      <td>1779-11-24</td>\n",
       "      <td>1740</td>\n",
       "      <td>Алексей Григорьевич Бобринский</td>\n",
       "      <td>[свадьба, надежда, василиевич, измайлов]</td>\n",
       "    </tr>\n",
       "    <tr>\n",
       "      <th>4</th>\n",
       "      <td>Г. Ахвердов принял свою роту. Г. Рибас не ноче...</td>\n",
       "      <td>г. ахвердов принимать свой рота. г. рибас не н...</td>\n",
       "      <td>1779-11-25</td>\n",
       "      <td>1740</td>\n",
       "      <td>Алексей Григорьевич Бобринский</td>\n",
       "      <td>[ахвердов, принять, рота, рибас, ночевать, пон...</td>\n",
       "    </tr>\n",
       "  </tbody>\n",
       "</table>\n",
       "</div>"
      ],
      "text/plain": [
       "                                               notes  \\\n",
       "0  Вторник. Князь Орлов спрашивал меня о моем здо...   \n",
       "1  Рибас<com id=\"1510498731141\"/> сказал мне, что...   \n",
       "2      Он мне сказал, что мы поедем на волчью охоту.   \n",
       "3  Свадьба Надежды Васильевны с г. Измайловым<com...   \n",
       "4  Г. Ахвердов принял свою роту. Г. Рибас не ноче...   \n",
       "\n",
       "                                             notes\\n       dates    id  \\\n",
       "0  вторник. князь орлов спрашивать я о мой здоров...  1779-11-21  1740   \n",
       "1  рибас<com id=\"1510498731141\"/> сказать я, что ...  1779-11-22  1740   \n",
       "2    он я сказать, что мы поехать на волчий охота.\\n  1779-11-23  1740   \n",
       "3  свадьба надежда васильевна с г. измайлов<com i...  1779-11-24  1740   \n",
       "4  г. ахвердов принимать свой рота. г. рибас не н...  1779-11-25  1740   \n",
       "\n",
       "                           author  \\\n",
       "0  Алексей Григорьевич Бобринский   \n",
       "1  Алексей Григорьевич Бобринский   \n",
       "2  Алексей Григорьевич Бобринский   \n",
       "3  Алексей Григорьевич Бобринский   \n",
       "4  Алексей Григорьевич Бобринский   \n",
       "\n",
       "                                    notes_lemmatized  \n",
       "0  [вторник, князь, орлов, спрашивать, мой, здоро...  \n",
       "1  [рибас, сказать, подать, просьба, отставка, ви...  \n",
       "2                  [сказать, поехать, волчий, охота]  \n",
       "3           [свадьба, надежда, василиевич, измайлов]  \n",
       "4  [ахвердов, принять, рота, рибас, ночевать, пон...  "
      ]
     },
     "execution_count": 7,
     "metadata": {},
     "output_type": "execute_result"
    }
   ],
   "source": [
    "data = pd.read_csv('data/diaries_preprocessed.csv')\n",
    "data['notes_lemmatized'] = data['notes_lemmatized'].apply(lambda x: eval(x))\n",
    "data.head()"
   ]
  },
  {
   "cell_type": "code",
   "execution_count": 8,
   "id": "98337282",
   "metadata": {},
   "outputs": [
    {
     "data": {
      "text/plain": [
       "['вторник',\n",
       " 'князь',\n",
       " 'орлов',\n",
       " 'спрашивать',\n",
       " 'мой',\n",
       " 'здоровье',\n",
       " 'рибас',\n",
       " 'свой',\n",
       " 'девочка',\n",
       " 'новый',\n",
       " 'кормилица',\n",
       " 'приходить',\n",
       " 'навестить',\n",
       " 'муж',\n",
       " 'корпус',\n",
       " 'опера']"
      ]
     },
     "execution_count": 8,
     "metadata": {},
     "output_type": "execute_result"
    }
   ],
   "source": [
    "data['notes_lemmatized'].values[0]"
   ]
  },
  {
   "cell_type": "markdown",
   "id": "b52583e3",
   "metadata": {},
   "source": [
    "### Как делим корпус? \n",
    "\n",
    "Для начала посмотрим на распределение дневниковых записей по времени"
   ]
  },
  {
   "cell_type": "code",
   "execution_count": 92,
   "id": "987bfcf0",
   "metadata": {},
   "outputs": [
    {
     "data": {
      "image/svg+xml": [
       "<svg class=\"main-svg\" xmlns=\"http://www.w3.org/2000/svg\" xmlns:xlink=\"http://www.w3.org/1999/xlink\" width=\"700\" height=\"500\" style=\"\" viewBox=\"0 0 700 500\"><rect x=\"0\" y=\"0\" width=\"700\" height=\"500\" style=\"fill: rgb(255, 255, 255); fill-opacity: 1;\"/><defs id=\"defs-ab9fb6\"><g class=\"clips\"><clipPath id=\"clipab9fb6xyplot\" class=\"plotclip\"><rect width=\"540\" height=\"320\"/></clipPath><clipPath class=\"axesclip\" id=\"clipab9fb6x\"><rect x=\"80\" y=\"0\" width=\"540\" height=\"500\"/></clipPath><clipPath class=\"axesclip\" id=\"clipab9fb6y\"><rect x=\"0\" y=\"100\" width=\"700\" height=\"320\"/></clipPath><clipPath class=\"axesclip\" id=\"clipab9fb6xy\"><rect x=\"80\" y=\"100\" width=\"540\" height=\"320\"/></clipPath></g><g class=\"gradients\"/><g class=\"patterns\"/></defs><g class=\"bglayer\"><rect class=\"bg\" x=\"80\" y=\"100\" width=\"540\" height=\"320\" style=\"fill: rgb(229, 236, 246); fill-opacity: 1; stroke-width: 0;\"/></g><g class=\"layer-below\"><g class=\"imagelayer\"/><g class=\"shapelayer\"/></g><g class=\"cartesianlayer\"><g class=\"subplot xy\"><g class=\"layer-subplot\"><g class=\"shapelayer\"/><g class=\"imagelayer\"/></g><g class=\"minor-gridlayer\"><g class=\"x\"/><g class=\"y\"/></g><g class=\"gridlayer\"><g class=\"x\"><path class=\"xgrid crisp\" transform=\"translate(125.52000000000001,0)\" d=\"M0,100v320\" style=\"stroke: rgb(255, 255, 255); stroke-opacity: 1; stroke-width: 1px;\"/><path class=\"xgrid crisp\" transform=\"translate(238.7,0)\" d=\"M0,100v320\" style=\"stroke: rgb(255, 255, 255); stroke-opacity: 1; stroke-width: 1px;\"/><path class=\"xgrid crisp\" transform=\"translate(351.87,0)\" d=\"M0,100v320\" style=\"stroke: rgb(255, 255, 255); stroke-opacity: 1; stroke-width: 1px;\"/><path class=\"xgrid crisp\" transform=\"translate(465.04,0)\" d=\"M0,100v320\" style=\"stroke: rgb(255, 255, 255); stroke-opacity: 1; stroke-width: 1px;\"/><path class=\"xgrid crisp\" transform=\"translate(578.22,0)\" d=\"M0,100v320\" style=\"stroke: rgb(255, 255, 255); stroke-opacity: 1; stroke-width: 1px;\"/></g><g class=\"y\"><path class=\"ygrid crisp\" transform=\"translate(0,364.63)\" d=\"M80,0h540\" style=\"stroke: rgb(255, 255, 255); stroke-opacity: 1; stroke-width: 1px;\"/><path class=\"ygrid crisp\" transform=\"translate(0,323.19)\" d=\"M80,0h540\" style=\"stroke: rgb(255, 255, 255); stroke-opacity: 1; stroke-width: 1px;\"/><path class=\"ygrid crisp\" transform=\"translate(0,281.76)\" d=\"M80,0h540\" style=\"stroke: rgb(255, 255, 255); stroke-opacity: 1; stroke-width: 1px;\"/><path class=\"ygrid crisp\" transform=\"translate(0,240.32)\" d=\"M80,0h540\" style=\"stroke: rgb(255, 255, 255); stroke-opacity: 1; stroke-width: 1px;\"/><path class=\"ygrid crisp\" transform=\"translate(0,198.88)\" d=\"M80,0h540\" style=\"stroke: rgb(255, 255, 255); stroke-opacity: 1; stroke-width: 1px;\"/><path class=\"ygrid crisp\" transform=\"translate(0,157.44)\" d=\"M80,0h540\" style=\"stroke: rgb(255, 255, 255); stroke-opacity: 1; stroke-width: 1px;\"/><path class=\"ygrid crisp\" transform=\"translate(0,116)\" d=\"M80,0h540\" style=\"stroke: rgb(255, 255, 255); stroke-opacity: 1; stroke-width: 1px;\"/></g></g><g class=\"zerolinelayer\"><path class=\"yzl zl crisp\" transform=\"translate(0,406.07)\" d=\"M80,0h540\" style=\"stroke: rgb(255, 255, 255); stroke-opacity: 1; stroke-width: 2px;\"/></g><path class=\"xlines-below\"/><path class=\"ylines-below\"/><g class=\"overlines-below\"/><g class=\"xaxislayer-below\"/><g class=\"yaxislayer-below\"/><g class=\"overaxes-below\"/><g class=\"plot\" transform=\"translate(80,100)\" clip-path=\"url(#clipab9fb6xyplot)\"/><g class=\"overplot\"/><path class=\"xlines-above crisp\" d=\"M0,0\" style=\"fill: none;\"/><path class=\"ylines-above crisp\" d=\"M0,0\" style=\"fill: none;\"/><g class=\"overlines-above\"/><g class=\"xaxislayer-above\"><g class=\"xtick\"><text text-anchor=\"middle\" x=\"0\" y=\"433\" transform=\"translate(125.52000000000001,0)\" style=\"font-family: 'Open Sans', verdana, arial, sans-serif; font-size: 12px; fill: rgb(42, 63, 95); fill-opacity: 1; white-space: pre; opacity: 1;\">1800</text></g><g class=\"xtick\"><text text-anchor=\"middle\" x=\"0\" y=\"433\" style=\"font-family: 'Open Sans', verdana, arial, sans-serif; font-size: 12px; fill: rgb(42, 63, 95); fill-opacity: 1; white-space: pre; opacity: 1;\" transform=\"translate(238.7,0)\">1850</text></g><g class=\"xtick\"><text text-anchor=\"middle\" x=\"0\" y=\"433\" style=\"font-family: 'Open Sans', verdana, arial, sans-serif; font-size: 12px; fill: rgb(42, 63, 95); fill-opacity: 1; white-space: pre; opacity: 1;\" transform=\"translate(351.87,0)\">1900</text></g><g class=\"xtick\"><text text-anchor=\"middle\" x=\"0\" y=\"433\" style=\"font-family: 'Open Sans', verdana, arial, sans-serif; font-size: 12px; fill: rgb(42, 63, 95); fill-opacity: 1; white-space: pre; opacity: 1;\" transform=\"translate(465.04,0)\">1950</text></g><g class=\"xtick\"><text text-anchor=\"middle\" x=\"0\" y=\"433\" style=\"font-family: 'Open Sans', verdana, arial, sans-serif; font-size: 12px; fill: rgb(42, 63, 95); fill-opacity: 1; white-space: pre; opacity: 1;\" transform=\"translate(578.22,0)\">2000</text></g></g><g class=\"yaxislayer-above\"><g class=\"ytick\"><text text-anchor=\"end\" x=\"79\" y=\"4.199999999999999\" transform=\"translate(0,406.07)\" style=\"font-family: 'Open Sans', verdana, arial, sans-serif; font-size: 12px; fill: rgb(42, 63, 95); fill-opacity: 1; white-space: pre; opacity: 1;\">0</text></g><g class=\"ytick\"><text text-anchor=\"end\" x=\"79\" y=\"4.199999999999999\" style=\"font-family: 'Open Sans', verdana, arial, sans-serif; font-size: 12px; fill: rgb(42, 63, 95); fill-opacity: 1; white-space: pre; opacity: 1;\" transform=\"translate(0,364.63)\">20</text></g><g class=\"ytick\"><text text-anchor=\"end\" x=\"79\" y=\"4.199999999999999\" style=\"font-family: 'Open Sans', verdana, arial, sans-serif; font-size: 12px; fill: rgb(42, 63, 95); fill-opacity: 1; white-space: pre; opacity: 1;\" transform=\"translate(0,323.19)\">40</text></g><g class=\"ytick\"><text text-anchor=\"end\" x=\"79\" y=\"4.199999999999999\" style=\"font-family: 'Open Sans', verdana, arial, sans-serif; font-size: 12px; fill: rgb(42, 63, 95); fill-opacity: 1; white-space: pre; opacity: 1;\" transform=\"translate(0,281.76)\">60</text></g><g class=\"ytick\"><text text-anchor=\"end\" x=\"79\" y=\"4.199999999999999\" style=\"font-family: 'Open Sans', verdana, arial, sans-serif; font-size: 12px; fill: rgb(42, 63, 95); fill-opacity: 1; white-space: pre; opacity: 1;\" transform=\"translate(0,240.32)\">80</text></g><g class=\"ytick\"><text text-anchor=\"end\" x=\"79\" y=\"4.199999999999999\" style=\"font-family: 'Open Sans', verdana, arial, sans-serif; font-size: 12px; fill: rgb(42, 63, 95); fill-opacity: 1; white-space: pre; opacity: 1;\" transform=\"translate(0,198.88)\">100</text></g><g class=\"ytick\"><text text-anchor=\"end\" x=\"79\" y=\"4.199999999999999\" style=\"font-family: 'Open Sans', verdana, arial, sans-serif; font-size: 12px; fill: rgb(42, 63, 95); fill-opacity: 1; white-space: pre; opacity: 1;\" transform=\"translate(0,157.44)\">120</text></g><g class=\"ytick\"><text text-anchor=\"end\" x=\"79\" y=\"4.199999999999999\" style=\"font-family: 'Open Sans', verdana, arial, sans-serif; font-size: 12px; fill: rgb(42, 63, 95); fill-opacity: 1; white-space: pre; opacity: 1;\" transform=\"translate(0,116)\">140</text></g></g><g class=\"overaxes-above\"/></g></g><g class=\"polarlayer\"/><g class=\"smithlayer\"/><g class=\"ternarylayer\"/><g class=\"geolayer\"/><g class=\"funnelarealayer\"/><g class=\"pielayer\"/><g class=\"iciclelayer\"/><g class=\"treemaplayer\"/><g class=\"sunburstlayer\"/><g class=\"glimages\"><image xmlns=\"http://www.w3.org/2000/svg\" xlink:href=\"data:image/png;base64,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\" preserveAspectRatio=\"none\" x=\"0\" y=\"0\" width=\"700px\" height=\"500px\"/><image xmlns=\"http://www.w3.org/2000/svg\" xlink:href=\"data:image/png;base64,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\" preserveAspectRatio=\"none\" x=\"0\" y=\"0\" width=\"700px\" height=\"500px\"/></g><defs id=\"topdefs-ab9fb6\"><g class=\"clips\"/></defs><g class=\"layer-above\"><g class=\"imagelayer\"/><g class=\"shapelayer\"/></g><g class=\"infolayer\"><g class=\"g-gtitle\"><text class=\"gtitle\" x=\"35\" y=\"50\" text-anchor=\"start\" dy=\"0em\" style=\"font-family: 'Open Sans', verdana, arial, sans-serif; font-size: 17px; fill: rgb(42, 63, 95); opacity: 1; font-weight: normal; white-space: pre;\">Распределение дневниковых записей по годам</text></g><g class=\"g-xtitle\"><text class=\"xtitle\" x=\"350\" y=\"461.3\" text-anchor=\"middle\" style=\"font-family: 'Open Sans', verdana, arial, sans-serif; font-size: 14px; fill: rgb(42, 63, 95); opacity: 1; font-weight: normal; white-space: pre;\">dates</text></g><g class=\"g-ytitle\"><text class=\"ytitle\" transform=\"rotate(-90,34.10625,260)\" x=\"34.10625\" y=\"260\" text-anchor=\"middle\" style=\"font-family: 'Open Sans', verdana, arial, sans-serif; font-size: 14px; fill: rgb(42, 63, 95); opacity: 1; font-weight: normal; white-space: pre;\">notes</text></g></g></svg>"
      ]
     },
     "metadata": {},
     "output_type": "display_data"
    }
   ],
   "source": [
    "dates_count = data.groupby('dates', as_index=False).count() \n",
    "\n",
    "fig = px.line(dates_count, x='dates', y='notes', title='Распределение дневниковых записей по годам')\n",
    "fig.show('svg')"
   ]
  },
  {
   "cell_type": "code",
   "execution_count": 21,
   "id": "59299d1e",
   "metadata": {},
   "outputs": [],
   "source": [
    "revolution_date = pd.Timestamp(year=1917, month=10, day=25) \n",
    "ussr_dissolution_date = pd.Timestamp(year=1991, month=12, day=26)"
   ]
  },
  {
   "cell_type": "code",
   "execution_count": 23,
   "id": "96d1c258",
   "metadata": {},
   "outputs": [
    {
     "name": "stdout",
     "output_type": "stream",
     "text": [
      "\n",
      "Размер корпуса \n",
      "имперского: 104363, \n",
      "советского: 253175, \n",
      "современной России: 23430\n",
      "\n"
     ]
    }
   ],
   "source": [
    "imperial_corpus = data[data['dates'] <= revolution_date]['notes_lemmatized'].values\n",
    "soviet_corpus = data[(data['dates'] > revolution_date) & (data['dates'] <= ussr_dissolution_date)]['notes_lemmatized'].values\n",
    "new_time_corpus = data[data['dates'] > ussr_dissolution_date]['notes_lemmatized'].values\n",
    "\n",
    "print(f'''\n",
    "Размер корпуса \n",
    "имперского: {imperial_corpus.shape[0]}, \n",
    "советского: {soviet_corpus.shape[0]}, \n",
    "современной России: {new_time_corpus.shape[0]}\n",
    "''')"
   ]
  },
  {
   "cell_type": "markdown",
   "id": "b3dac45b",
   "metadata": {},
   "source": [
    "Корпус современной России получается каким-то совсем маленьким, поэтому объединим его с советским. \n",
    "\n",
    "Таким образом, получаем два корпуса - имперский и послереволюционный. "
   ]
  },
  {
   "cell_type": "code",
   "execution_count": 25,
   "id": "8e8ac8fc",
   "metadata": {},
   "outputs": [
    {
     "name": "stdout",
     "output_type": "stream",
     "text": [
      "\n",
      "Размер корпуса \n",
      "имперского: 104363, \n",
      "послереволюционный: 276605\n",
      "\n"
     ]
    }
   ],
   "source": [
    "imperial_corpus = imperial_corpus.tolist() \n",
    "soviet_and_new_corpus = soviet_corpus.tolist() + new_time_corpus.tolist()\n",
    "\n",
    "print(f'''\n",
    "Размер корпуса \n",
    "имперского: {len(imperial_corpus)}, \n",
    "послереволюционный: {len(soviet_and_new_corpus)}\n",
    "''')"
   ]
  },
  {
   "cell_type": "markdown",
   "id": "e7242326",
   "metadata": {},
   "source": [
    "Устраивает! Идем дальше"
   ]
  },
  {
   "cell_type": "markdown",
   "id": "8016b00e",
   "metadata": {},
   "source": [
    "## Обучаем Word2Vec\n",
    "\n",
    "Примечание: я обучал модели с эмбеддингами разной размерности - 100 и 300, и почему-то на глаз получилось, что с размерностью 100 получается лучше (соседи более осмысленные), поэтому решил оставить так"
   ]
  },
  {
   "cell_type": "code",
   "execution_count": 3,
   "id": "579e1a55",
   "metadata": {},
   "outputs": [],
   "source": [
    "# имперский w2v \n",
    "\n",
    "# w2v_imperial = Word2Vec.load('models/w2v_imperial.model')\n",
    "\n",
    "w2v_imperial = Word2Vec(sentences=imperial_corpus, vector_size=100, \n",
    "                        window=5, min_count=5, \n",
    "                        workers=4, seed=42)\n",
    "\n",
    "w2v_imperial.save('models/w2v_imperial.model') "
   ]
  },
  {
   "cell_type": "code",
   "execution_count": 13,
   "id": "13b38599",
   "metadata": {},
   "outputs": [
    {
     "data": {
      "text/plain": [
       "[('царица', 0.63942950963974),\n",
       " ('самодержец', 0.6075589060783386),\n",
       " ('государь', 0.584206223487854),\n",
       " ('здравствовать', 0.5795912742614746),\n",
       " ('распутин', 0.5447595119476318),\n",
       " ('савский', 0.542862594127655),\n",
       " ('столыпин', 0.5353745222091675),\n",
       " ('династия', 0.5272672176361084),\n",
       " ('самодержавный', 0.5225521326065063),\n",
       " ('покушение', 0.5214618444442749)]"
      ]
     },
     "execution_count": 13,
     "metadata": {},
     "output_type": "execute_result"
    }
   ],
   "source": [
    "w2v_imperial.wv.most_similar('царь')"
   ]
  },
  {
   "cell_type": "code",
   "execution_count": 6,
   "id": "e40b32a4",
   "metadata": {},
   "outputs": [],
   "source": [
    "# послереволюционный w2v \n",
    "\n",
    "# w2v_soviet_and_new = Word2Vec.load('models/w2v_soviet_and_new.model')\n",
    "\n",
    "w2v_soviet_and_new = Word2Vec(sentences=soviet_and_new_corpus, vector_size=100, \n",
    "                              window=5, min_count=5, \n",
    "                              workers=4, seed=42)\n",
    "w2v_soviet_and_new.save('models/w2v_soviet_and_new.model')"
   ]
  },
  {
   "cell_type": "code",
   "execution_count": 15,
   "id": "21d951d5",
   "metadata": {},
   "outputs": [
    {
     "data": {
      "text/plain": [
       "[('император', 0.7363482713699341),\n",
       " ('государь', 0.7128892540931702),\n",
       " ('престол', 0.693287193775177),\n",
       " ('трон', 0.6759226322174072),\n",
       " ('антихрист', 0.6720199584960938),\n",
       " ('пророк', 0.6490000486373901),\n",
       " ('мученик', 0.6400607824325562),\n",
       " ('самозванец', 0.6225947141647339),\n",
       " ('царица', 0.6220221519470215),\n",
       " ('слуга', 0.6193163394927979)]"
      ]
     },
     "execution_count": 15,
     "metadata": {},
     "output_type": "execute_result"
    }
   ],
   "source": [
    "w2v_soviet_and_new.wv.most_similar('царь')"
   ]
  },
  {
   "cell_type": "markdown",
   "id": "8204a7d4",
   "metadata": {},
   "source": [
    "Несмотря на то, что в послереволюционной модели самые близкие слова немного странные, однако явно видно, что все работает! "
   ]
  },
  {
   "cell_type": "markdown",
   "id": "66baa550",
   "metadata": {},
   "source": [
    "## Анализируем получившиеся модели"
   ]
  },
  {
   "cell_type": "markdown",
   "id": "711470d8",
   "metadata": {},
   "source": [
    "### Подготовка комфортного просмотра\n",
    "\n",
    "Просто посмотрим на ближайших соседей для нескольких слов, у которых в зависимости от периода мог поменяться \"контекст\". \n",
    "\n",
    "Но для начала подготовим функции для визуализации слов на двумерной плоскости. <br>\n",
    "Насколько я понимаю, такие визуализации не очень репрезентативны, так как word2vec не гарантирует того, что две модели будут в одном векторном пространстве. Но, тем не менее, пусть будет "
   ]
  },
  {
   "cell_type": "markdown",
   "id": "754a2ea1",
   "metadata": {},
   "source": [
    "#### Считаем сжатые вектора"
   ]
  },
  {
   "cell_type": "code",
   "execution_count": 47,
   "id": "51d9eb2d",
   "metadata": {},
   "outputs": [],
   "source": [
    "def get_word2embedding(model): \n",
    "    # это очень странная конструкция, \n",
    "    # изначально просто собирался датафрейм, \n",
    "    # но так у меня не работало tsne дальше\n",
    "    \n",
    "    word2index = model.wv.key_to_index \n",
    "    word2embedding = {}\n",
    "    word2idx = {}\n",
    "    \n",
    "    for i, word in enumerate(word2index):\n",
    "        if word in model.wv: \n",
    "            word2embedding[word] = model.wv[word] \n",
    "            word2idx[word] = i\n",
    "        else: \n",
    "            continue\n",
    "        \n",
    "    return word2embedding, word2idx\n",
    "\n",
    "\n",
    "word2embedding_imperial, word2idx_imperial = get_word2embedding(w2v_imperial) \n",
    "word2embedding_soviet_and_new, word2idx_soviet_and_new = get_word2embedding(w2v_soviet_and_new)"
   ]
  },
  {
   "cell_type": "code",
   "execution_count": 48,
   "id": "e0262748",
   "metadata": {},
   "outputs": [],
   "source": [
    "embeddings_imperial = np.array(list(word2embedding_imperial.values())) \n",
    "embeddings_soviet_and_new = np.array(list(word2embedding_soviet_and_new.values())) "
   ]
  },
  {
   "cell_type": "code",
   "execution_count": 49,
   "id": "dc5f90f2",
   "metadata": {},
   "outputs": [],
   "source": [
    "tsne_imperial = TSNE(n_components=2, learning_rate='auto',\n",
    "                   init='random').fit_transform(embeddings_imperial) \n",
    "\n",
    "tsne_soviet_and_new = TSNE(n_components=2, learning_rate='auto',\n",
    "                   init='random').fit_transform(embeddings_soviet_and_new) "
   ]
  },
  {
   "cell_type": "markdown",
   "id": "c59fa990",
   "metadata": {},
   "source": [
    "#### А тут визуализируем"
   ]
  },
  {
   "cell_type": "code",
   "execution_count": 93,
   "id": "e2901056",
   "metadata": {},
   "outputs": [],
   "source": [
    "def prepare_df_for_viz(main_word, model, word2idx, tsne, label): \n",
    "    near_words = [word for word, sim in model.wv.most_similar(main_word)] \n",
    "    near_words += [main_word]\n",
    "    \n",
    "    idxs = [word2idx[word] for word in near_words if word in model.wv] \n",
    "    reducted_embs = tsne[idxs, :] \n",
    "    \n",
    "    return pd.DataFrame({\n",
    "        'word': near_words,\n",
    "        'x': reducted_embs[:, 0], \n",
    "        'y': reducted_embs[:, 1],\n",
    "        'label': [label] * reducted_embs.shape[0]\n",
    "    })\n",
    "    \n",
    "\n",
    "def scatter_viz(word):     \n",
    "    df_viz = pd.concat([\n",
    "        prepare_df_for_viz(word,\n",
    "                           w2v_imperial, \n",
    "                           word2idx_imperial, \n",
    "                           tsne_imperial, \n",
    "                           'имперский период'),\n",
    "        \n",
    "        prepare_df_for_viz(word, \n",
    "                           w2v_soviet_and_new,\n",
    "                           word2idx_soviet_and_new, \n",
    "                           tsne_soviet_and_new,\n",
    "                           'послереволюционный период')\n",
    "    ])\n",
    "    \n",
    "    fig = px.scatter(df_viz, x='x', y='y', text='word', color='label', title=f'Соседи \"{word}\"')  \n",
    "    fig.update_traces(textposition=\"bottom right\")\n",
    "    fig.show('svg')"
   ]
  },
  {
   "cell_type": "markdown",
   "id": "7ce1271f",
   "metadata": {},
   "source": [
    "#### Теперь точно смотрим\n",
    "\n",
    "*Россия*"
   ]
  },
  {
   "cell_type": "code",
   "execution_count": 68,
   "id": "9d7b80cb",
   "metadata": {},
   "outputs": [
    {
     "data": {
      "text/plain": [
       "[('япония', 0.7829626202583313),\n",
       " ('европа', 0.7775269746780396),\n",
       " ('франция', 0.7436200976371765),\n",
       " ('страна', 0.7380068302154541),\n",
       " ('польша', 0.7375180721282959),\n",
       " ('германия', 0.7328639626502991),\n",
       " ('англия', 0.7052403092384338),\n",
       " ('турция', 0.6838904619216919),\n",
       " ('монархия', 0.6682369709014893),\n",
       " ('китай', 0.6680722832679749)]"
      ]
     },
     "execution_count": 68,
     "metadata": {},
     "output_type": "execute_result"
    }
   ],
   "source": [
    "w2v_imperial.wv.most_similar('россия')"
   ]
  },
  {
   "cell_type": "code",
   "execution_count": 69,
   "id": "c8f0a693",
   "metadata": {},
   "outputs": [
    {
     "data": {
      "text/plain": [
       "[('эмиграция', 0.7771986126899719),\n",
       " ('европа', 0.7694542407989502),\n",
       " ('страна', 0.7535380721092224),\n",
       " ('франция', 0.728935718536377),\n",
       " ('польша', 0.715310275554657),\n",
       " ('германия', 0.7130922675132751),\n",
       " ('империя', 0.7095059752464294),\n",
       " ('завоевание', 0.6775190830230713),\n",
       " ('китай', 0.6746687889099121),\n",
       " ('государство', 0.6673640012741089)]"
      ]
     },
     "execution_count": 69,
     "metadata": {},
     "output_type": "execute_result"
    }
   ],
   "source": [
    "w2v_soviet_and_new.wv.most_similar('россия')"
   ]
  },
  {
   "cell_type": "code",
   "execution_count": 94,
   "id": "8e66d1c3",
   "metadata": {},
   "outputs": [
    {
     "data": {
      "image/svg+xml": [
       "<svg class=\"main-svg\" xmlns=\"http://www.w3.org/2000/svg\" xmlns:xlink=\"http://www.w3.org/1999/xlink\" width=\"700\" height=\"500\" style=\"\" viewBox=\"0 0 700 500\"><rect x=\"0\" y=\"0\" width=\"700\" height=\"500\" style=\"fill: rgb(255, 255, 255); fill-opacity: 1;\"/><defs id=\"defs-f4b8af\"><g class=\"clips\"><clipPath id=\"clipf4b8afxyplot\" class=\"plotclip\"><rect width=\"375\" height=\"320\"/></clipPath><clipPath class=\"axesclip\" id=\"clipf4b8afx\"><rect x=\"80\" y=\"0\" width=\"375\" height=\"500\"/></clipPath><clipPath class=\"axesclip\" id=\"clipf4b8afy\"><rect x=\"0\" y=\"100\" width=\"700\" height=\"320\"/></clipPath><clipPath class=\"axesclip\" id=\"clipf4b8afxy\"><rect x=\"80\" y=\"100\" width=\"375\" height=\"320\"/></clipPath></g><g class=\"gradients\"/><g class=\"patterns\"/></defs><g class=\"bglayer\"><rect class=\"bg\" x=\"80\" y=\"100\" width=\"375\" height=\"320\" style=\"fill: rgb(229, 236, 246); fill-opacity: 1; stroke-width: 0;\"/></g><g class=\"layer-below\"><g class=\"imagelayer\"/><g class=\"shapelayer\"/></g><g class=\"cartesianlayer\"><g class=\"subplot xy\"><g class=\"layer-subplot\"><g class=\"shapelayer\"/><g class=\"imagelayer\"/></g><g class=\"minor-gridlayer\"><g class=\"x\"/><g class=\"y\"/></g><g class=\"gridlayer\"><g class=\"x\"><path class=\"xgrid crisp\" transform=\"translate(183.55,0)\" d=\"M0,100v320\" style=\"stroke: rgb(255, 255, 255); stroke-opacity: 1; stroke-width: 1px;\"/><path class=\"xgrid crisp\" transform=\"translate(277.15,0)\" d=\"M0,100v320\" style=\"stroke: rgb(255, 255, 255); stroke-opacity: 1; stroke-width: 1px;\"/><path class=\"xgrid crisp\" transform=\"translate(370.76,0)\" d=\"M0,100v320\" style=\"stroke: rgb(255, 255, 255); stroke-opacity: 1; stroke-width: 1px;\"/></g><g class=\"y\"><path class=\"ygrid crisp\" transform=\"translate(0,411.38)\" d=\"M80,0h375\" style=\"stroke: rgb(255, 255, 255); stroke-opacity: 1; stroke-width: 1px;\"/><path class=\"ygrid crisp\" transform=\"translate(0,349.48)\" d=\"M80,0h375\" style=\"stroke: rgb(255, 255, 255); stroke-opacity: 1; stroke-width: 1px;\"/><path class=\"ygrid crisp\" transform=\"translate(0,287.57)\" d=\"M80,0h375\" style=\"stroke: rgb(255, 255, 255); stroke-opacity: 1; stroke-width: 1px;\"/><path class=\"ygrid crisp\" transform=\"translate(0,225.66)\" d=\"M80,0h375\" style=\"stroke: rgb(255, 255, 255); stroke-opacity: 1; stroke-width: 1px;\"/><path class=\"ygrid crisp\" transform=\"translate(0,163.75)\" d=\"M80,0h375\" style=\"stroke: rgb(255, 255, 255); stroke-opacity: 1; stroke-width: 1px;\"/><path class=\"ygrid crisp\" transform=\"translate(0,101.84)\" d=\"M80,0h375\" style=\"stroke: rgb(255, 255, 255); stroke-opacity: 1; stroke-width: 1px;\"/></g></g><g class=\"zerolinelayer\"><path class=\"xzl zl crisp\" transform=\"translate(89.95,0)\" d=\"M0,100v320\" style=\"stroke: rgb(255, 255, 255); stroke-opacity: 1; stroke-width: 2px;\"/></g><path class=\"xlines-below\"/><path class=\"ylines-below\"/><g class=\"overlines-below\"/><g class=\"xaxislayer-below\"/><g class=\"yaxislayer-below\"/><g class=\"overaxes-below\"/><g class=\"plot\" transform=\"translate(80,100)\" clip-path=\"url(#clipf4b8afxyplot)\"><g class=\"scatterlayer mlayer\"><g class=\"trace scatter tracec3a5ec\" style=\"stroke-miterlimit: 2; opacity: 1;\"><g class=\"fills\"/><g class=\"errorbars\"/><g class=\"lines\"/><g class=\"points\"><path class=\"point\" transform=\"translate(352.37,260.52)\" d=\"M3,0A3,3 0 1,1 0,-3A3,3 0 0,1 3,0Z\" style=\"opacity: 1; stroke-width: 0px; fill: rgb(99, 110, 250); fill-opacity: 1;\"/><path class=\"point\" transform=\"translate(351.82,261.99)\" d=\"M3,0A3,3 0 1,1 0,-3A3,3 0 0,1 3,0Z\" style=\"opacity: 1; stroke-width: 0px; fill: rgb(99, 110, 250); fill-opacity: 1;\"/><path class=\"point\" transform=\"translate(351.38,262)\" d=\"M3,0A3,3 0 1,1 0,-3A3,3 0 0,1 3,0Z\" style=\"opacity: 1; stroke-width: 0px; fill: rgb(99, 110, 250); fill-opacity: 1;\"/><path class=\"point\" transform=\"translate(341.79,300.25)\" d=\"M3,0A3,3 0 1,1 0,-3A3,3 0 0,1 3,0Z\" style=\"opacity: 1; stroke-width: 0px; fill: rgb(99, 110, 250); fill-opacity: 1;\"/><path class=\"point\" transform=\"translate(349.28,261.89)\" d=\"M3,0A3,3 0 1,1 0,-3A3,3 0 0,1 3,0Z\" style=\"opacity: 1; stroke-width: 0px; fill: rgb(99, 110, 250); fill-opacity: 1;\"/><path class=\"point\" transform=\"translate(351.38,262.08)\" d=\"M3,0A3,3 0 1,1 0,-3A3,3 0 0,1 3,0Z\" style=\"opacity: 1; stroke-width: 0px; fill: rgb(99, 110, 250); fill-opacity: 1;\"/><path class=\"point\" transform=\"translate(351.36,261.86)\" d=\"M3,0A3,3 0 1,1 0,-3A3,3 0 0,1 3,0Z\" style=\"opacity: 1; stroke-width: 0px; fill: rgb(99, 110, 250); fill-opacity: 1;\"/><path class=\"point\" transform=\"translate(350.12,261.61)\" d=\"M3,0A3,3 0 1,1 0,-3A3,3 0 0,1 3,0Z\" style=\"opacity: 1; stroke-width: 0px; fill: rgb(99, 110, 250); fill-opacity: 1;\"/><path class=\"point\" transform=\"translate(334.34,283.06)\" d=\"M3,0A3,3 0 1,1 0,-3A3,3 0 0,1 3,0Z\" style=\"opacity: 1; stroke-width: 0px; fill: rgb(99, 110, 250); fill-opacity: 1;\"/><path class=\"point\" transform=\"translate(352.5,259.74)\" d=\"M3,0A3,3 0 1,1 0,-3A3,3 0 0,1 3,0Z\" style=\"opacity: 1; stroke-width: 0px; fill: rgb(99, 110, 250); fill-opacity: 1;\"/><path class=\"point\" transform=\"translate(351.98,262.33)\" d=\"M3,0A3,3 0 1,1 0,-3A3,3 0 0,1 3,0Z\" style=\"opacity: 1; stroke-width: 0px; fill: rgb(99, 110, 250); fill-opacity: 1;\"/></g><g class=\"text\"><g class=\"textpoint\" transform=\"translate(4.75,13.75)\"><text x=\"352.37\" y=\"260.52\" text-anchor=\"start\" style=\"font-family: 'Open Sans', verdana, arial, sans-serif; font-size: 12px; fill: rgb(42, 63, 95); fill-opacity: 1; white-space: pre;\">япония</text></g><g class=\"textpoint\" transform=\"translate(4.75,13.75)\"><text x=\"351.82\" y=\"261.99\" text-anchor=\"start\" style=\"font-family: 'Open Sans', verdana, arial, sans-serif; font-size: 12px; fill: rgb(42, 63, 95); fill-opacity: 1; white-space: pre;\">европа</text></g><g class=\"textpoint\" transform=\"translate(4.75,13.75)\"><text x=\"351.38\" y=\"262\" text-anchor=\"start\" style=\"font-family: 'Open Sans', verdana, arial, sans-serif; font-size: 12px; fill: rgb(42, 63, 95); fill-opacity: 1; white-space: pre;\">франция</text></g><g class=\"textpoint\" transform=\"translate(4.75,13.75)\"><text x=\"341.79\" y=\"300.25\" text-anchor=\"start\" style=\"font-family: 'Open Sans', verdana, arial, sans-serif; font-size: 12px; fill: rgb(42, 63, 95); fill-opacity: 1; white-space: pre;\">страна</text></g><g class=\"textpoint\" transform=\"translate(4.75,13.75)\"><text x=\"349.28\" y=\"261.89\" text-anchor=\"start\" style=\"font-family: 'Open Sans', verdana, arial, sans-serif; font-size: 12px; fill: rgb(42, 63, 95); fill-opacity: 1; white-space: pre;\">польша</text></g><g class=\"textpoint\" transform=\"translate(4.75,13.75)\"><text x=\"351.38\" y=\"262.08\" text-anchor=\"start\" style=\"font-family: 'Open Sans', verdana, arial, sans-serif; font-size: 12px; fill: rgb(42, 63, 95); fill-opacity: 1; white-space: pre;\">германия</text></g><g class=\"textpoint\" transform=\"translate(4.75,13.75)\"><text x=\"351.36\" y=\"261.86\" text-anchor=\"start\" style=\"font-family: 'Open Sans', verdana, arial, sans-serif; font-size: 12px; fill: rgb(42, 63, 95); fill-opacity: 1; white-space: pre;\">англия</text></g><g class=\"textpoint\" transform=\"translate(4.75,13.75)\"><text x=\"350.12\" y=\"261.61\" text-anchor=\"start\" style=\"font-family: 'Open Sans', verdana, arial, sans-serif; font-size: 12px; fill: rgb(42, 63, 95); fill-opacity: 1; white-space: pre;\">турция</text></g><g class=\"textpoint\" transform=\"translate(4.75,13.75)\"><text x=\"334.34\" y=\"283.06\" text-anchor=\"start\" style=\"font-family: 'Open Sans', verdana, arial, sans-serif; font-size: 12px; fill: rgb(42, 63, 95); fill-opacity: 1; white-space: pre;\">монархия</text></g><g class=\"textpoint\" transform=\"translate(4.75,13.75)\"><text x=\"352.5\" y=\"259.74\" text-anchor=\"start\" style=\"font-family: 'Open Sans', verdana, arial, sans-serif; font-size: 12px; fill: rgb(42, 63, 95); fill-opacity: 1; white-space: pre;\">китай</text></g><g class=\"textpoint\" transform=\"translate(4.75,13.75)\"><text x=\"351.98\" y=\"262.33\" text-anchor=\"start\" style=\"font-family: 'Open Sans', verdana, arial, sans-serif; font-size: 12px; fill: rgb(42, 63, 95); fill-opacity: 1; white-space: pre;\">россия</text></g></g></g><g class=\"trace scatter trace8d7263\" style=\"stroke-miterlimit: 2; opacity: 1;\"><g class=\"fills\"/><g class=\"errorbars\"/><g class=\"lines\"/><g class=\"points\"><path class=\"point\" transform=\"translate(279.35,247.62)\" d=\"M3,0A3,3 0 1,1 0,-3A3,3 0 0,1 3,0Z\" style=\"opacity: 1; stroke-width: 0px; fill: rgb(239, 85, 59); fill-opacity: 1;\"/><path class=\"point\" transform=\"translate(274.65,248.98)\" d=\"M3,0A3,3 0 1,1 0,-3A3,3 0 0,1 3,0Z\" style=\"opacity: 1; stroke-width: 0px; fill: rgb(239, 85, 59); fill-opacity: 1;\"/><path class=\"point\" transform=\"translate(277.56,247.85)\" d=\"M3,0A3,3 0 1,1 0,-3A3,3 0 0,1 3,0Z\" style=\"opacity: 1; stroke-width: 0px; fill: rgb(239, 85, 59); fill-opacity: 1;\"/><path class=\"point\" transform=\"translate(273.19,249.87)\" d=\"M3,0A3,3 0 1,1 0,-3A3,3 0 0,1 3,0Z\" style=\"opacity: 1; stroke-width: 0px; fill: rgb(239, 85, 59); fill-opacity: 1;\"/><path class=\"point\" transform=\"translate(272.22,249.73)\" d=\"M3,0A3,3 0 1,1 0,-3A3,3 0 0,1 3,0Z\" style=\"opacity: 1; stroke-width: 0px; fill: rgb(239, 85, 59); fill-opacity: 1;\"/><path class=\"point\" transform=\"translate(273.44,249.26)\" d=\"M3,0A3,3 0 1,1 0,-3A3,3 0 0,1 3,0Z\" style=\"opacity: 1; stroke-width: 0px; fill: rgb(239, 85, 59); fill-opacity: 1;\"/><path class=\"point\" transform=\"translate(25.09,25.69)\" d=\"M3,0A3,3 0 1,1 0,-3A3,3 0 0,1 3,0Z\" style=\"opacity: 1; stroke-width: 0px; fill: rgb(239, 85, 59); fill-opacity: 1;\"/><path class=\"point\" transform=\"translate(23.89,25.17)\" d=\"M3,0A3,3 0 1,1 0,-3A3,3 0 0,1 3,0Z\" style=\"opacity: 1; stroke-width: 0px; fill: rgb(239, 85, 59); fill-opacity: 1;\"/><path class=\"point\" transform=\"translate(272.88,248.72)\" d=\"M3,0A3,3 0 1,1 0,-3A3,3 0 0,1 3,0Z\" style=\"opacity: 1; stroke-width: 0px; fill: rgb(239, 85, 59); fill-opacity: 1;\"/><path class=\"point\" transform=\"translate(22.5,19.75)\" d=\"M3,0A3,3 0 1,1 0,-3A3,3 0 0,1 3,0Z\" style=\"opacity: 1; stroke-width: 0px; fill: rgb(239, 85, 59); fill-opacity: 1;\"/><path class=\"point\" transform=\"translate(278.08,247.88)\" d=\"M3,0A3,3 0 1,1 0,-3A3,3 0 0,1 3,0Z\" style=\"opacity: 1; stroke-width: 0px; fill: rgb(239, 85, 59); fill-opacity: 1;\"/></g><g class=\"text\"><g class=\"textpoint\" transform=\"translate(4.75,13.75)\"><text x=\"279.35\" y=\"247.62\" text-anchor=\"start\" style=\"font-family: 'Open Sans', verdana, arial, sans-serif; font-size: 12px; fill: rgb(42, 63, 95); fill-opacity: 1; white-space: pre;\">эмиграция</text></g><g class=\"textpoint\" transform=\"translate(4.75,13.75)\"><text x=\"274.65\" y=\"248.98\" text-anchor=\"start\" style=\"font-family: 'Open Sans', verdana, arial, sans-serif; font-size: 12px; fill: rgb(42, 63, 95); fill-opacity: 1; white-space: pre;\">европа</text></g><g class=\"textpoint\" transform=\"translate(4.75,13.75)\"><text x=\"277.56\" y=\"247.85\" text-anchor=\"start\" style=\"font-family: 'Open Sans', verdana, arial, sans-serif; font-size: 12px; fill: rgb(42, 63, 95); fill-opacity: 1; white-space: pre;\">страна</text></g><g class=\"textpoint\" transform=\"translate(4.75,13.75)\"><text x=\"273.19\" y=\"249.87\" text-anchor=\"start\" style=\"font-family: 'Open Sans', verdana, arial, sans-serif; font-size: 12px; fill: rgb(42, 63, 95); fill-opacity: 1; white-space: pre;\">франция</text></g><g class=\"textpoint\" transform=\"translate(4.75,13.75)\"><text x=\"272.22\" y=\"249.73\" text-anchor=\"start\" style=\"font-family: 'Open Sans', verdana, arial, sans-serif; font-size: 12px; fill: rgb(42, 63, 95); fill-opacity: 1; white-space: pre;\">польша</text></g><g class=\"textpoint\" transform=\"translate(4.75,13.75)\"><text x=\"273.44\" y=\"249.26\" text-anchor=\"start\" style=\"font-family: 'Open Sans', verdana, arial, sans-serif; font-size: 12px; fill: rgb(42, 63, 95); fill-opacity: 1; white-space: pre;\">германия</text></g><g class=\"textpoint\" transform=\"translate(4.75,13.75)\"><text x=\"25.09\" y=\"25.69\" text-anchor=\"start\" style=\"font-family: 'Open Sans', verdana, arial, sans-serif; font-size: 12px; fill: rgb(42, 63, 95); fill-opacity: 1; white-space: pre;\">империя</text></g><g class=\"textpoint\" transform=\"translate(4.75,13.75)\"><text x=\"23.89\" y=\"25.17\" text-anchor=\"start\" style=\"font-family: 'Open Sans', verdana, arial, sans-serif; font-size: 12px; fill: rgb(42, 63, 95); fill-opacity: 1; white-space: pre;\">завоевание</text></g><g class=\"textpoint\" transform=\"translate(4.75,13.75)\"><text x=\"272.88\" y=\"248.72\" text-anchor=\"start\" style=\"font-family: 'Open Sans', verdana, arial, sans-serif; font-size: 12px; fill: rgb(42, 63, 95); fill-opacity: 1; white-space: pre;\">китай</text></g><g class=\"textpoint\" transform=\"translate(4.75,13.75)\"><text x=\"22.5\" y=\"19.75\" text-anchor=\"start\" style=\"font-family: 'Open Sans', verdana, arial, sans-serif; font-size: 12px; fill: rgb(42, 63, 95); fill-opacity: 1; white-space: pre;\">государство</text></g><g class=\"textpoint\" transform=\"translate(4.75,13.75)\"><text x=\"278.08\" y=\"247.88\" text-anchor=\"start\" style=\"font-family: 'Open Sans', verdana, arial, sans-serif; font-size: 12px; fill: rgb(42, 63, 95); fill-opacity: 1; white-space: pre;\">россия</text></g></g></g></g></g><g class=\"overplot\"/><path class=\"xlines-above crisp\" d=\"M0,0\" style=\"fill: none;\"/><path class=\"ylines-above crisp\" d=\"M0,0\" style=\"fill: none;\"/><g class=\"overlines-above\"/><g class=\"xaxislayer-above\"><g class=\"xtick\"><text text-anchor=\"middle\" x=\"0\" y=\"433\" transform=\"translate(89.95,0)\" style=\"font-family: 'Open Sans', verdana, arial, sans-serif; font-size: 12px; fill: rgb(42, 63, 95); fill-opacity: 1; white-space: pre; opacity: 1;\">0</text></g><g class=\"xtick\"><text text-anchor=\"middle\" x=\"0\" y=\"433\" style=\"font-family: 'Open Sans', verdana, arial, sans-serif; font-size: 12px; fill: rgb(42, 63, 95); fill-opacity: 1; white-space: pre; opacity: 1;\" transform=\"translate(183.55,0)\">20</text></g><g class=\"xtick\"><text text-anchor=\"middle\" x=\"0\" y=\"433\" style=\"font-family: 'Open Sans', verdana, arial, sans-serif; font-size: 12px; fill: rgb(42, 63, 95); fill-opacity: 1; white-space: pre; opacity: 1;\" transform=\"translate(277.15,0)\">40</text></g><g class=\"xtick\"><text text-anchor=\"middle\" x=\"0\" y=\"433\" style=\"font-family: 'Open Sans', verdana, arial, sans-serif; font-size: 12px; fill: rgb(42, 63, 95); fill-opacity: 1; white-space: pre; opacity: 1;\" transform=\"translate(370.76,0)\">60</text></g></g><g class=\"yaxislayer-above\"><g class=\"ytick\"><text text-anchor=\"end\" x=\"79\" y=\"4.199999999999999\" transform=\"translate(0,411.38)\" style=\"font-family: 'Open Sans', verdana, arial, sans-serif; font-size: 12px; fill: rgb(42, 63, 95); fill-opacity: 1; white-space: pre; opacity: 1;\">10</text></g><g class=\"ytick\"><text text-anchor=\"end\" x=\"79\" y=\"4.199999999999999\" style=\"font-family: 'Open Sans', verdana, arial, sans-serif; font-size: 12px; fill: rgb(42, 63, 95); fill-opacity: 1; white-space: pre; opacity: 1;\" transform=\"translate(0,349.48)\">20</text></g><g class=\"ytick\"><text text-anchor=\"end\" x=\"79\" y=\"4.199999999999999\" style=\"font-family: 'Open Sans', verdana, arial, sans-serif; font-size: 12px; fill: rgb(42, 63, 95); fill-opacity: 1; white-space: pre; opacity: 1;\" transform=\"translate(0,287.57)\">30</text></g><g class=\"ytick\"><text text-anchor=\"end\" x=\"79\" y=\"4.199999999999999\" style=\"font-family: 'Open Sans', verdana, arial, sans-serif; font-size: 12px; fill: rgb(42, 63, 95); fill-opacity: 1; white-space: pre; opacity: 1;\" transform=\"translate(0,225.66)\">40</text></g><g class=\"ytick\"><text text-anchor=\"end\" x=\"79\" y=\"4.199999999999999\" style=\"font-family: 'Open Sans', verdana, arial, sans-serif; font-size: 12px; fill: rgb(42, 63, 95); fill-opacity: 1; white-space: pre; opacity: 1;\" transform=\"translate(0,163.75)\">50</text></g><g class=\"ytick\"><text text-anchor=\"end\" x=\"79\" y=\"4.199999999999999\" style=\"font-family: 'Open Sans', verdana, arial, sans-serif; font-size: 12px; fill: rgb(42, 63, 95); fill-opacity: 1; white-space: pre; opacity: 1;\" transform=\"translate(0,101.84)\">60</text></g></g><g class=\"overaxes-above\"/></g></g><g class=\"polarlayer\"/><g class=\"smithlayer\"/><g class=\"ternarylayer\"/><g class=\"geolayer\"/><g class=\"funnelarealayer\"/><g class=\"pielayer\"/><g class=\"iciclelayer\"/><g class=\"treemaplayer\"/><g class=\"sunburstlayer\"/><g class=\"glimages\"/><defs id=\"topdefs-f4b8af\"><g class=\"clips\"/><clipPath id=\"legendf4b8af\"><rect width=\"225\" height=\"67\" x=\"0\" y=\"0\"/></clipPath></defs><g class=\"layer-above\"><g class=\"imagelayer\"/><g class=\"shapelayer\"/></g><g class=\"infolayer\"><g class=\"legend\" pointer-events=\"all\" transform=\"translate(462.5,100)\"><rect class=\"bg\" shape-rendering=\"crispEdges\" width=\"225\" height=\"67\" x=\"0\" y=\"0\" style=\"stroke: rgb(68, 68, 68); stroke-opacity: 1; fill: rgb(255, 255, 255); fill-opacity: 1; stroke-width: 0px;\"/><g class=\"scrollbox\" transform=\"\" clip-path=\"url(#legendf4b8af)\"><text class=\"legendtitletext\" text-anchor=\"start\" x=\"2\" y=\"18.2\" style=\"font-family: 'Open Sans', verdana, arial, sans-serif; font-size: 14px; fill: rgb(42, 63, 95); fill-opacity: 1; white-space: pre;\">label</text><g class=\"groups\" transform=\"\"><g class=\"traces\" transform=\"translate(0,32.7)\" style=\"opacity: 1;\"><text class=\"legendtext\" text-anchor=\"start\" x=\"40\" y=\"4.680000000000001\" style=\"font-family: 'Open Sans', verdana, arial, sans-serif; font-size: 12px; fill: rgb(42, 63, 95); fill-opacity: 1; white-space: pre;\">имперский период</text><g class=\"layers\" style=\"opacity: 1;\"><g class=\"legendfill\"/><g class=\"legendlines\"/><g class=\"legendsymbols\"><g class=\"legendpoints\"><path class=\"scatterpts\" transform=\"translate(20,0)\" d=\"M3,0A3,3 0 1,1 0,-3A3,3 0 0,1 3,0Z\" style=\"opacity: 1; stroke-width: 0px; fill: rgb(99, 110, 250); fill-opacity: 1;\"/></g></g></g><rect class=\"legendtoggle\" x=\"0\" y=\"-9.5\" width=\"219.921875\" height=\"19\" style=\"fill: rgb(0, 0, 0); fill-opacity: 0;\"/></g></g><g class=\"groups\" transform=\"\"><g class=\"traces\" transform=\"translate(0,51.7)\" style=\"opacity: 1;\"><text class=\"legendtext\" text-anchor=\"start\" x=\"40\" y=\"4.680000000000001\" style=\"font-family: 'Open Sans', verdana, arial, sans-serif; font-size: 12px; fill: rgb(42, 63, 95); fill-opacity: 1; white-space: pre;\">послереволюционный период</text><g class=\"layers\" style=\"opacity: 1;\"><g class=\"legendfill\"/><g class=\"legendlines\"/><g class=\"legendsymbols\"><g class=\"legendpoints\"><path class=\"scatterpts\" transform=\"translate(20,0)\" d=\"M3,0A3,3 0 1,1 0,-3A3,3 0 0,1 3,0Z\" style=\"opacity: 1; stroke-width: 0px; fill: rgb(239, 85, 59); fill-opacity: 1;\"/></g></g></g><rect class=\"legendtoggle\" x=\"0\" y=\"-9.5\" width=\"219.921875\" height=\"19\" style=\"fill: rgb(0, 0, 0); fill-opacity: 0;\"/></g></g></g><rect class=\"scrollbar\" rx=\"20\" ry=\"3\" width=\"0\" height=\"0\" x=\"0\" y=\"0\" style=\"fill: rgb(128, 139, 164); fill-opacity: 1;\"/></g><g class=\"g-gtitle\"><text class=\"gtitle\" x=\"35\" y=\"50\" text-anchor=\"start\" dy=\"0em\" style=\"font-family: 'Open Sans', verdana, arial, sans-serif; font-size: 17px; fill: rgb(42, 63, 95); opacity: 1; font-weight: normal; white-space: pre;\">Соседи \"россия\"</text></g><g class=\"g-xtitle\"><text class=\"xtitle\" x=\"267.5\" y=\"461.3\" text-anchor=\"middle\" style=\"font-family: 'Open Sans', verdana, arial, sans-serif; font-size: 14px; fill: rgb(42, 63, 95); opacity: 1; font-weight: normal; white-space: pre;\">x</text></g><g class=\"g-ytitle\"><text class=\"ytitle\" transform=\"rotate(-90,40.965625,260)\" x=\"40.965625\" y=\"260\" text-anchor=\"middle\" style=\"font-family: 'Open Sans', verdana, arial, sans-serif; font-size: 14px; fill: rgb(42, 63, 95); opacity: 1; font-weight: normal; white-space: pre;\">y</text></g></g></svg>"
      ]
     },
     "metadata": {},
     "output_type": "display_data"
    }
   ],
   "source": [
    "scatter_viz('россия')"
   ]
  },
  {
   "cell_type": "markdown",
   "id": "ba8c256f",
   "metadata": {},
   "source": [
    "Визуализация, к сожалению, действительно получилась нерепрезентативной, однако если посмотреть на самих соседей, то явно становится заметна разница - ближе всего к `\"россия\"` в послереволюционной модели `\"эмиграция\"`, что, конечно, соответствует времени. \n",
    "\n",
    "Также интересно, что в послереволюционном периоде появляется слово `\"завоевание\"`, в отличие от имперского. \n",
    "\n",
    "P.S. Картинки немного обрезаны из-за того, что иначе их сохранить нельзя( "
   ]
  },
  {
   "cell_type": "markdown",
   "id": "9722d9d7",
   "metadata": {},
   "source": [
    "*Война*"
   ]
  },
  {
   "cell_type": "code",
   "execution_count": 33,
   "id": "535e7f40",
   "metadata": {},
   "outputs": [
    {
     "data": {
      "text/plain": [
       "[('кампания', 0.6693844199180603),\n",
       " ('революция', 0.5995640754699707),\n",
       " ('осада', 0.5842633247375488),\n",
       " ('восстание', 0.5767368674278259),\n",
       " ('германия', 0.5681515336036682),\n",
       " ('австрия', 0.5678912401199341),\n",
       " ('турция', 0.5629974603652954),\n",
       " ('борьба', 0.5627136826515198),\n",
       " ('сражение', 0.5602962374687195),\n",
       " ('европа', 0.5479385852813721)]"
      ]
     },
     "execution_count": 33,
     "metadata": {},
     "output_type": "execute_result"
    }
   ],
   "source": [
    "w2v_imperial.wv.most_similar('война')"
   ]
  },
  {
   "cell_type": "code",
   "execution_count": 34,
   "id": "5f27856e",
   "metadata": {},
   "outputs": [
    {
     "data": {
      "text/plain": [
       "[('бойня', 0.5979275107383728),\n",
       " ('революция', 0.5797866582870483),\n",
       " ('оккупация', 0.5737053751945496),\n",
       " ('битва', 0.5708349943161011),\n",
       " ('фашизм', 0.5704063177108765),\n",
       " ('борьба', 0.5690760612487793),\n",
       " ('послевоенный', 0.5617782473564148),\n",
       " ('воевать', 0.5504059791564941),\n",
       " ('сражение', 0.5488776564598083),\n",
       " ('схватка', 0.5422282218933105)]"
      ]
     },
     "execution_count": 34,
     "metadata": {},
     "output_type": "execute_result"
    }
   ],
   "source": [
    "w2v_soviet_and_new.wv.most_similar('война')"
   ]
  },
  {
   "cell_type": "code",
   "execution_count": 95,
   "id": "9f6d877e",
   "metadata": {},
   "outputs": [
    {
     "data": {
      "image/svg+xml": [
       "<svg class=\"main-svg\" xmlns=\"http://www.w3.org/2000/svg\" xmlns:xlink=\"http://www.w3.org/1999/xlink\" width=\"700\" height=\"500\" style=\"\" viewBox=\"0 0 700 500\"><rect x=\"0\" y=\"0\" width=\"700\" height=\"500\" style=\"fill: rgb(255, 255, 255); fill-opacity: 1;\"/><defs id=\"defs-55bde2\"><g class=\"clips\"><clipPath id=\"clip55bde2xyplot\" class=\"plotclip\"><rect width=\"375\" height=\"320\"/></clipPath><clipPath class=\"axesclip\" id=\"clip55bde2x\"><rect x=\"80\" y=\"0\" width=\"375\" height=\"500\"/></clipPath><clipPath class=\"axesclip\" id=\"clip55bde2y\"><rect x=\"0\" y=\"100\" width=\"700\" height=\"320\"/></clipPath><clipPath class=\"axesclip\" id=\"clip55bde2xy\"><rect x=\"80\" y=\"100\" width=\"375\" height=\"320\"/></clipPath></g><g class=\"gradients\"/><g class=\"patterns\"/></defs><g class=\"bglayer\"><rect class=\"bg\" x=\"80\" y=\"100\" width=\"375\" height=\"320\" style=\"fill: rgb(229, 236, 246); fill-opacity: 1; stroke-width: 0;\"/></g><g class=\"layer-below\"><g class=\"imagelayer\"/><g class=\"shapelayer\"/></g><g class=\"cartesianlayer\"><g class=\"subplot xy\"><g class=\"layer-subplot\"><g class=\"shapelayer\"/><g class=\"imagelayer\"/></g><g class=\"minor-gridlayer\"><g class=\"x\"/><g class=\"y\"/></g><g class=\"gridlayer\"><g class=\"x\"><path class=\"xgrid crisp\" transform=\"translate(181.57,0)\" d=\"M0,100v320\" style=\"stroke: rgb(255, 255, 255); stroke-opacity: 1; stroke-width: 1px;\"/><path class=\"xgrid crisp\" transform=\"translate(276.18,0)\" d=\"M0,100v320\" style=\"stroke: rgb(255, 255, 255); stroke-opacity: 1; stroke-width: 1px;\"/><path class=\"xgrid crisp\" transform=\"translate(370.78,0)\" d=\"M0,100v320\" style=\"stroke: rgb(255, 255, 255); stroke-opacity: 1; stroke-width: 1px;\"/></g><g class=\"y\"><path class=\"ygrid crisp\" transform=\"translate(0,398.78)\" d=\"M80,0h375\" style=\"stroke: rgb(255, 255, 255); stroke-opacity: 1; stroke-width: 1px;\"/><path class=\"ygrid crisp\" transform=\"translate(0,342.89)\" d=\"M80,0h375\" style=\"stroke: rgb(255, 255, 255); stroke-opacity: 1; stroke-width: 1px;\"/><path class=\"ygrid crisp\" transform=\"translate(0,231.12)\" d=\"M80,0h375\" style=\"stroke: rgb(255, 255, 255); stroke-opacity: 1; stroke-width: 1px;\"/><path class=\"ygrid crisp\" transform=\"translate(0,175.24)\" d=\"M80,0h375\" style=\"stroke: rgb(255, 255, 255); stroke-opacity: 1; stroke-width: 1px;\"/><path class=\"ygrid crisp\" transform=\"translate(0,119.35)\" d=\"M80,0h375\" style=\"stroke: rgb(255, 255, 255); stroke-opacity: 1; stroke-width: 1px;\"/></g></g><g class=\"zerolinelayer\"><path class=\"xzl zl crisp\" transform=\"translate(86.96,0)\" d=\"M0,100v320\" style=\"stroke: rgb(255, 255, 255); stroke-opacity: 1; stroke-width: 2px;\"/><path class=\"yzl zl crisp\" transform=\"translate(0,287.01)\" d=\"M80,0h375\" style=\"stroke: rgb(255, 255, 255); stroke-opacity: 1; stroke-width: 2px;\"/></g><path class=\"xlines-below\"/><path class=\"ylines-below\"/><g class=\"overlines-below\"/><g class=\"xaxislayer-below\"/><g class=\"yaxislayer-below\"/><g class=\"overaxes-below\"/><g class=\"plot\" transform=\"translate(80,100)\" clip-path=\"url(#clip55bde2xyplot)\"><g class=\"scatterlayer mlayer\"><g class=\"trace scatter trace7f33db\" style=\"stroke-miterlimit: 2; opacity: 1;\"><g class=\"fills\"/><g class=\"errorbars\"/><g class=\"lines\"/><g class=\"points\"><path class=\"point\" transform=\"translate(336.9,137.65)\" d=\"M3,0A3,3 0 1,1 0,-3A3,3 0 0,1 3,0Z\" style=\"opacity: 1; stroke-width: 0px; fill: rgb(99, 110, 250); fill-opacity: 1;\"/><path class=\"point\" transform=\"translate(334.99,143.63)\" d=\"M3,0A3,3 0 1,1 0,-3A3,3 0 0,1 3,0Z\" style=\"opacity: 1; stroke-width: 0px; fill: rgb(99, 110, 250); fill-opacity: 1;\"/><path class=\"point\" transform=\"translate(336.68,137.7)\" d=\"M3,0A3,3 0 1,1 0,-3A3,3 0 0,1 3,0Z\" style=\"opacity: 1; stroke-width: 0px; fill: rgb(99, 110, 250); fill-opacity: 1;\"/><path class=\"point\" transform=\"translate(329.42,138.15)\" d=\"M3,0A3,3 0 1,1 0,-3A3,3 0 0,1 3,0Z\" style=\"opacity: 1; stroke-width: 0px; fill: rgb(99, 110, 250); fill-opacity: 1;\"/><path class=\"point\" transform=\"translate(352.05,136.81)\" d=\"M3,0A3,3 0 1,1 0,-3A3,3 0 0,1 3,0Z\" style=\"opacity: 1; stroke-width: 0px; fill: rgb(99, 110, 250); fill-opacity: 1;\"/><path class=\"point\" transform=\"translate(351.32,136.78)\" d=\"M3,0A3,3 0 1,1 0,-3A3,3 0 0,1 3,0Z\" style=\"opacity: 1; stroke-width: 0px; fill: rgb(99, 110, 250); fill-opacity: 1;\"/><path class=\"point\" transform=\"translate(350.78,136.6)\" d=\"M3,0A3,3 0 1,1 0,-3A3,3 0 0,1 3,0Z\" style=\"opacity: 1; stroke-width: 0px; fill: rgb(99, 110, 250); fill-opacity: 1;\"/><path class=\"point\" transform=\"translate(310.4,168.76)\" d=\"M3,0A3,3 0 1,1 0,-3A3,3 0 0,1 3,0Z\" style=\"opacity: 1; stroke-width: 0px; fill: rgb(99, 110, 250); fill-opacity: 1;\"/><path class=\"point\" transform=\"translate(333.3,300.25)\" d=\"M3,0A3,3 0 1,1 0,-3A3,3 0 0,1 3,0Z\" style=\"opacity: 1; stroke-width: 0px; fill: rgb(99, 110, 250); fill-opacity: 1;\"/><path class=\"point\" transform=\"translate(352.5,136.77)\" d=\"M3,0A3,3 0 1,1 0,-3A3,3 0 0,1 3,0Z\" style=\"opacity: 1; stroke-width: 0px; fill: rgb(99, 110, 250); fill-opacity: 1;\"/><path class=\"point\" transform=\"translate(337.02,137.73)\" d=\"M3,0A3,3 0 1,1 0,-3A3,3 0 0,1 3,0Z\" style=\"opacity: 1; stroke-width: 0px; fill: rgb(99, 110, 250); fill-opacity: 1;\"/></g><g class=\"text\"><g class=\"textpoint\" transform=\"translate(4.75,13.75)\"><text x=\"336.9\" y=\"137.65\" text-anchor=\"start\" style=\"font-family: 'Open Sans', verdana, arial, sans-serif; font-size: 12px; fill: rgb(42, 63, 95); fill-opacity: 1; white-space: pre;\">кампания</text></g><g class=\"textpoint\" transform=\"translate(4.75,13.75)\"><text x=\"334.99\" y=\"143.63\" text-anchor=\"start\" style=\"font-family: 'Open Sans', verdana, arial, sans-serif; font-size: 12px; fill: rgb(42, 63, 95); fill-opacity: 1; white-space: pre;\">революция</text></g><g class=\"textpoint\" transform=\"translate(4.75,13.75)\"><text x=\"336.68\" y=\"137.7\" text-anchor=\"start\" style=\"font-family: 'Open Sans', verdana, arial, sans-serif; font-size: 12px; fill: rgb(42, 63, 95); fill-opacity: 1; white-space: pre;\">осада</text></g><g class=\"textpoint\" transform=\"translate(4.75,13.75)\"><text x=\"329.42\" y=\"138.15\" text-anchor=\"start\" style=\"font-family: 'Open Sans', verdana, arial, sans-serif; font-size: 12px; fill: rgb(42, 63, 95); fill-opacity: 1; white-space: pre;\">восстание</text></g><g class=\"textpoint\" transform=\"translate(4.75,13.75)\"><text x=\"352.05\" y=\"136.81\" text-anchor=\"start\" style=\"font-family: 'Open Sans', verdana, arial, sans-serif; font-size: 12px; fill: rgb(42, 63, 95); fill-opacity: 1; white-space: pre;\">германия</text></g><g class=\"textpoint\" transform=\"translate(4.75,13.75)\"><text x=\"351.32\" y=\"136.78\" text-anchor=\"start\" style=\"font-family: 'Open Sans', verdana, arial, sans-serif; font-size: 12px; fill: rgb(42, 63, 95); fill-opacity: 1; white-space: pre;\">австрия</text></g><g class=\"textpoint\" transform=\"translate(4.75,13.75)\"><text x=\"350.78\" y=\"136.6\" text-anchor=\"start\" style=\"font-family: 'Open Sans', verdana, arial, sans-serif; font-size: 12px; fill: rgb(42, 63, 95); fill-opacity: 1; white-space: pre;\">турция</text></g><g class=\"textpoint\" transform=\"translate(4.75,13.75)\"><text x=\"310.4\" y=\"168.76\" text-anchor=\"start\" style=\"font-family: 'Open Sans', verdana, arial, sans-serif; font-size: 12px; fill: rgb(42, 63, 95); fill-opacity: 1; white-space: pre;\">борьба</text></g><g class=\"textpoint\" transform=\"translate(4.75,13.75)\"><text x=\"333.3\" y=\"300.25\" text-anchor=\"start\" style=\"font-family: 'Open Sans', verdana, arial, sans-serif; font-size: 12px; fill: rgb(42, 63, 95); fill-opacity: 1; white-space: pre;\">сражение</text></g><g class=\"textpoint\" transform=\"translate(4.75,13.75)\"><text x=\"352.5\" y=\"136.77\" text-anchor=\"start\" style=\"font-family: 'Open Sans', verdana, arial, sans-serif; font-size: 12px; fill: rgb(42, 63, 95); fill-opacity: 1; white-space: pre;\">европа</text></g><g class=\"textpoint\" transform=\"translate(4.75,13.75)\"><text x=\"337.02\" y=\"137.73\" text-anchor=\"start\" style=\"font-family: 'Open Sans', verdana, arial, sans-serif; font-size: 12px; fill: rgb(42, 63, 95); fill-opacity: 1; white-space: pre;\">война</text></g></g></g><g class=\"trace scatter trace5e4081\" style=\"stroke-miterlimit: 2; opacity: 1;\"><g class=\"fills\"/><g class=\"errorbars\"/><g class=\"lines\"/><g class=\"points\"><path class=\"point\" transform=\"translate(41.26,39.75)\" d=\"M3,0A3,3 0 1,1 0,-3A3,3 0 0,1 3,0Z\" style=\"opacity: 1; stroke-width: 0px; fill: rgb(239, 85, 59); fill-opacity: 1;\"/><path class=\"point\" transform=\"translate(22.5,30.48)\" d=\"M3,0A3,3 0 1,1 0,-3A3,3 0 0,1 3,0Z\" style=\"opacity: 1; stroke-width: 0px; fill: rgb(239, 85, 59); fill-opacity: 1;\"/><path class=\"point\" transform=\"translate(265.54,130.65)\" d=\"M3,0A3,3 0 1,1 0,-3A3,3 0 0,1 3,0Z\" style=\"opacity: 1; stroke-width: 0px; fill: rgb(239, 85, 59); fill-opacity: 1;\"/><path class=\"point\" transform=\"translate(217.73,50.77)\" d=\"M3,0A3,3 0 1,1 0,-3A3,3 0 0,1 3,0Z\" style=\"opacity: 1; stroke-width: 0px; fill: rgb(239, 85, 59); fill-opacity: 1;\"/><path class=\"point\" transform=\"translate(23.09,30.5)\" d=\"M3,0A3,3 0 1,1 0,-3A3,3 0 0,1 3,0Z\" style=\"opacity: 1; stroke-width: 0px; fill: rgb(239, 85, 59); fill-opacity: 1;\"/><path class=\"point\" transform=\"translate(30.34,32.95)\" d=\"M3,0A3,3 0 1,1 0,-3A3,3 0 0,1 3,0Z\" style=\"opacity: 1; stroke-width: 0px; fill: rgb(239, 85, 59); fill-opacity: 1;\"/><path class=\"point\" transform=\"translate(45.35,36.2)\" d=\"M3,0A3,3 0 1,1 0,-3A3,3 0 0,1 3,0Z\" style=\"opacity: 1; stroke-width: 0px; fill: rgb(239, 85, 59); fill-opacity: 1;\"/><path class=\"point\" transform=\"translate(22.53,19.75)\" d=\"M3,0A3,3 0 1,1 0,-3A3,3 0 0,1 3,0Z\" style=\"opacity: 1; stroke-width: 0px; fill: rgb(239, 85, 59); fill-opacity: 1;\"/><path class=\"point\" transform=\"translate(217.64,50.82)\" d=\"M3,0A3,3 0 1,1 0,-3A3,3 0 0,1 3,0Z\" style=\"opacity: 1; stroke-width: 0px; fill: rgb(239, 85, 59); fill-opacity: 1;\"/><path class=\"point\" transform=\"translate(48.03,39.12)\" d=\"M3,0A3,3 0 1,1 0,-3A3,3 0 0,1 3,0Z\" style=\"opacity: 1; stroke-width: 0px; fill: rgb(239, 85, 59); fill-opacity: 1;\"/><path class=\"point\" transform=\"translate(43.51,38.67)\" d=\"M3,0A3,3 0 1,1 0,-3A3,3 0 0,1 3,0Z\" style=\"opacity: 1; stroke-width: 0px; fill: rgb(239, 85, 59); fill-opacity: 1;\"/></g><g class=\"text\"><g class=\"textpoint\" transform=\"translate(4.75,13.75)\"><text x=\"41.26\" y=\"39.75\" text-anchor=\"start\" style=\"font-family: 'Open Sans', verdana, arial, sans-serif; font-size: 12px; fill: rgb(42, 63, 95); fill-opacity: 1; white-space: pre;\">бойня</text></g><g class=\"textpoint\" transform=\"translate(4.75,13.75)\"><text x=\"22.5\" y=\"30.48\" text-anchor=\"start\" style=\"font-family: 'Open Sans', verdana, arial, sans-serif; font-size: 12px; fill: rgb(42, 63, 95); fill-opacity: 1; white-space: pre;\">революция</text></g><g class=\"textpoint\" transform=\"translate(4.75,13.75)\"><text x=\"265.54\" y=\"130.65\" text-anchor=\"start\" style=\"font-family: 'Open Sans', verdana, arial, sans-serif; font-size: 12px; fill: rgb(42, 63, 95); fill-opacity: 1; white-space: pre;\">оккупация</text></g><g class=\"textpoint\" transform=\"translate(4.75,13.75)\"><text x=\"217.73\" y=\"50.77\" text-anchor=\"start\" style=\"font-family: 'Open Sans', verdana, arial, sans-serif; font-size: 12px; fill: rgb(42, 63, 95); fill-opacity: 1; white-space: pre;\">битва</text></g><g class=\"textpoint\" transform=\"translate(4.75,13.75)\"><text x=\"23.09\" y=\"30.5\" text-anchor=\"start\" style=\"font-family: 'Open Sans', verdana, arial, sans-serif; font-size: 12px; fill: rgb(42, 63, 95); fill-opacity: 1; white-space: pre;\">фашизм</text></g><g class=\"textpoint\" transform=\"translate(4.75,13.75)\"><text x=\"30.34\" y=\"32.95\" text-anchor=\"start\" style=\"font-family: 'Open Sans', verdana, arial, sans-serif; font-size: 12px; fill: rgb(42, 63, 95); fill-opacity: 1; white-space: pre;\">борьба</text></g><g class=\"textpoint\" transform=\"translate(4.75,13.75)\"><text x=\"45.35\" y=\"36.2\" text-anchor=\"start\" style=\"font-family: 'Open Sans', verdana, arial, sans-serif; font-size: 12px; fill: rgb(42, 63, 95); fill-opacity: 1; white-space: pre;\">послевоенный</text></g><g class=\"textpoint\" transform=\"translate(4.75,13.75)\"><text x=\"22.53\" y=\"19.75\" text-anchor=\"start\" style=\"font-family: 'Open Sans', verdana, arial, sans-serif; font-size: 12px; fill: rgb(42, 63, 95); fill-opacity: 1; white-space: pre;\">воевать</text></g><g class=\"textpoint\" transform=\"translate(4.75,13.75)\"><text x=\"217.64\" y=\"50.82\" text-anchor=\"start\" style=\"font-family: 'Open Sans', verdana, arial, sans-serif; font-size: 12px; fill: rgb(42, 63, 95); fill-opacity: 1; white-space: pre;\">сражение</text></g><g class=\"textpoint\" transform=\"translate(4.75,13.75)\"><text x=\"48.03\" y=\"39.12\" text-anchor=\"start\" style=\"font-family: 'Open Sans', verdana, arial, sans-serif; font-size: 12px; fill: rgb(42, 63, 95); fill-opacity: 1; white-space: pre;\">схватка</text></g><g class=\"textpoint\" transform=\"translate(4.75,13.75)\"><text x=\"43.51\" y=\"38.67\" text-anchor=\"start\" style=\"font-family: 'Open Sans', verdana, arial, sans-serif; font-size: 12px; fill: rgb(42, 63, 95); fill-opacity: 1; white-space: pre;\">война</text></g></g></g></g></g><g class=\"overplot\"/><path class=\"xlines-above crisp\" d=\"M0,0\" style=\"fill: none;\"/><path class=\"ylines-above crisp\" d=\"M0,0\" style=\"fill: none;\"/><g class=\"overlines-above\"/><g class=\"xaxislayer-above\"><g class=\"xtick\"><text text-anchor=\"middle\" x=\"0\" y=\"433\" transform=\"translate(86.96,0)\" style=\"font-family: 'Open Sans', verdana, arial, sans-serif; font-size: 12px; fill: rgb(42, 63, 95); fill-opacity: 1; white-space: pre; opacity: 1;\">0</text></g><g class=\"xtick\"><text text-anchor=\"middle\" x=\"0\" y=\"433\" style=\"font-family: 'Open Sans', verdana, arial, sans-serif; font-size: 12px; fill: rgb(42, 63, 95); fill-opacity: 1; white-space: pre; opacity: 1;\" transform=\"translate(181.57,0)\">20</text></g><g class=\"xtick\"><text text-anchor=\"middle\" x=\"0\" y=\"433\" style=\"font-family: 'Open Sans', verdana, arial, sans-serif; font-size: 12px; fill: rgb(42, 63, 95); fill-opacity: 1; white-space: pre; opacity: 1;\" transform=\"translate(276.18,0)\">40</text></g><g class=\"xtick\"><text text-anchor=\"middle\" x=\"0\" y=\"433\" style=\"font-family: 'Open Sans', verdana, arial, sans-serif; font-size: 12px; fill: rgb(42, 63, 95); fill-opacity: 1; white-space: pre; opacity: 1;\" transform=\"translate(370.78,0)\">60</text></g></g><g class=\"yaxislayer-above\"><g class=\"ytick\"><text text-anchor=\"end\" x=\"79\" y=\"4.199999999999999\" transform=\"translate(0,398.78)\" style=\"font-family: 'Open Sans', verdana, arial, sans-serif; font-size: 12px; fill: rgb(42, 63, 95); fill-opacity: 1; white-space: pre; opacity: 1;\">−40</text></g><g class=\"ytick\"><text text-anchor=\"end\" x=\"79\" y=\"4.199999999999999\" style=\"font-family: 'Open Sans', verdana, arial, sans-serif; font-size: 12px; fill: rgb(42, 63, 95); fill-opacity: 1; white-space: pre; opacity: 1;\" transform=\"translate(0,342.89)\">−20</text></g><g class=\"ytick\"><text text-anchor=\"end\" x=\"79\" y=\"4.199999999999999\" style=\"font-family: 'Open Sans', verdana, arial, sans-serif; font-size: 12px; fill: rgb(42, 63, 95); fill-opacity: 1; white-space: pre; opacity: 1;\" transform=\"translate(0,287.01)\">0</text></g><g class=\"ytick\"><text text-anchor=\"end\" x=\"79\" y=\"4.199999999999999\" style=\"font-family: 'Open Sans', verdana, arial, sans-serif; font-size: 12px; fill: rgb(42, 63, 95); fill-opacity: 1; white-space: pre; opacity: 1;\" transform=\"translate(0,231.12)\">20</text></g><g class=\"ytick\"><text text-anchor=\"end\" x=\"79\" y=\"4.199999999999999\" style=\"font-family: 'Open Sans', verdana, arial, sans-serif; font-size: 12px; fill: rgb(42, 63, 95); fill-opacity: 1; white-space: pre; opacity: 1;\" transform=\"translate(0,175.24)\">40</text></g><g class=\"ytick\"><text text-anchor=\"end\" x=\"79\" y=\"4.199999999999999\" style=\"font-family: 'Open Sans', verdana, arial, sans-serif; font-size: 12px; fill: rgb(42, 63, 95); fill-opacity: 1; white-space: pre; opacity: 1;\" transform=\"translate(0,119.35)\">60</text></g></g><g class=\"overaxes-above\"/></g></g><g class=\"polarlayer\"/><g class=\"smithlayer\"/><g class=\"ternarylayer\"/><g class=\"geolayer\"/><g class=\"funnelarealayer\"/><g class=\"pielayer\"/><g class=\"iciclelayer\"/><g class=\"treemaplayer\"/><g class=\"sunburstlayer\"/><g class=\"glimages\"/><defs id=\"topdefs-55bde2\"><g class=\"clips\"/><clipPath id=\"legend55bde2\"><rect width=\"225\" height=\"67\" x=\"0\" y=\"0\"/></clipPath></defs><g class=\"layer-above\"><g class=\"imagelayer\"/><g class=\"shapelayer\"/></g><g class=\"infolayer\"><g class=\"legend\" pointer-events=\"all\" transform=\"translate(462.5,100)\"><rect class=\"bg\" shape-rendering=\"crispEdges\" width=\"225\" height=\"67\" x=\"0\" y=\"0\" style=\"stroke: rgb(68, 68, 68); stroke-opacity: 1; fill: rgb(255, 255, 255); fill-opacity: 1; stroke-width: 0px;\"/><g class=\"scrollbox\" transform=\"\" clip-path=\"url(#legend55bde2)\"><text class=\"legendtitletext\" text-anchor=\"start\" x=\"2\" y=\"18.2\" style=\"font-family: 'Open Sans', verdana, arial, sans-serif; font-size: 14px; fill: rgb(42, 63, 95); fill-opacity: 1; white-space: pre;\">label</text><g class=\"groups\" transform=\"\"><g class=\"traces\" transform=\"translate(0,32.7)\" style=\"opacity: 1;\"><text class=\"legendtext\" text-anchor=\"start\" x=\"40\" y=\"4.680000000000001\" style=\"font-family: 'Open Sans', verdana, arial, sans-serif; font-size: 12px; fill: rgb(42, 63, 95); fill-opacity: 1; white-space: pre;\">имперский период</text><g class=\"layers\" style=\"opacity: 1;\"><g class=\"legendfill\"/><g class=\"legendlines\"/><g class=\"legendsymbols\"><g class=\"legendpoints\"><path class=\"scatterpts\" transform=\"translate(20,0)\" d=\"M3,0A3,3 0 1,1 0,-3A3,3 0 0,1 3,0Z\" style=\"opacity: 1; stroke-width: 0px; fill: rgb(99, 110, 250); fill-opacity: 1;\"/></g></g></g><rect class=\"legendtoggle\" x=\"0\" y=\"-9.5\" width=\"219.921875\" height=\"19\" style=\"fill: rgb(0, 0, 0); fill-opacity: 0;\"/></g></g><g class=\"groups\" transform=\"\"><g class=\"traces\" transform=\"translate(0,51.7)\" style=\"opacity: 1;\"><text class=\"legendtext\" text-anchor=\"start\" x=\"40\" y=\"4.680000000000001\" style=\"font-family: 'Open Sans', verdana, arial, sans-serif; font-size: 12px; fill: rgb(42, 63, 95); fill-opacity: 1; white-space: pre;\">послереволюционный период</text><g class=\"layers\" style=\"opacity: 1;\"><g class=\"legendfill\"/><g class=\"legendlines\"/><g class=\"legendsymbols\"><g class=\"legendpoints\"><path class=\"scatterpts\" transform=\"translate(20,0)\" d=\"M3,0A3,3 0 1,1 0,-3A3,3 0 0,1 3,0Z\" style=\"opacity: 1; stroke-width: 0px; fill: rgb(239, 85, 59); fill-opacity: 1;\"/></g></g></g><rect class=\"legendtoggle\" x=\"0\" y=\"-9.5\" width=\"219.921875\" height=\"19\" style=\"fill: rgb(0, 0, 0); fill-opacity: 0;\"/></g></g></g><rect class=\"scrollbar\" rx=\"20\" ry=\"3\" width=\"0\" height=\"0\" x=\"0\" y=\"0\" style=\"fill: rgb(128, 139, 164); fill-opacity: 1;\"/></g><g class=\"g-gtitle\"><text class=\"gtitle\" x=\"35\" y=\"50\" text-anchor=\"start\" dy=\"0em\" style=\"font-family: 'Open Sans', verdana, arial, sans-serif; font-size: 17px; fill: rgb(42, 63, 95); opacity: 1; font-weight: normal; white-space: pre;\">Соседи \"война\"</text></g><g class=\"g-xtitle\"><text class=\"xtitle\" x=\"267.5\" y=\"461.3\" text-anchor=\"middle\" style=\"font-family: 'Open Sans', verdana, arial, sans-serif; font-size: 14px; fill: rgb(42, 63, 95); opacity: 1; font-weight: normal; white-space: pre;\">x</text></g><g class=\"g-ytitle\"><text class=\"ytitle\" transform=\"rotate(-90,34.10625,260)\" x=\"34.10625\" y=\"260\" text-anchor=\"middle\" style=\"font-family: 'Open Sans', verdana, arial, sans-serif; font-size: 14px; fill: rgb(42, 63, 95); opacity: 1; font-weight: normal; white-space: pre;\">y</text></g></g></svg>"
      ]
     },
     "metadata": {},
     "output_type": "display_data"
    }
   ],
   "source": [
    "scatter_viz('война')"
   ]
  },
  {
   "cell_type": "markdown",
   "id": "e2994be7",
   "metadata": {},
   "source": [
    "Ближе всего к слову `война` в послереволюционный период - `бойня`. Можно заметить, как сильно меняется от периода к периоду эмоциональная окраска слов: в имперское время это слова сдержанные, если так можно выразиться, в послереволюционный - уже гораздо более эмоциональные \n",
    "\n",
    "(визуализации, к сожалению, действительно нерепрезентативны)"
   ]
  },
  {
   "cell_type": "markdown",
   "id": "7c0a3ae3",
   "metadata": {},
   "source": [
    "*Родина* "
   ]
  },
  {
   "cell_type": "code",
   "execution_count": 54,
   "id": "49126672",
   "metadata": {},
   "outputs": [
    {
     "data": {
      "text/plain": [
       "[('отечество', 0.7648043036460876),\n",
       " ('родный', 0.6725383400917053),\n",
       " ('чужбина', 0.6392336487770081),\n",
       " ('отчизна', 0.6365395188331604),\n",
       " ('благодеяние', 0.6197439432144165),\n",
       " ('воин', 0.6025866866111755),\n",
       " ('россия', 0.6020026206970215),\n",
       " ('ближний', 0.5965931415557861),\n",
       " ('беззаветно', 0.5941132307052612),\n",
       " ('возлюбить', 0.5899779200553894)]"
      ]
     },
     "execution_count": 54,
     "metadata": {},
     "output_type": "execute_result"
    }
   ],
   "source": [
    "w2v_imperial.wv.most_similar('родина') "
   ]
  },
  {
   "cell_type": "code",
   "execution_count": 55,
   "id": "785c245f",
   "metadata": {},
   "outputs": [
    {
     "data": {
      "text/plain": [
       "[('отечество', 0.7974503636360168),\n",
       " ('сынов', 0.708187997341156),\n",
       " ('чужбина', 0.7012273669242859),\n",
       " ('отчизна', 0.6929473280906677),\n",
       " ('родный', 0.6319018006324768),\n",
       " ('россия', 0.6301732659339905),\n",
       " ('подвиг', 0.5777395963668823),\n",
       " ('кровный', 0.5722005367279053),\n",
       " ('воин', 0.5719102621078491),\n",
       " ('захватчик', 0.5693316459655762)]"
      ]
     },
     "execution_count": 55,
     "metadata": {},
     "output_type": "execute_result"
    }
   ],
   "source": [
    "w2v_soviet_and_new.wv.most_similar('родина')"
   ]
  },
  {
   "cell_type": "code",
   "execution_count": 96,
   "id": "184fcfb9",
   "metadata": {},
   "outputs": [
    {
     "data": {
      "image/svg+xml": [
       "<svg class=\"main-svg\" xmlns=\"http://www.w3.org/2000/svg\" xmlns:xlink=\"http://www.w3.org/1999/xlink\" width=\"700\" height=\"500\" style=\"\" viewBox=\"0 0 700 500\"><rect x=\"0\" y=\"0\" width=\"700\" height=\"500\" style=\"fill: rgb(255, 255, 255); fill-opacity: 1;\"/><defs id=\"defs-7f3bbc\"><g class=\"clips\"><clipPath id=\"clip7f3bbcxyplot\" class=\"plotclip\"><rect width=\"375\" height=\"320\"/></clipPath><clipPath class=\"axesclip\" id=\"clip7f3bbcx\"><rect x=\"80\" y=\"0\" width=\"375\" height=\"500\"/></clipPath><clipPath class=\"axesclip\" id=\"clip7f3bbcy\"><rect x=\"0\" y=\"100\" width=\"700\" height=\"320\"/></clipPath><clipPath class=\"axesclip\" id=\"clip7f3bbcxy\"><rect x=\"80\" y=\"100\" width=\"375\" height=\"320\"/></clipPath></g><g class=\"gradients\"/><g class=\"patterns\"/></defs><g class=\"bglayer\"><rect class=\"bg\" x=\"80\" y=\"100\" width=\"375\" height=\"320\" style=\"fill: rgb(229, 236, 246); fill-opacity: 1; stroke-width: 0;\"/></g><g class=\"layer-below\"><g class=\"imagelayer\"/><g class=\"shapelayer\"/></g><g class=\"cartesianlayer\"><g class=\"subplot xy\"><g class=\"layer-subplot\"><g class=\"shapelayer\"/><g class=\"imagelayer\"/></g><g class=\"minor-gridlayer\"><g class=\"x\"/><g class=\"y\"/></g><g class=\"gridlayer\"><g class=\"x\"><path class=\"xgrid crisp\" transform=\"translate(355.61,0)\" d=\"M0,100v320\" style=\"stroke: rgb(255, 255, 255); stroke-opacity: 1; stroke-width: 1px;\"/></g><g class=\"y\"><path class=\"ygrid crisp\" transform=\"translate(0,412.67)\" d=\"M80,0h375\" style=\"stroke: rgb(255, 255, 255); stroke-opacity: 1; stroke-width: 1px;\"/><path class=\"ygrid crisp\" transform=\"translate(0,281.03999999999996)\" d=\"M80,0h375\" style=\"stroke: rgb(255, 255, 255); stroke-opacity: 1; stroke-width: 1px;\"/><path class=\"ygrid crisp\" transform=\"translate(0,215.22)\" d=\"M80,0h375\" style=\"stroke: rgb(255, 255, 255); stroke-opacity: 1; stroke-width: 1px;\"/><path class=\"ygrid crisp\" transform=\"translate(0,149.4)\" d=\"M80,0h375\" style=\"stroke: rgb(255, 255, 255); stroke-opacity: 1; stroke-width: 1px;\"/></g></g><g class=\"zerolinelayer\"><path class=\"xzl zl crisp\" transform=\"translate(215.53,0)\" d=\"M0,100v320\" style=\"stroke: rgb(255, 255, 255); stroke-opacity: 1; stroke-width: 2px;\"/><path class=\"yzl zl crisp\" transform=\"translate(0,346.85)\" d=\"M80,0h375\" style=\"stroke: rgb(255, 255, 255); stroke-opacity: 1; stroke-width: 2px;\"/></g><path class=\"xlines-below\"/><path class=\"ylines-below\"/><g class=\"overlines-below\"/><g class=\"xaxislayer-below\"/><g class=\"yaxislayer-below\"/><g class=\"overaxes-below\"/><g class=\"plot\" transform=\"translate(80,100)\" clip-path=\"url(#clip7f3bbcxyplot)\"><g class=\"scatterlayer mlayer\"><g class=\"trace scatter trace4aad00\" style=\"stroke-miterlimit: 2; opacity: 1;\"><g class=\"fills\"/><g class=\"errorbars\"/><g class=\"lines\"/><g class=\"points\"><path class=\"point\" transform=\"translate(352.48,217.3)\" d=\"M3,0A3,3 0 1,1 0,-3A3,3 0 0,1 3,0Z\" style=\"opacity: 1; stroke-width: 0px; fill: rgb(99, 110, 250); fill-opacity: 1;\"/><path class=\"point\" transform=\"translate(227.04,69.38)\" d=\"M3,0A3,3 0 1,1 0,-3A3,3 0 0,1 3,0Z\" style=\"opacity: 1; stroke-width: 0px; fill: rgb(99, 110, 250); fill-opacity: 1;\"/><path class=\"point\" transform=\"translate(241.18,300.25)\" d=\"M3,0A3,3 0 1,1 0,-3A3,3 0 0,1 3,0Z\" style=\"opacity: 1; stroke-width: 0px; fill: rgb(99, 110, 250); fill-opacity: 1;\"/><path class=\"point\" transform=\"translate(220.21,222.78)\" d=\"M3,0A3,3 0 1,1 0,-3A3,3 0 0,1 3,0Z\" style=\"opacity: 1; stroke-width: 0px; fill: rgb(99, 110, 250); fill-opacity: 1;\"/><path class=\"point\" transform=\"translate(349.04,234.86)\" d=\"M3,0A3,3 0 1,1 0,-3A3,3 0 0,1 3,0Z\" style=\"opacity: 1; stroke-width: 0px; fill: rgb(99, 110, 250); fill-opacity: 1;\"/><path class=\"point\" transform=\"translate(343.69,196.25)\" d=\"M3,0A3,3 0 1,1 0,-3A3,3 0 0,1 3,0Z\" style=\"opacity: 1; stroke-width: 0px; fill: rgb(99, 110, 250); fill-opacity: 1;\"/><path class=\"point\" transform=\"translate(340.27,187.87)\" d=\"M3,0A3,3 0 1,1 0,-3A3,3 0 0,1 3,0Z\" style=\"opacity: 1; stroke-width: 0px; fill: rgb(99, 110, 250); fill-opacity: 1;\"/><path class=\"point\" transform=\"translate(347.67,233.99)\" d=\"M3,0A3,3 0 1,1 0,-3A3,3 0 0,1 3,0Z\" style=\"opacity: 1; stroke-width: 0px; fill: rgb(99, 110, 250); fill-opacity: 1;\"/><path class=\"point\" transform=\"translate(219.11,242.8)\" d=\"M3,0A3,3 0 1,1 0,-3A3,3 0 0,1 3,0Z\" style=\"opacity: 1; stroke-width: 0px; fill: rgb(99, 110, 250); fill-opacity: 1;\"/><path class=\"point\" transform=\"translate(278.82,114.87)\" d=\"M3,0A3,3 0 1,1 0,-3A3,3 0 0,1 3,0Z\" style=\"opacity: 1; stroke-width: 0px; fill: rgb(99, 110, 250); fill-opacity: 1;\"/><path class=\"point\" transform=\"translate(352.5,217.28)\" d=\"M3,0A3,3 0 1,1 0,-3A3,3 0 0,1 3,0Z\" style=\"opacity: 1; stroke-width: 0px; fill: rgb(99, 110, 250); fill-opacity: 1;\"/></g><g class=\"text\"><g class=\"textpoint\" transform=\"translate(4.75,13.75)\"><text x=\"352.48\" y=\"217.3\" text-anchor=\"start\" style=\"font-family: 'Open Sans', verdana, arial, sans-serif; font-size: 12px; fill: rgb(42, 63, 95); fill-opacity: 1; white-space: pre;\">отечество</text></g><g class=\"textpoint\" transform=\"translate(4.75,13.75)\"><text x=\"227.04\" y=\"69.38\" text-anchor=\"start\" style=\"font-family: 'Open Sans', verdana, arial, sans-serif; font-size: 12px; fill: rgb(42, 63, 95); fill-opacity: 1; white-space: pre;\">родный</text></g><g class=\"textpoint\" transform=\"translate(4.75,13.75)\"><text x=\"241.18\" y=\"300.25\" text-anchor=\"start\" style=\"font-family: 'Open Sans', verdana, arial, sans-serif; font-size: 12px; fill: rgb(42, 63, 95); fill-opacity: 1; white-space: pre;\">чужбина</text></g><g class=\"textpoint\" transform=\"translate(4.75,13.75)\"><text x=\"220.21\" y=\"222.78\" text-anchor=\"start\" style=\"font-family: 'Open Sans', verdana, arial, sans-serif; font-size: 12px; fill: rgb(42, 63, 95); fill-opacity: 1; white-space: pre;\">отчизна</text></g><g class=\"textpoint\" transform=\"translate(4.75,13.75)\"><text x=\"349.04\" y=\"234.86\" text-anchor=\"start\" style=\"font-family: 'Open Sans', verdana, arial, sans-serif; font-size: 12px; fill: rgb(42, 63, 95); fill-opacity: 1; white-space: pre;\">благодеяние</text></g><g class=\"textpoint\" transform=\"translate(4.75,13.75)\"><text x=\"343.69\" y=\"196.25\" text-anchor=\"start\" style=\"font-family: 'Open Sans', verdana, arial, sans-serif; font-size: 12px; fill: rgb(42, 63, 95); fill-opacity: 1; white-space: pre;\">воин</text></g><g class=\"textpoint\" transform=\"translate(4.75,13.75)\"><text x=\"340.27\" y=\"187.87\" text-anchor=\"start\" style=\"font-family: 'Open Sans', verdana, arial, sans-serif; font-size: 12px; fill: rgb(42, 63, 95); fill-opacity: 1; white-space: pre;\">россия</text></g><g class=\"textpoint\" transform=\"translate(4.75,13.75)\"><text x=\"347.67\" y=\"233.99\" text-anchor=\"start\" style=\"font-family: 'Open Sans', verdana, arial, sans-serif; font-size: 12px; fill: rgb(42, 63, 95); fill-opacity: 1; white-space: pre;\">ближний</text></g><g class=\"textpoint\" transform=\"translate(4.75,13.75)\"><text x=\"219.11\" y=\"242.8\" text-anchor=\"start\" style=\"font-family: 'Open Sans', verdana, arial, sans-serif; font-size: 12px; fill: rgb(42, 63, 95); fill-opacity: 1; white-space: pre;\">беззаветно</text></g><g class=\"textpoint\" transform=\"translate(4.75,13.75)\"><text x=\"278.82\" y=\"114.87\" text-anchor=\"start\" style=\"font-family: 'Open Sans', verdana, arial, sans-serif; font-size: 12px; fill: rgb(42, 63, 95); fill-opacity: 1; white-space: pre;\">возлюбить</text></g><g class=\"textpoint\" transform=\"translate(4.75,13.75)\"><text x=\"352.5\" y=\"217.28\" text-anchor=\"start\" style=\"font-family: 'Open Sans', verdana, arial, sans-serif; font-size: 12px; fill: rgb(42, 63, 95); fill-opacity: 1; white-space: pre;\">родина</text></g></g></g><g class=\"trace scatter trace6ba7dc\" style=\"stroke-miterlimit: 2; opacity: 1;\"><g class=\"fills\"/><g class=\"errorbars\"/><g class=\"lines\"/><g class=\"points\"><path class=\"point\" transform=\"translate(135.08,55.3)\" d=\"M3,0A3,3 0 1,1 0,-3A3,3 0 0,1 3,0Z\" style=\"opacity: 1; stroke-width: 0px; fill: rgb(239, 85, 59); fill-opacity: 1;\"/><path class=\"point\" transform=\"translate(131.2,54.11)\" d=\"M3,0A3,3 0 1,1 0,-3A3,3 0 0,1 3,0Z\" style=\"opacity: 1; stroke-width: 0px; fill: rgb(239, 85, 59); fill-opacity: 1;\"/><path class=\"point\" transform=\"translate(131.39,51.62)\" d=\"M3,0A3,3 0 1,1 0,-3A3,3 0 0,1 3,0Z\" style=\"opacity: 1; stroke-width: 0px; fill: rgb(239, 85, 59); fill-opacity: 1;\"/><path class=\"point\" transform=\"translate(131.13,54.56)\" d=\"M3,0A3,3 0 1,1 0,-3A3,3 0 0,1 3,0Z\" style=\"opacity: 1; stroke-width: 0px; fill: rgb(239, 85, 59); fill-opacity: 1;\"/><path class=\"point\" transform=\"translate(79.7,55.35)\" d=\"M3,0A3,3 0 1,1 0,-3A3,3 0 0,1 3,0Z\" style=\"opacity: 1; stroke-width: 0px; fill: rgb(239, 85, 59); fill-opacity: 1;\"/><path class=\"point\" transform=\"translate(296.03,180.19)\" d=\"M3,0A3,3 0 1,1 0,-3A3,3 0 0,1 3,0Z\" style=\"opacity: 1; stroke-width: 0px; fill: rgb(239, 85, 59); fill-opacity: 1;\"/><path class=\"point\" transform=\"translate(22.5,21.94)\" d=\"M3,0A3,3 0 1,1 0,-3A3,3 0 0,1 3,0Z\" style=\"opacity: 1; stroke-width: 0px; fill: rgb(239, 85, 59); fill-opacity: 1;\"/><path class=\"point\" transform=\"translate(37.63,19.75)\" d=\"M3,0A3,3 0 1,1 0,-3A3,3 0 0,1 3,0Z\" style=\"opacity: 1; stroke-width: 0px; fill: rgb(239, 85, 59); fill-opacity: 1;\"/><path class=\"point\" transform=\"translate(134.73,54.62)\" d=\"M3,0A3,3 0 1,1 0,-3A3,3 0 0,1 3,0Z\" style=\"opacity: 1; stroke-width: 0px; fill: rgb(239, 85, 59); fill-opacity: 1;\"/><path class=\"point\" transform=\"translate(139,60.76)\" d=\"M3,0A3,3 0 1,1 0,-3A3,3 0 0,1 3,0Z\" style=\"opacity: 1; stroke-width: 0px; fill: rgb(239, 85, 59); fill-opacity: 1;\"/><path class=\"point\" transform=\"translate(134.97,54.95)\" d=\"M3,0A3,3 0 1,1 0,-3A3,3 0 0,1 3,0Z\" style=\"opacity: 1; stroke-width: 0px; fill: rgb(239, 85, 59); fill-opacity: 1;\"/></g><g class=\"text\"><g class=\"textpoint\" transform=\"translate(4.75,13.75)\"><text x=\"135.08\" y=\"55.3\" text-anchor=\"start\" style=\"font-family: 'Open Sans', verdana, arial, sans-serif; font-size: 12px; fill: rgb(42, 63, 95); fill-opacity: 1; white-space: pre;\">отечество</text></g><g class=\"textpoint\" transform=\"translate(4.75,13.75)\"><text x=\"131.2\" y=\"54.11\" text-anchor=\"start\" style=\"font-family: 'Open Sans', verdana, arial, sans-serif; font-size: 12px; fill: rgb(42, 63, 95); fill-opacity: 1; white-space: pre;\">сынов</text></g><g class=\"textpoint\" transform=\"translate(4.75,13.75)\"><text x=\"131.39\" y=\"51.62\" text-anchor=\"start\" style=\"font-family: 'Open Sans', verdana, arial, sans-serif; font-size: 12px; fill: rgb(42, 63, 95); fill-opacity: 1; white-space: pre;\">чужбина</text></g><g class=\"textpoint\" transform=\"translate(4.75,13.75)\"><text x=\"131.13\" y=\"54.56\" text-anchor=\"start\" style=\"font-family: 'Open Sans', verdana, arial, sans-serif; font-size: 12px; fill: rgb(42, 63, 95); fill-opacity: 1; white-space: pre;\">отчизна</text></g><g class=\"textpoint\" transform=\"translate(4.75,13.75)\"><text x=\"79.7\" y=\"55.35\" text-anchor=\"start\" style=\"font-family: 'Open Sans', verdana, arial, sans-serif; font-size: 12px; fill: rgb(42, 63, 95); fill-opacity: 1; white-space: pre;\">родный</text></g><g class=\"textpoint\" transform=\"translate(4.75,13.75)\"><text x=\"296.03\" y=\"180.19\" text-anchor=\"start\" style=\"font-family: 'Open Sans', verdana, arial, sans-serif; font-size: 12px; fill: rgb(42, 63, 95); fill-opacity: 1; white-space: pre;\">россия</text></g><g class=\"textpoint\" transform=\"translate(4.75,13.75)\"><text x=\"22.5\" y=\"21.94\" text-anchor=\"start\" style=\"font-family: 'Open Sans', verdana, arial, sans-serif; font-size: 12px; fill: rgb(42, 63, 95); fill-opacity: 1; white-space: pre;\">подвиг</text></g><g class=\"textpoint\" transform=\"translate(4.75,13.75)\"><text x=\"37.63\" y=\"19.75\" text-anchor=\"start\" style=\"font-family: 'Open Sans', verdana, arial, sans-serif; font-size: 12px; fill: rgb(42, 63, 95); fill-opacity: 1; white-space: pre;\">кровный</text></g><g class=\"textpoint\" transform=\"translate(4.75,13.75)\"><text x=\"134.73\" y=\"54.62\" text-anchor=\"start\" style=\"font-family: 'Open Sans', verdana, arial, sans-serif; font-size: 12px; fill: rgb(42, 63, 95); fill-opacity: 1; white-space: pre;\">воин</text></g><g class=\"textpoint\" transform=\"translate(4.75,13.75)\"><text x=\"139\" y=\"60.76\" text-anchor=\"start\" style=\"font-family: 'Open Sans', verdana, arial, sans-serif; font-size: 12px; fill: rgb(42, 63, 95); fill-opacity: 1; white-space: pre;\">захватчик</text></g><g class=\"textpoint\" transform=\"translate(4.75,13.75)\"><text x=\"134.97\" y=\"54.95\" text-anchor=\"start\" style=\"font-family: 'Open Sans', verdana, arial, sans-serif; font-size: 12px; fill: rgb(42, 63, 95); fill-opacity: 1; white-space: pre;\">родина</text></g></g></g></g></g><g class=\"overplot\"/><path class=\"xlines-above crisp\" d=\"M0,0\" style=\"fill: none;\"/><path class=\"ylines-above crisp\" d=\"M0,0\" style=\"fill: none;\"/><g class=\"overlines-above\"/><g class=\"xaxislayer-above\"><g class=\"xtick\"><text text-anchor=\"middle\" x=\"0\" y=\"433\" transform=\"translate(215.53,0)\" style=\"font-family: 'Open Sans', verdana, arial, sans-serif; font-size: 12px; fill: rgb(42, 63, 95); fill-opacity: 1; white-space: pre; opacity: 1;\">0</text></g><g class=\"xtick\"><text text-anchor=\"middle\" x=\"0\" y=\"433\" style=\"font-family: 'Open Sans', verdana, arial, sans-serif; font-size: 12px; fill: rgb(42, 63, 95); fill-opacity: 1; white-space: pre; opacity: 1;\" transform=\"translate(355.61,0)\">50</text></g></g><g class=\"yaxislayer-above\"><g class=\"ytick\"><text text-anchor=\"end\" x=\"79\" y=\"4.199999999999999\" transform=\"translate(0,412.67)\" style=\"font-family: 'Open Sans', verdana, arial, sans-serif; font-size: 12px; fill: rgb(42, 63, 95); fill-opacity: 1; white-space: pre; opacity: 1;\">−20</text></g><g class=\"ytick\"><text text-anchor=\"end\" x=\"79\" y=\"4.199999999999999\" style=\"font-family: 'Open Sans', verdana, arial, sans-serif; font-size: 12px; fill: rgb(42, 63, 95); fill-opacity: 1; white-space: pre; opacity: 1;\" transform=\"translate(0,346.85)\">0</text></g><g class=\"ytick\"><text text-anchor=\"end\" x=\"79\" y=\"4.199999999999999\" style=\"font-family: 'Open Sans', verdana, arial, sans-serif; font-size: 12px; fill: rgb(42, 63, 95); fill-opacity: 1; white-space: pre; opacity: 1;\" transform=\"translate(0,281.03999999999996)\">20</text></g><g class=\"ytick\"><text text-anchor=\"end\" x=\"79\" y=\"4.199999999999999\" style=\"font-family: 'Open Sans', verdana, arial, sans-serif; font-size: 12px; fill: rgb(42, 63, 95); fill-opacity: 1; white-space: pre; opacity: 1;\" transform=\"translate(0,215.22)\">40</text></g><g class=\"ytick\"><text text-anchor=\"end\" x=\"79\" y=\"4.199999999999999\" style=\"font-family: 'Open Sans', verdana, arial, sans-serif; font-size: 12px; fill: rgb(42, 63, 95); fill-opacity: 1; white-space: pre; opacity: 1;\" transform=\"translate(0,149.4)\">60</text></g></g><g class=\"overaxes-above\"/></g></g><g class=\"polarlayer\"/><g class=\"smithlayer\"/><g class=\"ternarylayer\"/><g class=\"geolayer\"/><g class=\"funnelarealayer\"/><g class=\"pielayer\"/><g class=\"iciclelayer\"/><g class=\"treemaplayer\"/><g class=\"sunburstlayer\"/><g class=\"glimages\"/><defs id=\"topdefs-7f3bbc\"><g class=\"clips\"/><clipPath id=\"legend7f3bbc\"><rect width=\"225\" height=\"67\" x=\"0\" y=\"0\"/></clipPath></defs><g class=\"layer-above\"><g class=\"imagelayer\"/><g class=\"shapelayer\"/></g><g class=\"infolayer\"><g class=\"legend\" pointer-events=\"all\" transform=\"translate(462.5,100)\"><rect class=\"bg\" shape-rendering=\"crispEdges\" width=\"225\" height=\"67\" x=\"0\" y=\"0\" style=\"stroke: rgb(68, 68, 68); stroke-opacity: 1; fill: rgb(255, 255, 255); fill-opacity: 1; stroke-width: 0px;\"/><g class=\"scrollbox\" transform=\"\" clip-path=\"url(#legend7f3bbc)\"><text class=\"legendtitletext\" text-anchor=\"start\" x=\"2\" y=\"18.2\" style=\"font-family: 'Open Sans', verdana, arial, sans-serif; font-size: 14px; fill: rgb(42, 63, 95); fill-opacity: 1; white-space: pre;\">label</text><g class=\"groups\" transform=\"\"><g class=\"traces\" transform=\"translate(0,32.7)\" style=\"opacity: 1;\"><text class=\"legendtext\" text-anchor=\"start\" x=\"40\" y=\"4.680000000000001\" style=\"font-family: 'Open Sans', verdana, arial, sans-serif; font-size: 12px; fill: rgb(42, 63, 95); fill-opacity: 1; white-space: pre;\">имперский период</text><g class=\"layers\" style=\"opacity: 1;\"><g class=\"legendfill\"/><g class=\"legendlines\"/><g class=\"legendsymbols\"><g class=\"legendpoints\"><path class=\"scatterpts\" transform=\"translate(20,0)\" d=\"M3,0A3,3 0 1,1 0,-3A3,3 0 0,1 3,0Z\" style=\"opacity: 1; stroke-width: 0px; fill: rgb(99, 110, 250); fill-opacity: 1;\"/></g></g></g><rect class=\"legendtoggle\" x=\"0\" y=\"-9.5\" width=\"219.921875\" height=\"19\" style=\"fill: rgb(0, 0, 0); fill-opacity: 0;\"/></g></g><g class=\"groups\" transform=\"\"><g class=\"traces\" transform=\"translate(0,51.7)\" style=\"opacity: 1;\"><text class=\"legendtext\" text-anchor=\"start\" x=\"40\" y=\"4.680000000000001\" style=\"font-family: 'Open Sans', verdana, arial, sans-serif; font-size: 12px; fill: rgb(42, 63, 95); fill-opacity: 1; white-space: pre;\">послереволюционный период</text><g class=\"layers\" style=\"opacity: 1;\"><g class=\"legendfill\"/><g class=\"legendlines\"/><g class=\"legendsymbols\"><g class=\"legendpoints\"><path class=\"scatterpts\" transform=\"translate(20,0)\" d=\"M3,0A3,3 0 1,1 0,-3A3,3 0 0,1 3,0Z\" style=\"opacity: 1; stroke-width: 0px; fill: rgb(239, 85, 59); fill-opacity: 1;\"/></g></g></g><rect class=\"legendtoggle\" x=\"0\" y=\"-9.5\" width=\"219.921875\" height=\"19\" style=\"fill: rgb(0, 0, 0); fill-opacity: 0;\"/></g></g></g><rect class=\"scrollbar\" rx=\"20\" ry=\"3\" width=\"0\" height=\"0\" x=\"0\" y=\"0\" style=\"fill: rgb(128, 139, 164); fill-opacity: 1;\"/></g><g class=\"g-gtitle\"><text class=\"gtitle\" x=\"35\" y=\"50\" text-anchor=\"start\" dy=\"0em\" style=\"font-family: 'Open Sans', verdana, arial, sans-serif; font-size: 17px; fill: rgb(42, 63, 95); opacity: 1; font-weight: normal; white-space: pre;\">Соседи \"родина\"</text></g><g class=\"g-xtitle\"><text class=\"xtitle\" x=\"267.5\" y=\"461.3\" text-anchor=\"middle\" style=\"font-family: 'Open Sans', verdana, arial, sans-serif; font-size: 14px; fill: rgb(42, 63, 95); opacity: 1; font-weight: normal; white-space: pre;\">x</text></g><g class=\"g-ytitle\"><text class=\"ytitle\" transform=\"rotate(-90,34.10625,260)\" x=\"34.10625\" y=\"260\" text-anchor=\"middle\" style=\"font-family: 'Open Sans', verdana, arial, sans-serif; font-size: 14px; fill: rgb(42, 63, 95); opacity: 1; font-weight: normal; white-space: pre;\">y</text></g></g></svg>"
      ]
     },
     "metadata": {},
     "output_type": "display_data"
    }
   ],
   "source": [
    "scatter_viz('родина')"
   ]
  },
  {
   "cell_type": "markdown",
   "id": "9d2f60f7",
   "metadata": {},
   "source": [
    "Здесь многие слова-соседи пересекаются, однако отдельно стоит отметить, что у послереволюционной модели встречается много слов, явно связанных в данном контексте с Великой Отечественной войной - `подвиг`, `воин`, `захватчик` \n",
    "\n",
    "Это неудивительно, так как в распределении записей видно, что больше всего дневников именно за этот период, однако это еще одно подтверждение качества работы моделей "
   ]
  },
  {
   "cell_type": "markdown",
   "id": "77402318",
   "metadata": {},
   "source": [
    "*Женщина*"
   ]
  },
  {
   "cell_type": "code",
   "execution_count": 58,
   "id": "71a22086",
   "metadata": {},
   "outputs": [
    {
     "data": {
      "text/plain": [
       "[('девушка', 0.8021028637886047),\n",
       " ('мужчина', 0.7695476412773132),\n",
       " ('девица', 0.630403995513916),\n",
       " ('взрослый', 0.6234920620918274),\n",
       " ('еврейка', 0.6130937933921814),\n",
       " ('девочка', 0.5970109105110168),\n",
       " ('урод', 0.5871756672859192),\n",
       " ('проститутка', 0.583613932132721),\n",
       " ('муж', 0.5826621651649475),\n",
       " ('девчонка', 0.569288969039917)]"
      ]
     },
     "execution_count": 58,
     "metadata": {},
     "output_type": "execute_result"
    }
   ],
   "source": [
    "w2v_imperial.wv.most_similar('женщина') "
   ]
  },
  {
   "cell_type": "code",
   "execution_count": 59,
   "id": "d25647e2",
   "metadata": {},
   "outputs": [
    {
     "data": {
      "text/plain": [
       "[('мужчина', 0.8741196393966675),\n",
       " ('девушка', 0.8209567070007324),\n",
       " ('юноша', 0.6565521955490112),\n",
       " ('дама', 0.6383246183395386),\n",
       " ('девица', 0.6347724199295044),\n",
       " ('старуха', 0.6322122812271118),\n",
       " ('старик', 0.6282692551612854),\n",
       " ('ребёнок', 0.6252664923667908),\n",
       " ('подросток', 0.6131601929664612),\n",
       " ('человек', 0.6049515604972839)]"
      ]
     },
     "execution_count": 59,
     "metadata": {},
     "output_type": "execute_result"
    }
   ],
   "source": [
    "w2v_soviet_and_new.wv.most_similar('женщина')"
   ]
  },
  {
   "cell_type": "code",
   "execution_count": 97,
   "id": "eecc1230",
   "metadata": {},
   "outputs": [
    {
     "data": {
      "image/svg+xml": [
       "<svg class=\"main-svg\" xmlns=\"http://www.w3.org/2000/svg\" xmlns:xlink=\"http://www.w3.org/1999/xlink\" width=\"700\" height=\"500\" style=\"\" viewBox=\"0 0 700 500\"><rect x=\"0\" y=\"0\" width=\"700\" height=\"500\" style=\"fill: rgb(255, 255, 255); fill-opacity: 1;\"/><defs id=\"defs-fdd039\"><g class=\"clips\"><clipPath id=\"clipfdd039xyplot\" class=\"plotclip\"><rect width=\"375\" height=\"320\"/></clipPath><clipPath class=\"axesclip\" id=\"clipfdd039x\"><rect x=\"80\" y=\"0\" width=\"375\" height=\"500\"/></clipPath><clipPath class=\"axesclip\" id=\"clipfdd039y\"><rect x=\"0\" y=\"100\" width=\"700\" height=\"320\"/></clipPath><clipPath class=\"axesclip\" id=\"clipfdd039xy\"><rect x=\"80\" y=\"100\" width=\"375\" height=\"320\"/></clipPath></g><g class=\"gradients\"/><g class=\"patterns\"/></defs><g class=\"bglayer\"><rect class=\"bg\" x=\"80\" y=\"100\" width=\"375\" height=\"320\" style=\"fill: rgb(229, 236, 246); fill-opacity: 1; stroke-width: 0;\"/></g><g class=\"layer-below\"><g class=\"imagelayer\"/><g class=\"shapelayer\"/></g><g class=\"cartesianlayer\"><g class=\"subplot xy\"><g class=\"layer-subplot\"><g class=\"shapelayer\"/><g class=\"imagelayer\"/></g><g class=\"minor-gridlayer\"><g class=\"x\"/><g class=\"y\"/></g><g class=\"gridlayer\"><g class=\"x\"><path class=\"xgrid crisp\" transform=\"translate(342.45,0)\" d=\"M0,100v320\" style=\"stroke: rgb(255, 255, 255); stroke-opacity: 1; stroke-width: 1px;\"/></g><g class=\"y\"><path class=\"ygrid crisp\" transform=\"translate(0,404.49)\" d=\"M80,0h375\" style=\"stroke: rgb(255, 255, 255); stroke-opacity: 1; stroke-width: 1px;\"/><path class=\"ygrid crisp\" transform=\"translate(0,357.9)\" d=\"M80,0h375\" style=\"stroke: rgb(255, 255, 255); stroke-opacity: 1; stroke-width: 1px;\"/><path class=\"ygrid crisp\" transform=\"translate(0,264.71000000000004)\" d=\"M80,0h375\" style=\"stroke: rgb(255, 255, 255); stroke-opacity: 1; stroke-width: 1px;\"/><path class=\"ygrid crisp\" transform=\"translate(0,218.12)\" d=\"M80,0h375\" style=\"stroke: rgb(255, 255, 255); stroke-opacity: 1; stroke-width: 1px;\"/><path class=\"ygrid crisp\" transform=\"translate(0,171.51999999999998)\" d=\"M80,0h375\" style=\"stroke: rgb(255, 255, 255); stroke-opacity: 1; stroke-width: 1px;\"/><path class=\"ygrid crisp\" transform=\"translate(0,124.93)\" d=\"M80,0h375\" style=\"stroke: rgb(255, 255, 255); stroke-opacity: 1; stroke-width: 1px;\"/></g></g><g class=\"zerolinelayer\"><path class=\"xzl zl crisp\" transform=\"translate(187.3,0)\" d=\"M0,100v320\" style=\"stroke: rgb(255, 255, 255); stroke-opacity: 1; stroke-width: 2px;\"/><path class=\"yzl zl crisp\" transform=\"translate(0,311.31)\" d=\"M80,0h375\" style=\"stroke: rgb(255, 255, 255); stroke-opacity: 1; stroke-width: 2px;\"/></g><path class=\"xlines-below\"/><path class=\"ylines-below\"/><g class=\"overlines-below\"/><g class=\"xaxislayer-below\"/><g class=\"yaxislayer-below\"/><g class=\"overaxes-below\"/><g class=\"plot\" transform=\"translate(80,100)\" clip-path=\"url(#clipfdd039xyplot)\"><g class=\"scatterlayer mlayer\"><g class=\"trace scatter traceea4868\" style=\"stroke-miterlimit: 2; opacity: 1;\"><g class=\"fills\"/><g class=\"errorbars\"/><g class=\"lines\"/><g class=\"points\"><path class=\"point\" transform=\"translate(325.84,254.46)\" d=\"M3,0A3,3 0 1,1 0,-3A3,3 0 0,1 3,0Z\" style=\"opacity: 1; stroke-width: 0px; fill: rgb(99, 110, 250); fill-opacity: 1;\"/><path class=\"point\" transform=\"translate(325.75,254.58)\" d=\"M3,0A3,3 0 1,1 0,-3A3,3 0 0,1 3,0Z\" style=\"opacity: 1; stroke-width: 0px; fill: rgb(99, 110, 250); fill-opacity: 1;\"/><path class=\"point\" transform=\"translate(207.9,97.28)\" d=\"M3,0A3,3 0 1,1 0,-3A3,3 0 0,1 3,0Z\" style=\"opacity: 1; stroke-width: 0px; fill: rgb(99, 110, 250); fill-opacity: 1;\"/><path class=\"point\" transform=\"translate(352.5,211.05)\" d=\"M3,0A3,3 0 1,1 0,-3A3,3 0 0,1 3,0Z\" style=\"opacity: 1; stroke-width: 0px; fill: rgb(99, 110, 250); fill-opacity: 1;\"/><path class=\"point\" transform=\"translate(205.39,93.5)\" d=\"M3,0A3,3 0 1,1 0,-3A3,3 0 0,1 3,0Z\" style=\"opacity: 1; stroke-width: 0px; fill: rgb(99, 110, 250); fill-opacity: 1;\"/><path class=\"point\" transform=\"translate(207.53,89.75)\" d=\"M3,0A3,3 0 1,1 0,-3A3,3 0 0,1 3,0Z\" style=\"opacity: 1; stroke-width: 0px; fill: rgb(99, 110, 250); fill-opacity: 1;\"/><path class=\"point\" transform=\"translate(285.79,238.09)\" d=\"M3,0A3,3 0 1,1 0,-3A3,3 0 0,1 3,0Z\" style=\"opacity: 1; stroke-width: 0px; fill: rgb(99, 110, 250); fill-opacity: 1;\"/><path class=\"point\" transform=\"translate(170.62,127.4)\" d=\"M3,0A3,3 0 1,1 0,-3A3,3 0 0,1 3,0Z\" style=\"opacity: 1; stroke-width: 0px; fill: rgb(99, 110, 250); fill-opacity: 1;\"/><path class=\"point\" transform=\"translate(205.28,84.06)\" d=\"M3,0A3,3 0 1,1 0,-3A3,3 0 0,1 3,0Z\" style=\"opacity: 1; stroke-width: 0px; fill: rgb(99, 110, 250); fill-opacity: 1;\"/><path class=\"point\" transform=\"translate(285.57,238.25)\" d=\"M3,0A3,3 0 1,1 0,-3A3,3 0 0,1 3,0Z\" style=\"opacity: 1; stroke-width: 0px; fill: rgb(99, 110, 250); fill-opacity: 1;\"/><path class=\"point\" transform=\"translate(325.78,254.77)\" d=\"M3,0A3,3 0 1,1 0,-3A3,3 0 0,1 3,0Z\" style=\"opacity: 1; stroke-width: 0px; fill: rgb(99, 110, 250); fill-opacity: 1;\"/></g><g class=\"text\"><g class=\"textpoint\" transform=\"translate(4.75,13.75)\"><text x=\"325.84\" y=\"254.46\" text-anchor=\"start\" style=\"font-family: 'Open Sans', verdana, arial, sans-serif; font-size: 12px; fill: rgb(42, 63, 95); fill-opacity: 1; white-space: pre;\">девушка</text></g><g class=\"textpoint\" transform=\"translate(4.75,13.75)\"><text x=\"325.75\" y=\"254.58\" text-anchor=\"start\" style=\"font-family: 'Open Sans', verdana, arial, sans-serif; font-size: 12px; fill: rgb(42, 63, 95); fill-opacity: 1; white-space: pre;\">мужчина</text></g><g class=\"textpoint\" transform=\"translate(4.75,13.75)\"><text x=\"207.9\" y=\"97.28\" text-anchor=\"start\" style=\"font-family: 'Open Sans', verdana, arial, sans-serif; font-size: 12px; fill: rgb(42, 63, 95); fill-opacity: 1; white-space: pre;\">девица</text></g><g class=\"textpoint\" transform=\"translate(4.75,13.75)\"><text x=\"352.5\" y=\"211.05\" text-anchor=\"start\" style=\"font-family: 'Open Sans', verdana, arial, sans-serif; font-size: 12px; fill: rgb(42, 63, 95); fill-opacity: 1; white-space: pre;\">взрослый</text></g><g class=\"textpoint\" transform=\"translate(4.75,13.75)\"><text x=\"205.39\" y=\"93.5\" text-anchor=\"start\" style=\"font-family: 'Open Sans', verdana, arial, sans-serif; font-size: 12px; fill: rgb(42, 63, 95); fill-opacity: 1; white-space: pre;\">еврейка</text></g><g class=\"textpoint\" transform=\"translate(4.75,13.75)\"><text x=\"207.53\" y=\"89.75\" text-anchor=\"start\" style=\"font-family: 'Open Sans', verdana, arial, sans-serif; font-size: 12px; fill: rgb(42, 63, 95); fill-opacity: 1; white-space: pre;\">девочка</text></g><g class=\"textpoint\" transform=\"translate(4.75,13.75)\"><text x=\"285.79\" y=\"238.09\" text-anchor=\"start\" style=\"font-family: 'Open Sans', verdana, arial, sans-serif; font-size: 12px; fill: rgb(42, 63, 95); fill-opacity: 1; white-space: pre;\">урод</text></g><g class=\"textpoint\" transform=\"translate(4.75,13.75)\"><text x=\"170.62\" y=\"127.4\" text-anchor=\"start\" style=\"font-family: 'Open Sans', verdana, arial, sans-serif; font-size: 12px; fill: rgb(42, 63, 95); fill-opacity: 1; white-space: pre;\">проститутка</text></g><g class=\"textpoint\" transform=\"translate(4.75,13.75)\"><text x=\"205.28\" y=\"84.06\" text-anchor=\"start\" style=\"font-family: 'Open Sans', verdana, arial, sans-serif; font-size: 12px; fill: rgb(42, 63, 95); fill-opacity: 1; white-space: pre;\">муж</text></g><g class=\"textpoint\" transform=\"translate(4.75,13.75)\"><text x=\"285.57\" y=\"238.25\" text-anchor=\"start\" style=\"font-family: 'Open Sans', verdana, arial, sans-serif; font-size: 12px; fill: rgb(42, 63, 95); fill-opacity: 1; white-space: pre;\">девчонка</text></g><g class=\"textpoint\" transform=\"translate(4.75,13.75)\"><text x=\"325.78\" y=\"254.77\" text-anchor=\"start\" style=\"font-family: 'Open Sans', verdana, arial, sans-serif; font-size: 12px; fill: rgb(42, 63, 95); fill-opacity: 1; white-space: pre;\">женщина</text></g></g></g><g class=\"trace scatter trace5ac1c5\" style=\"stroke-miterlimit: 2; opacity: 1;\"><g class=\"fills\"/><g class=\"errorbars\"/><g class=\"lines\"/><g class=\"points\"><path class=\"point\" transform=\"translate(305.22,95.72)\" d=\"M3,0A3,3 0 1,1 0,-3A3,3 0 0,1 3,0Z\" style=\"opacity: 1; stroke-width: 0px; fill: rgb(239, 85, 59); fill-opacity: 1;\"/><path class=\"point\" transform=\"translate(304.9,96.29)\" d=\"M3,0A3,3 0 1,1 0,-3A3,3 0 0,1 3,0Z\" style=\"opacity: 1; stroke-width: 0px; fill: rgb(239, 85, 59); fill-opacity: 1;\"/><path class=\"point\" transform=\"translate(167.23,19.75)\" d=\"M3,0A3,3 0 1,1 0,-3A3,3 0 0,1 3,0Z\" style=\"opacity: 1; stroke-width: 0px; fill: rgb(239, 85, 59); fill-opacity: 1;\"/><path class=\"point\" transform=\"translate(305.11,96.08)\" d=\"M3,0A3,3 0 1,1 0,-3A3,3 0 0,1 3,0Z\" style=\"opacity: 1; stroke-width: 0px; fill: rgb(239, 85, 59); fill-opacity: 1;\"/><path class=\"point\" transform=\"translate(304.82,96.3)\" d=\"M3,0A3,3 0 1,1 0,-3A3,3 0 0,1 3,0Z\" style=\"opacity: 1; stroke-width: 0px; fill: rgb(239, 85, 59); fill-opacity: 1;\"/><path class=\"point\" transform=\"translate(299.82,95.97)\" d=\"M3,0A3,3 0 1,1 0,-3A3,3 0 0,1 3,0Z\" style=\"opacity: 1; stroke-width: 0px; fill: rgb(239, 85, 59); fill-opacity: 1;\"/><path class=\"point\" transform=\"translate(299.88,95.97)\" d=\"M3,0A3,3 0 1,1 0,-3A3,3 0 0,1 3,0Z\" style=\"opacity: 1; stroke-width: 0px; fill: rgb(239, 85, 59); fill-opacity: 1;\"/><path class=\"point\" transform=\"translate(311.68,300.25)\" d=\"M3,0A3,3 0 1,1 0,-3A3,3 0 0,1 3,0Z\" style=\"opacity: 1; stroke-width: 0px; fill: rgb(239, 85, 59); fill-opacity: 1;\"/><path class=\"point\" transform=\"translate(314.99,298.35)\" d=\"M3,0A3,3 0 1,1 0,-3A3,3 0 0,1 3,0Z\" style=\"opacity: 1; stroke-width: 0px; fill: rgb(239, 85, 59); fill-opacity: 1;\"/><path class=\"point\" transform=\"translate(22.5,64.8)\" d=\"M3,0A3,3 0 1,1 0,-3A3,3 0 0,1 3,0Z\" style=\"opacity: 1; stroke-width: 0px; fill: rgb(239, 85, 59); fill-opacity: 1;\"/><path class=\"point\" transform=\"translate(305.15,95.8)\" d=\"M3,0A3,3 0 1,1 0,-3A3,3 0 0,1 3,0Z\" style=\"opacity: 1; stroke-width: 0px; fill: rgb(239, 85, 59); fill-opacity: 1;\"/></g><g class=\"text\"><g class=\"textpoint\" transform=\"translate(4.75,13.75)\"><text x=\"305.22\" y=\"95.72\" text-anchor=\"start\" style=\"font-family: 'Open Sans', verdana, arial, sans-serif; font-size: 12px; fill: rgb(42, 63, 95); fill-opacity: 1; white-space: pre;\">мужчина</text></g><g class=\"textpoint\" transform=\"translate(4.75,13.75)\"><text x=\"304.9\" y=\"96.29\" text-anchor=\"start\" style=\"font-family: 'Open Sans', verdana, arial, sans-serif; font-size: 12px; fill: rgb(42, 63, 95); fill-opacity: 1; white-space: pre;\">девушка</text></g><g class=\"textpoint\" transform=\"translate(4.75,13.75)\"><text x=\"167.23\" y=\"19.75\" text-anchor=\"start\" style=\"font-family: 'Open Sans', verdana, arial, sans-serif; font-size: 12px; fill: rgb(42, 63, 95); fill-opacity: 1; white-space: pre;\">юноша</text></g><g class=\"textpoint\" transform=\"translate(4.75,13.75)\"><text x=\"305.11\" y=\"96.08\" text-anchor=\"start\" style=\"font-family: 'Open Sans', verdana, arial, sans-serif; font-size: 12px; fill: rgb(42, 63, 95); fill-opacity: 1; white-space: pre;\">дама</text></g><g class=\"textpoint\" transform=\"translate(4.75,13.75)\"><text x=\"304.82\" y=\"96.3\" text-anchor=\"start\" style=\"font-family: 'Open Sans', verdana, arial, sans-serif; font-size: 12px; fill: rgb(42, 63, 95); fill-opacity: 1; white-space: pre;\">девица</text></g><g class=\"textpoint\" transform=\"translate(4.75,13.75)\"><text x=\"299.82\" y=\"95.97\" text-anchor=\"start\" style=\"font-family: 'Open Sans', verdana, arial, sans-serif; font-size: 12px; fill: rgb(42, 63, 95); fill-opacity: 1; white-space: pre;\">старуха</text></g><g class=\"textpoint\" transform=\"translate(4.75,13.75)\"><text x=\"299.88\" y=\"95.97\" text-anchor=\"start\" style=\"font-family: 'Open Sans', verdana, arial, sans-serif; font-size: 12px; fill: rgb(42, 63, 95); fill-opacity: 1; white-space: pre;\">старик</text></g><g class=\"textpoint\" transform=\"translate(4.75,13.75)\"><text x=\"311.68\" y=\"300.25\" text-anchor=\"start\" style=\"font-family: 'Open Sans', verdana, arial, sans-serif; font-size: 12px; fill: rgb(42, 63, 95); fill-opacity: 1; white-space: pre;\">ребёнок</text></g><g class=\"textpoint\" transform=\"translate(4.75,13.75)\"><text x=\"314.99\" y=\"298.35\" text-anchor=\"start\" style=\"font-family: 'Open Sans', verdana, arial, sans-serif; font-size: 12px; fill: rgb(42, 63, 95); fill-opacity: 1; white-space: pre;\">подросток</text></g><g class=\"textpoint\" transform=\"translate(4.75,13.75)\"><text x=\"22.5\" y=\"64.8\" text-anchor=\"start\" style=\"font-family: 'Open Sans', verdana, arial, sans-serif; font-size: 12px; fill: rgb(42, 63, 95); fill-opacity: 1; white-space: pre;\">человек</text></g><g class=\"textpoint\" transform=\"translate(4.75,13.75)\"><text x=\"305.15\" y=\"95.8\" text-anchor=\"start\" style=\"font-family: 'Open Sans', verdana, arial, sans-serif; font-size: 12px; fill: rgb(42, 63, 95); fill-opacity: 1; white-space: pre;\">женщина</text></g></g></g></g></g><g class=\"overplot\"/><path class=\"xlines-above crisp\" d=\"M0,0\" style=\"fill: none;\"/><path class=\"ylines-above crisp\" d=\"M0,0\" style=\"fill: none;\"/><g class=\"overlines-above\"/><g class=\"xaxislayer-above\"><g class=\"xtick\"><text text-anchor=\"middle\" x=\"0\" y=\"433\" transform=\"translate(187.3,0)\" style=\"font-family: 'Open Sans', verdana, arial, sans-serif; font-size: 12px; fill: rgb(42, 63, 95); fill-opacity: 1; white-space: pre; opacity: 1;\">0</text></g><g class=\"xtick\"><text text-anchor=\"middle\" x=\"0\" y=\"433\" style=\"font-family: 'Open Sans', verdana, arial, sans-serif; font-size: 12px; fill: rgb(42, 63, 95); fill-opacity: 1; white-space: pre; opacity: 1;\" transform=\"translate(342.45,0)\">50</text></g></g><g class=\"yaxislayer-above\"><g class=\"ytick\"><text text-anchor=\"end\" x=\"79\" y=\"4.199999999999999\" transform=\"translate(0,404.49)\" style=\"font-family: 'Open Sans', verdana, arial, sans-serif; font-size: 12px; fill: rgb(42, 63, 95); fill-opacity: 1; white-space: pre; opacity: 1;\">−40</text></g><g class=\"ytick\"><text text-anchor=\"end\" x=\"79\" y=\"4.199999999999999\" style=\"font-family: 'Open Sans', verdana, arial, sans-serif; font-size: 12px; fill: rgb(42, 63, 95); fill-opacity: 1; white-space: pre; opacity: 1;\" transform=\"translate(0,357.9)\">−20</text></g><g class=\"ytick\"><text text-anchor=\"end\" x=\"79\" y=\"4.199999999999999\" style=\"font-family: 'Open Sans', verdana, arial, sans-serif; font-size: 12px; fill: rgb(42, 63, 95); fill-opacity: 1; white-space: pre; opacity: 1;\" transform=\"translate(0,311.31)\">0</text></g><g class=\"ytick\"><text text-anchor=\"end\" x=\"79\" y=\"4.199999999999999\" style=\"font-family: 'Open Sans', verdana, arial, sans-serif; font-size: 12px; fill: rgb(42, 63, 95); fill-opacity: 1; white-space: pre; opacity: 1;\" transform=\"translate(0,264.71000000000004)\">20</text></g><g class=\"ytick\"><text text-anchor=\"end\" x=\"79\" y=\"4.199999999999999\" style=\"font-family: 'Open Sans', verdana, arial, sans-serif; font-size: 12px; fill: rgb(42, 63, 95); fill-opacity: 1; white-space: pre; opacity: 1;\" transform=\"translate(0,218.12)\">40</text></g><g class=\"ytick\"><text text-anchor=\"end\" x=\"79\" y=\"4.199999999999999\" style=\"font-family: 'Open Sans', verdana, arial, sans-serif; font-size: 12px; fill: rgb(42, 63, 95); fill-opacity: 1; white-space: pre; opacity: 1;\" transform=\"translate(0,171.51999999999998)\">60</text></g><g class=\"ytick\"><text text-anchor=\"end\" x=\"79\" y=\"4.199999999999999\" style=\"font-family: 'Open Sans', verdana, arial, sans-serif; font-size: 12px; fill: rgb(42, 63, 95); fill-opacity: 1; white-space: pre; opacity: 1;\" transform=\"translate(0,124.93)\">80</text></g></g><g class=\"overaxes-above\"/></g></g><g class=\"polarlayer\"/><g class=\"smithlayer\"/><g class=\"ternarylayer\"/><g class=\"geolayer\"/><g class=\"funnelarealayer\"/><g class=\"pielayer\"/><g class=\"iciclelayer\"/><g class=\"treemaplayer\"/><g class=\"sunburstlayer\"/><g class=\"glimages\"/><defs id=\"topdefs-fdd039\"><g class=\"clips\"/><clipPath id=\"legendfdd039\"><rect width=\"225\" height=\"67\" x=\"0\" y=\"0\"/></clipPath></defs><g class=\"layer-above\"><g class=\"imagelayer\"/><g class=\"shapelayer\"/></g><g class=\"infolayer\"><g class=\"legend\" pointer-events=\"all\" transform=\"translate(462.5,100)\"><rect class=\"bg\" shape-rendering=\"crispEdges\" width=\"225\" height=\"67\" x=\"0\" y=\"0\" style=\"stroke: rgb(68, 68, 68); stroke-opacity: 1; fill: rgb(255, 255, 255); fill-opacity: 1; stroke-width: 0px;\"/><g class=\"scrollbox\" transform=\"\" clip-path=\"url(#legendfdd039)\"><text class=\"legendtitletext\" text-anchor=\"start\" x=\"2\" y=\"18.2\" style=\"font-family: 'Open Sans', verdana, arial, sans-serif; font-size: 14px; fill: rgb(42, 63, 95); fill-opacity: 1; white-space: pre;\">label</text><g class=\"groups\" transform=\"\"><g class=\"traces\" transform=\"translate(0,32.7)\" style=\"opacity: 1;\"><text class=\"legendtext\" text-anchor=\"start\" x=\"40\" y=\"4.680000000000001\" style=\"font-family: 'Open Sans', verdana, arial, sans-serif; font-size: 12px; fill: rgb(42, 63, 95); fill-opacity: 1; white-space: pre;\">имперский период</text><g class=\"layers\" style=\"opacity: 1;\"><g class=\"legendfill\"/><g class=\"legendlines\"/><g class=\"legendsymbols\"><g class=\"legendpoints\"><path class=\"scatterpts\" transform=\"translate(20,0)\" d=\"M3,0A3,3 0 1,1 0,-3A3,3 0 0,1 3,0Z\" style=\"opacity: 1; stroke-width: 0px; fill: rgb(99, 110, 250); fill-opacity: 1;\"/></g></g></g><rect class=\"legendtoggle\" x=\"0\" y=\"-9.5\" width=\"219.921875\" height=\"19\" style=\"fill: rgb(0, 0, 0); fill-opacity: 0;\"/></g></g><g class=\"groups\" transform=\"\"><g class=\"traces\" transform=\"translate(0,51.7)\" style=\"opacity: 1;\"><text class=\"legendtext\" text-anchor=\"start\" x=\"40\" y=\"4.680000000000001\" style=\"font-family: 'Open Sans', verdana, arial, sans-serif; font-size: 12px; fill: rgb(42, 63, 95); fill-opacity: 1; white-space: pre;\">послереволюционный период</text><g class=\"layers\" style=\"opacity: 1;\"><g class=\"legendfill\"/><g class=\"legendlines\"/><g class=\"legendsymbols\"><g class=\"legendpoints\"><path class=\"scatterpts\" transform=\"translate(20,0)\" d=\"M3,0A3,3 0 1,1 0,-3A3,3 0 0,1 3,0Z\" style=\"opacity: 1; stroke-width: 0px; fill: rgb(239, 85, 59); fill-opacity: 1;\"/></g></g></g><rect class=\"legendtoggle\" x=\"0\" y=\"-9.5\" width=\"219.921875\" height=\"19\" style=\"fill: rgb(0, 0, 0); fill-opacity: 0;\"/></g></g></g><rect class=\"scrollbar\" rx=\"20\" ry=\"3\" width=\"0\" height=\"0\" x=\"0\" y=\"0\" style=\"fill: rgb(128, 139, 164); fill-opacity: 1;\"/></g><g class=\"g-gtitle\"><text class=\"gtitle\" x=\"35\" y=\"50\" text-anchor=\"start\" dy=\"0em\" style=\"font-family: 'Open Sans', verdana, arial, sans-serif; font-size: 17px; fill: rgb(42, 63, 95); opacity: 1; font-weight: normal; white-space: pre;\">Соседи \"женщина\"</text></g><g class=\"g-xtitle\"><text class=\"xtitle\" x=\"267.5\" y=\"461.3\" text-anchor=\"middle\" style=\"font-family: 'Open Sans', verdana, arial, sans-serif; font-size: 14px; fill: rgb(42, 63, 95); opacity: 1; font-weight: normal; white-space: pre;\">x</text></g><g class=\"g-ytitle\"><text class=\"ytitle\" transform=\"rotate(-90,34.10625,260)\" x=\"34.10625\" y=\"260\" text-anchor=\"middle\" style=\"font-family: 'Open Sans', verdana, arial, sans-serif; font-size: 14px; fill: rgb(42, 63, 95); opacity: 1; font-weight: normal; white-space: pre;\">y</text></g></g></svg>"
      ]
     },
     "metadata": {},
     "output_type": "display_data"
    }
   ],
   "source": [
    "scatter_viz('женщина')"
   ]
  },
  {
   "cell_type": "markdown",
   "id": "74851a89",
   "metadata": {},
   "source": [
    "Тут без комментариев... \n",
    "\n",
    "Соседи в имперское время просто кошмар"
   ]
  },
  {
   "cell_type": "markdown",
   "id": "bcc14aba",
   "metadata": {},
   "source": [
    "*Мужчина*"
   ]
  },
  {
   "cell_type": "code",
   "execution_count": 61,
   "id": "4ee8d596",
   "metadata": {},
   "outputs": [
    {
     "data": {
      "text/plain": [
       "[('женщина', 0.769547700881958),\n",
       " ('взрослый', 0.6993258595466614),\n",
       " ('пожилой', 0.6990272402763367),\n",
       " ('девица', 0.6778444647789001),\n",
       " ('подросток', 0.6519161462783813),\n",
       " ('немолодой', 0.6338276267051697),\n",
       " ('мущина', 0.6262248754501343),\n",
       " ('еврейка', 0.6179986596107483),\n",
       " ('девушка', 0.6096713542938232),\n",
       " ('гимназистка', 0.6044589877128601)]"
      ]
     },
     "execution_count": 61,
     "metadata": {},
     "output_type": "execute_result"
    }
   ],
   "source": [
    "w2v_imperial.wv.most_similar('мужчина') "
   ]
  },
  {
   "cell_type": "code",
   "execution_count": 62,
   "id": "4241f63d",
   "metadata": {},
   "outputs": [
    {
     "data": {
      "text/plain": [
       "[('женщина', 0.8741195797920227),\n",
       " ('девушка', 0.7280082106590271),\n",
       " ('мужской', 0.6807472705841064),\n",
       " ('пожилой', 0.6573857069015503),\n",
       " ('юноша', 0.6243497729301453),\n",
       " ('подросток', 0.6220383644104004),\n",
       " ('молодой', 0.6102044582366943),\n",
       " ('немолодой', 0.591219425201416),\n",
       " ('девица', 0.5862039923667908),\n",
       " ('женский', 0.5840417146682739)]"
      ]
     },
     "execution_count": 62,
     "metadata": {},
     "output_type": "execute_result"
    }
   ],
   "source": [
    "w2v_soviet_and_new.wv.most_similar('мужчина')"
   ]
  },
  {
   "cell_type": "code",
   "execution_count": 98,
   "id": "7534b940",
   "metadata": {},
   "outputs": [
    {
     "data": {
      "image/svg+xml": [
       "<svg class=\"main-svg\" xmlns=\"http://www.w3.org/2000/svg\" xmlns:xlink=\"http://www.w3.org/1999/xlink\" width=\"700\" height=\"500\" style=\"\" viewBox=\"0 0 700 500\"><rect x=\"0\" y=\"0\" width=\"700\" height=\"500\" style=\"fill: rgb(255, 255, 255); fill-opacity: 1;\"/><defs id=\"defs-cf84d7\"><g class=\"clips\"><clipPath id=\"clipcf84d7xyplot\" class=\"plotclip\"><rect width=\"375\" height=\"320\"/></clipPath><clipPath class=\"axesclip\" id=\"clipcf84d7x\"><rect x=\"80\" y=\"0\" width=\"375\" height=\"500\"/></clipPath><clipPath class=\"axesclip\" id=\"clipcf84d7y\"><rect x=\"0\" y=\"100\" width=\"700\" height=\"320\"/></clipPath><clipPath class=\"axesclip\" id=\"clipcf84d7xy\"><rect x=\"80\" y=\"100\" width=\"375\" height=\"320\"/></clipPath></g><g class=\"gradients\"/><g class=\"patterns\"/></defs><g class=\"bglayer\"><rect class=\"bg\" x=\"80\" y=\"100\" width=\"375\" height=\"320\" style=\"fill: rgb(229, 236, 246); fill-opacity: 1; stroke-width: 0;\"/></g><g class=\"layer-below\"><g class=\"imagelayer\"/><g class=\"shapelayer\"/></g><g class=\"cartesianlayer\"><g class=\"subplot xy\"><g class=\"layer-subplot\"><g class=\"shapelayer\"/><g class=\"imagelayer\"/></g><g class=\"minor-gridlayer\"><g class=\"x\"/><g class=\"y\"/></g><g class=\"gridlayer\"><g class=\"x\"><path class=\"xgrid crisp\" transform=\"translate(113.32,0)\" d=\"M0,100v320\" style=\"stroke: rgb(255, 255, 255); stroke-opacity: 1; stroke-width: 1px;\"/><path class=\"xgrid crisp\" transform=\"translate(360.71,0)\" d=\"M0,100v320\" style=\"stroke: rgb(255, 255, 255); stroke-opacity: 1; stroke-width: 1px;\"/></g><g class=\"y\"><path class=\"ygrid crisp\" transform=\"translate(0,406.43)\" d=\"M80,0h375\" style=\"stroke: rgb(255, 255, 255); stroke-opacity: 1; stroke-width: 1px;\"/><path class=\"ygrid crisp\" transform=\"translate(0,359.52)\" d=\"M80,0h375\" style=\"stroke: rgb(255, 255, 255); stroke-opacity: 1; stroke-width: 1px;\"/><path class=\"ygrid crisp\" transform=\"translate(0,265.7)\" d=\"M80,0h375\" style=\"stroke: rgb(255, 255, 255); stroke-opacity: 1; stroke-width: 1px;\"/><path class=\"ygrid crisp\" transform=\"translate(0,218.79000000000002)\" d=\"M80,0h375\" style=\"stroke: rgb(255, 255, 255); stroke-opacity: 1; stroke-width: 1px;\"/><path class=\"ygrid crisp\" transform=\"translate(0,171.88)\" d=\"M80,0h375\" style=\"stroke: rgb(255, 255, 255); stroke-opacity: 1; stroke-width: 1px;\"/><path class=\"ygrid crisp\" transform=\"translate(0,124.97)\" d=\"M80,0h375\" style=\"stroke: rgb(255, 255, 255); stroke-opacity: 1; stroke-width: 1px;\"/></g></g><g class=\"zerolinelayer\"><path class=\"xzl zl crisp\" transform=\"translate(237.02,0)\" d=\"M0,100v320\" style=\"stroke: rgb(255, 255, 255); stroke-opacity: 1; stroke-width: 2px;\"/><path class=\"yzl zl crisp\" transform=\"translate(0,312.61)\" d=\"M80,0h375\" style=\"stroke: rgb(255, 255, 255); stroke-opacity: 1; stroke-width: 2px;\"/></g><path class=\"xlines-below\"/><path class=\"ylines-below\"/><g class=\"overlines-below\"/><g class=\"xaxislayer-below\"/><g class=\"yaxislayer-below\"/><g class=\"overaxes-below\"/><g class=\"plot\" transform=\"translate(80,100)\" clip-path=\"url(#clipcf84d7xyplot)\"><g class=\"scatterlayer mlayer\"><g class=\"trace scatter trace20b3ef\" style=\"stroke-miterlimit: 2; opacity: 1;\"><g class=\"fills\"/><g class=\"errorbars\"/><g class=\"lines\"/><g class=\"points\"><path class=\"point\" transform=\"translate(331.2,256.37)\" d=\"M3,0A3,3 0 1,1 0,-3A3,3 0 0,1 3,0Z\" style=\"opacity: 1; stroke-width: 0px; fill: rgb(99, 110, 250); fill-opacity: 1;\"/><path class=\"point\" transform=\"translate(352.5,212.35)\" d=\"M3,0A3,3 0 1,1 0,-3A3,3 0 0,1 3,0Z\" style=\"opacity: 1; stroke-width: 0px; fill: rgb(99, 110, 250); fill-opacity: 1;\"/><path class=\"point\" transform=\"translate(331.17,253.63)\" d=\"M3,0A3,3 0 1,1 0,-3A3,3 0 0,1 3,0Z\" style=\"opacity: 1; stroke-width: 0px; fill: rgb(99, 110, 250); fill-opacity: 1;\"/><path class=\"point\" transform=\"translate(237.22,97.81)\" d=\"M3,0A3,3 0 1,1 0,-3A3,3 0 0,1 3,0Z\" style=\"opacity: 1; stroke-width: 0px; fill: rgb(99, 110, 250); fill-opacity: 1;\"/><path class=\"point\" transform=\"translate(237.53,98.5)\" d=\"M3,0A3,3 0 1,1 0,-3A3,3 0 0,1 3,0Z\" style=\"opacity: 1; stroke-width: 0px; fill: rgb(99, 110, 250); fill-opacity: 1;\"/><path class=\"point\" transform=\"translate(327.57,254.36)\" d=\"M3,0A3,3 0 1,1 0,-3A3,3 0 0,1 3,0Z\" style=\"opacity: 1; stroke-width: 0px; fill: rgb(99, 110, 250); fill-opacity: 1;\"/><path class=\"point\" transform=\"translate(22.5,90.55)\" d=\"M3,0A3,3 0 1,1 0,-3A3,3 0 0,1 3,0Z\" style=\"opacity: 1; stroke-width: 0px; fill: rgb(99, 110, 250); fill-opacity: 1;\"/><path class=\"point\" transform=\"translate(235.22,94)\" d=\"M3,0A3,3 0 1,1 0,-3A3,3 0 0,1 3,0Z\" style=\"opacity: 1; stroke-width: 0px; fill: rgb(99, 110, 250); fill-opacity: 1;\"/><path class=\"point\" transform=\"translate(331.25,256.05)\" d=\"M3,0A3,3 0 1,1 0,-3A3,3 0 0,1 3,0Z\" style=\"opacity: 1; stroke-width: 0px; fill: rgb(99, 110, 250); fill-opacity: 1;\"/><path class=\"point\" transform=\"translate(237.69,98.72)\" d=\"M3,0A3,3 0 1,1 0,-3A3,3 0 0,1 3,0Z\" style=\"opacity: 1; stroke-width: 0px; fill: rgb(99, 110, 250); fill-opacity: 1;\"/><path class=\"point\" transform=\"translate(331.17,256.18)\" d=\"M3,0A3,3 0 1,1 0,-3A3,3 0 0,1 3,0Z\" style=\"opacity: 1; stroke-width: 0px; fill: rgb(99, 110, 250); fill-opacity: 1;\"/></g><g class=\"text\"><g class=\"textpoint\" transform=\"translate(4.75,13.75)\"><text x=\"331.2\" y=\"256.37\" text-anchor=\"start\" style=\"font-family: 'Open Sans', verdana, arial, sans-serif; font-size: 12px; fill: rgb(42, 63, 95); fill-opacity: 1; white-space: pre;\">женщина</text></g><g class=\"textpoint\" transform=\"translate(4.75,13.75)\"><text x=\"352.5\" y=\"212.35\" text-anchor=\"start\" style=\"font-family: 'Open Sans', verdana, arial, sans-serif; font-size: 12px; fill: rgb(42, 63, 95); fill-opacity: 1; white-space: pre;\">взрослый</text></g><g class=\"textpoint\" transform=\"translate(4.75,13.75)\"><text x=\"331.17\" y=\"253.63\" text-anchor=\"start\" style=\"font-family: 'Open Sans', verdana, arial, sans-serif; font-size: 12px; fill: rgb(42, 63, 95); fill-opacity: 1; white-space: pre;\">пожилой</text></g><g class=\"textpoint\" transform=\"translate(4.75,13.75)\"><text x=\"237.22\" y=\"97.81\" text-anchor=\"start\" style=\"font-family: 'Open Sans', verdana, arial, sans-serif; font-size: 12px; fill: rgb(42, 63, 95); fill-opacity: 1; white-space: pre;\">девица</text></g><g class=\"textpoint\" transform=\"translate(4.75,13.75)\"><text x=\"237.53\" y=\"98.5\" text-anchor=\"start\" style=\"font-family: 'Open Sans', verdana, arial, sans-serif; font-size: 12px; fill: rgb(42, 63, 95); fill-opacity: 1; white-space: pre;\">подросток</text></g><g class=\"textpoint\" transform=\"translate(4.75,13.75)\"><text x=\"327.57\" y=\"254.36\" text-anchor=\"start\" style=\"font-family: 'Open Sans', verdana, arial, sans-serif; font-size: 12px; fill: rgb(42, 63, 95); fill-opacity: 1; white-space: pre;\">немолодой</text></g><g class=\"textpoint\" transform=\"translate(4.75,13.75)\"><text x=\"22.5\" y=\"90.55\" text-anchor=\"start\" style=\"font-family: 'Open Sans', verdana, arial, sans-serif; font-size: 12px; fill: rgb(42, 63, 95); fill-opacity: 1; white-space: pre;\">мущина</text></g><g class=\"textpoint\" transform=\"translate(4.75,13.75)\"><text x=\"235.22\" y=\"94\" text-anchor=\"start\" style=\"font-family: 'Open Sans', verdana, arial, sans-serif; font-size: 12px; fill: rgb(42, 63, 95); fill-opacity: 1; white-space: pre;\">еврейка</text></g><g class=\"textpoint\" transform=\"translate(4.75,13.75)\"><text x=\"331.25\" y=\"256.05\" text-anchor=\"start\" style=\"font-family: 'Open Sans', verdana, arial, sans-serif; font-size: 12px; fill: rgb(42, 63, 95); fill-opacity: 1; white-space: pre;\">девушка</text></g><g class=\"textpoint\" transform=\"translate(4.75,13.75)\"><text x=\"237.69\" y=\"98.72\" text-anchor=\"start\" style=\"font-family: 'Open Sans', verdana, arial, sans-serif; font-size: 12px; fill: rgb(42, 63, 95); fill-opacity: 1; white-space: pre;\">гимназистка</text></g><g class=\"textpoint\" transform=\"translate(4.75,13.75)\"><text x=\"331.17\" y=\"256.18\" text-anchor=\"start\" style=\"font-family: 'Open Sans', verdana, arial, sans-serif; font-size: 12px; fill: rgb(42, 63, 95); fill-opacity: 1; white-space: pre;\">мужчина</text></g></g></g><g class=\"trace scatter trace2e9ca3\" style=\"stroke-miterlimit: 2; opacity: 1;\"><g class=\"fills\"/><g class=\"errorbars\"/><g class=\"lines\"/><g class=\"points\"><path class=\"point\" transform=\"translate(314.75,96.32)\" d=\"M3,0A3,3 0 1,1 0,-3A3,3 0 0,1 3,0Z\" style=\"opacity: 1; stroke-width: 0px; fill: rgb(239, 85, 59); fill-opacity: 1;\"/><path class=\"point\" transform=\"translate(314.55,96.81)\" d=\"M3,0A3,3 0 1,1 0,-3A3,3 0 0,1 3,0Z\" style=\"opacity: 1; stroke-width: 0px; fill: rgb(239, 85, 59); fill-opacity: 1;\"/><path class=\"point\" transform=\"translate(50.76,47.95)\" d=\"M3,0A3,3 0 1,1 0,-3A3,3 0 0,1 3,0Z\" style=\"opacity: 1; stroke-width: 0px; fill: rgb(239, 85, 59); fill-opacity: 1;\"/><path class=\"point\" transform=\"translate(204.3,20.51)\" d=\"M3,0A3,3 0 1,1 0,-3A3,3 0 0,1 3,0Z\" style=\"opacity: 1; stroke-width: 0px; fill: rgb(239, 85, 59); fill-opacity: 1;\"/><path class=\"point\" transform=\"translate(204.8,19.75)\" d=\"M3,0A3,3 0 1,1 0,-3A3,3 0 0,1 3,0Z\" style=\"opacity: 1; stroke-width: 0px; fill: rgb(239, 85, 59); fill-opacity: 1;\"/><path class=\"point\" transform=\"translate(322.59,300.25)\" d=\"M3,0A3,3 0 1,1 0,-3A3,3 0 0,1 3,0Z\" style=\"opacity: 1; stroke-width: 0px; fill: rgb(239, 85, 59); fill-opacity: 1;\"/><path class=\"point\" transform=\"translate(204.62,19.82)\" d=\"M3,0A3,3 0 1,1 0,-3A3,3 0 0,1 3,0Z\" style=\"opacity: 1; stroke-width: 0px; fill: rgb(239, 85, 59); fill-opacity: 1;\"/><path class=\"point\" transform=\"translate(203.94,20.84)\" d=\"M3,0A3,3 0 1,1 0,-3A3,3 0 0,1 3,0Z\" style=\"opacity: 1; stroke-width: 0px; fill: rgb(239, 85, 59); fill-opacity: 1;\"/><path class=\"point\" transform=\"translate(314.49,96.82)\" d=\"M3,0A3,3 0 1,1 0,-3A3,3 0 0,1 3,0Z\" style=\"opacity: 1; stroke-width: 0px; fill: rgb(239, 85, 59); fill-opacity: 1;\"/><path class=\"point\" transform=\"translate(50.77,47.96)\" d=\"M3,0A3,3 0 1,1 0,-3A3,3 0 0,1 3,0Z\" style=\"opacity: 1; stroke-width: 0px; fill: rgb(239, 85, 59); fill-opacity: 1;\"/><path class=\"point\" transform=\"translate(314.81,96.24)\" d=\"M3,0A3,3 0 1,1 0,-3A3,3 0 0,1 3,0Z\" style=\"opacity: 1; stroke-width: 0px; fill: rgb(239, 85, 59); fill-opacity: 1;\"/></g><g class=\"text\"><g class=\"textpoint\" transform=\"translate(4.75,13.75)\"><text x=\"314.75\" y=\"96.32\" text-anchor=\"start\" style=\"font-family: 'Open Sans', verdana, arial, sans-serif; font-size: 12px; fill: rgb(42, 63, 95); fill-opacity: 1; white-space: pre;\">женщина</text></g><g class=\"textpoint\" transform=\"translate(4.75,13.75)\"><text x=\"314.55\" y=\"96.81\" text-anchor=\"start\" style=\"font-family: 'Open Sans', verdana, arial, sans-serif; font-size: 12px; fill: rgb(42, 63, 95); fill-opacity: 1; white-space: pre;\">девушка</text></g><g class=\"textpoint\" transform=\"translate(4.75,13.75)\"><text x=\"50.76\" y=\"47.95\" text-anchor=\"start\" style=\"font-family: 'Open Sans', verdana, arial, sans-serif; font-size: 12px; fill: rgb(42, 63, 95); fill-opacity: 1; white-space: pre;\">мужской</text></g><g class=\"textpoint\" transform=\"translate(4.75,13.75)\"><text x=\"204.3\" y=\"20.51\" text-anchor=\"start\" style=\"font-family: 'Open Sans', verdana, arial, sans-serif; font-size: 12px; fill: rgb(42, 63, 95); fill-opacity: 1; white-space: pre;\">пожилой</text></g><g class=\"textpoint\" transform=\"translate(4.75,13.75)\"><text x=\"204.8\" y=\"19.75\" text-anchor=\"start\" style=\"font-family: 'Open Sans', verdana, arial, sans-serif; font-size: 12px; fill: rgb(42, 63, 95); fill-opacity: 1; white-space: pre;\">юноша</text></g><g class=\"textpoint\" transform=\"translate(4.75,13.75)\"><text x=\"322.59\" y=\"300.25\" text-anchor=\"start\" style=\"font-family: 'Open Sans', verdana, arial, sans-serif; font-size: 12px; fill: rgb(42, 63, 95); fill-opacity: 1; white-space: pre;\">подросток</text></g><g class=\"textpoint\" transform=\"translate(4.75,13.75)\"><text x=\"204.62\" y=\"19.82\" text-anchor=\"start\" style=\"font-family: 'Open Sans', verdana, arial, sans-serif; font-size: 12px; fill: rgb(42, 63, 95); fill-opacity: 1; white-space: pre;\">молодой</text></g><g class=\"textpoint\" transform=\"translate(4.75,13.75)\"><text x=\"203.94\" y=\"20.84\" text-anchor=\"start\" style=\"font-family: 'Open Sans', verdana, arial, sans-serif; font-size: 12px; fill: rgb(42, 63, 95); fill-opacity: 1; white-space: pre;\">немолодой</text></g><g class=\"textpoint\" transform=\"translate(4.75,13.75)\"><text x=\"314.49\" y=\"96.82\" text-anchor=\"start\" style=\"font-family: 'Open Sans', verdana, arial, sans-serif; font-size: 12px; fill: rgb(42, 63, 95); fill-opacity: 1; white-space: pre;\">девица</text></g><g class=\"textpoint\" transform=\"translate(4.75,13.75)\"><text x=\"50.77\" y=\"47.96\" text-anchor=\"start\" style=\"font-family: 'Open Sans', verdana, arial, sans-serif; font-size: 12px; fill: rgb(42, 63, 95); fill-opacity: 1; white-space: pre;\">женский</text></g><g class=\"textpoint\" transform=\"translate(4.75,13.75)\"><text x=\"314.81\" y=\"96.24\" text-anchor=\"start\" style=\"font-family: 'Open Sans', verdana, arial, sans-serif; font-size: 12px; fill: rgb(42, 63, 95); fill-opacity: 1; white-space: pre;\">мужчина</text></g></g></g></g></g><g class=\"overplot\"/><path class=\"xlines-above crisp\" d=\"M0,0\" style=\"fill: none;\"/><path class=\"ylines-above crisp\" d=\"M0,0\" style=\"fill: none;\"/><g class=\"overlines-above\"/><g class=\"xaxislayer-above\"><g class=\"xtick\"><text text-anchor=\"middle\" x=\"0\" y=\"433\" transform=\"translate(113.32,0)\" style=\"font-family: 'Open Sans', verdana, arial, sans-serif; font-size: 12px; fill: rgb(42, 63, 95); fill-opacity: 1; white-space: pre; opacity: 1;\">−50</text></g><g class=\"xtick\"><text text-anchor=\"middle\" x=\"0\" y=\"433\" style=\"font-family: 'Open Sans', verdana, arial, sans-serif; font-size: 12px; fill: rgb(42, 63, 95); fill-opacity: 1; white-space: pre; opacity: 1;\" transform=\"translate(237.02,0)\">0</text></g><g class=\"xtick\"><text text-anchor=\"middle\" x=\"0\" y=\"433\" style=\"font-family: 'Open Sans', verdana, arial, sans-serif; font-size: 12px; fill: rgb(42, 63, 95); fill-opacity: 1; white-space: pre; opacity: 1;\" transform=\"translate(360.71,0)\">50</text></g></g><g class=\"yaxislayer-above\"><g class=\"ytick\"><text text-anchor=\"end\" x=\"79\" y=\"4.199999999999999\" transform=\"translate(0,406.43)\" style=\"font-family: 'Open Sans', verdana, arial, sans-serif; font-size: 12px; fill: rgb(42, 63, 95); fill-opacity: 1; white-space: pre; opacity: 1;\">−40</text></g><g class=\"ytick\"><text text-anchor=\"end\" x=\"79\" y=\"4.199999999999999\" style=\"font-family: 'Open Sans', verdana, arial, sans-serif; font-size: 12px; fill: rgb(42, 63, 95); fill-opacity: 1; white-space: pre; opacity: 1;\" transform=\"translate(0,359.52)\">−20</text></g><g class=\"ytick\"><text text-anchor=\"end\" x=\"79\" y=\"4.199999999999999\" style=\"font-family: 'Open Sans', verdana, arial, sans-serif; font-size: 12px; fill: rgb(42, 63, 95); fill-opacity: 1; white-space: pre; opacity: 1;\" transform=\"translate(0,312.61)\">0</text></g><g class=\"ytick\"><text text-anchor=\"end\" x=\"79\" y=\"4.199999999999999\" style=\"font-family: 'Open Sans', verdana, arial, sans-serif; font-size: 12px; fill: rgb(42, 63, 95); fill-opacity: 1; white-space: pre; opacity: 1;\" transform=\"translate(0,265.7)\">20</text></g><g class=\"ytick\"><text text-anchor=\"end\" x=\"79\" y=\"4.199999999999999\" style=\"font-family: 'Open Sans', verdana, arial, sans-serif; font-size: 12px; fill: rgb(42, 63, 95); fill-opacity: 1; white-space: pre; opacity: 1;\" transform=\"translate(0,218.79000000000002)\">40</text></g><g class=\"ytick\"><text text-anchor=\"end\" x=\"79\" y=\"4.199999999999999\" style=\"font-family: 'Open Sans', verdana, arial, sans-serif; font-size: 12px; fill: rgb(42, 63, 95); fill-opacity: 1; white-space: pre; opacity: 1;\" transform=\"translate(0,171.88)\">60</text></g><g class=\"ytick\"><text text-anchor=\"end\" x=\"79\" y=\"4.199999999999999\" style=\"font-family: 'Open Sans', verdana, arial, sans-serif; font-size: 12px; fill: rgb(42, 63, 95); fill-opacity: 1; white-space: pre; opacity: 1;\" transform=\"translate(0,124.97)\">80</text></g></g><g class=\"overaxes-above\"/></g></g><g class=\"polarlayer\"/><g class=\"smithlayer\"/><g class=\"ternarylayer\"/><g class=\"geolayer\"/><g class=\"funnelarealayer\"/><g class=\"pielayer\"/><g class=\"iciclelayer\"/><g class=\"treemaplayer\"/><g class=\"sunburstlayer\"/><g class=\"glimages\"/><defs id=\"topdefs-cf84d7\"><g class=\"clips\"/><clipPath id=\"legendcf84d7\"><rect width=\"225\" height=\"67\" x=\"0\" y=\"0\"/></clipPath></defs><g class=\"layer-above\"><g class=\"imagelayer\"/><g class=\"shapelayer\"/></g><g class=\"infolayer\"><g class=\"legend\" pointer-events=\"all\" transform=\"translate(462.5,100)\"><rect class=\"bg\" shape-rendering=\"crispEdges\" width=\"225\" height=\"67\" x=\"0\" y=\"0\" style=\"stroke: rgb(68, 68, 68); stroke-opacity: 1; fill: rgb(255, 255, 255); fill-opacity: 1; stroke-width: 0px;\"/><g class=\"scrollbox\" transform=\"\" clip-path=\"url(#legendcf84d7)\"><text class=\"legendtitletext\" text-anchor=\"start\" x=\"2\" y=\"18.2\" style=\"font-family: 'Open Sans', verdana, arial, sans-serif; font-size: 14px; fill: rgb(42, 63, 95); fill-opacity: 1; white-space: pre;\">label</text><g class=\"groups\" transform=\"\"><g class=\"traces\" transform=\"translate(0,32.7)\" style=\"opacity: 1;\"><text class=\"legendtext\" text-anchor=\"start\" x=\"40\" y=\"4.680000000000001\" style=\"font-family: 'Open Sans', verdana, arial, sans-serif; font-size: 12px; fill: rgb(42, 63, 95); fill-opacity: 1; white-space: pre;\">имперский период</text><g class=\"layers\" style=\"opacity: 1;\"><g class=\"legendfill\"/><g class=\"legendlines\"/><g class=\"legendsymbols\"><g class=\"legendpoints\"><path class=\"scatterpts\" transform=\"translate(20,0)\" d=\"M3,0A3,3 0 1,1 0,-3A3,3 0 0,1 3,0Z\" style=\"opacity: 1; stroke-width: 0px; fill: rgb(99, 110, 250); fill-opacity: 1;\"/></g></g></g><rect class=\"legendtoggle\" x=\"0\" y=\"-9.5\" width=\"219.921875\" height=\"19\" style=\"fill: rgb(0, 0, 0); fill-opacity: 0;\"/></g></g><g class=\"groups\" transform=\"\"><g class=\"traces\" transform=\"translate(0,51.7)\" style=\"opacity: 1;\"><text class=\"legendtext\" text-anchor=\"start\" x=\"40\" y=\"4.680000000000001\" style=\"font-family: 'Open Sans', verdana, arial, sans-serif; font-size: 12px; fill: rgb(42, 63, 95); fill-opacity: 1; white-space: pre;\">послереволюционный период</text><g class=\"layers\" style=\"opacity: 1;\"><g class=\"legendfill\"/><g class=\"legendlines\"/><g class=\"legendsymbols\"><g class=\"legendpoints\"><path class=\"scatterpts\" transform=\"translate(20,0)\" d=\"M3,0A3,3 0 1,1 0,-3A3,3 0 0,1 3,0Z\" style=\"opacity: 1; stroke-width: 0px; fill: rgb(239, 85, 59); fill-opacity: 1;\"/></g></g></g><rect class=\"legendtoggle\" x=\"0\" y=\"-9.5\" width=\"219.921875\" height=\"19\" style=\"fill: rgb(0, 0, 0); fill-opacity: 0;\"/></g></g></g><rect class=\"scrollbar\" rx=\"20\" ry=\"3\" width=\"0\" height=\"0\" x=\"0\" y=\"0\" style=\"fill: rgb(128, 139, 164); fill-opacity: 1;\"/></g><g class=\"g-gtitle\"><text class=\"gtitle\" x=\"35\" y=\"50\" text-anchor=\"start\" dy=\"0em\" style=\"font-family: 'Open Sans', verdana, arial, sans-serif; font-size: 17px; fill: rgb(42, 63, 95); opacity: 1; font-weight: normal; white-space: pre;\">Соседи \"мужчина\"</text></g><g class=\"g-xtitle\"><text class=\"xtitle\" x=\"267.5\" y=\"461.3\" text-anchor=\"middle\" style=\"font-family: 'Open Sans', verdana, arial, sans-serif; font-size: 14px; fill: rgb(42, 63, 95); opacity: 1; font-weight: normal; white-space: pre;\">x</text></g><g class=\"g-ytitle\"><text class=\"ytitle\" transform=\"rotate(-90,34.10625,260)\" x=\"34.10625\" y=\"260\" text-anchor=\"middle\" style=\"font-family: 'Open Sans', verdana, arial, sans-serif; font-size: 14px; fill: rgb(42, 63, 95); opacity: 1; font-weight: normal; white-space: pre;\">y</text></g></g></svg>"
      ]
     },
     "metadata": {},
     "output_type": "display_data"
    }
   ],
   "source": [
    "scatter_viz('мужчина')"
   ]
  },
  {
   "cell_type": "markdown",
   "id": "3b713abd",
   "metadata": {},
   "source": [
    "Ну в целом тоже без особых комментариев"
   ]
  },
  {
   "cell_type": "markdown",
   "id": "fe4564d6",
   "metadata": {},
   "source": [
    "### Проверим семантическую алгебру"
   ]
  },
  {
   "cell_type": "code",
   "execution_count": 64,
   "id": "7fd1ffe3",
   "metadata": {},
   "outputs": [],
   "source": [
    "main_word = 'работник' \n",
    "minus_word = 'мужчина' \n",
    "plus_word = 'женщина' "
   ]
  },
  {
   "cell_type": "code",
   "execution_count": 66,
   "id": "48d2a5fd",
   "metadata": {},
   "outputs": [
    {
     "data": {
      "text/plain": [
       "[('скот', 0.5360196828842163),\n",
       " ('корова', 0.531903862953186),\n",
       " ('авгиев', 0.5232662558555603),\n",
       " ('наниматься', 0.5169458389282227),\n",
       " ('богач', 0.5067340135574341),\n",
       " ('хозяйство', 0.5065316557884216),\n",
       " ('столяр', 0.5014485716819763),\n",
       " ('овца', 0.49389928579330444),\n",
       " ('огород', 0.4912109673023224),\n",
       " ('плотник', 0.4907466173171997)]"
      ]
     },
     "execution_count": 66,
     "metadata": {},
     "output_type": "execute_result"
    }
   ],
   "source": [
    "w2v_imperial.wv.most_similar(positive=[main_word, plus_word], negative=[minus_word])"
   ]
  },
  {
   "cell_type": "code",
   "execution_count": 67,
   "id": "9f07b50c",
   "metadata": {},
   "outputs": [
    {
     "data": {
      "text/plain": [
       "[('сотрудник', 0.711796760559082),\n",
       " ('руководитель', 0.6546599268913269),\n",
       " ('учреждение', 0.6327971816062927),\n",
       " ('заведовать', 0.6207301020622253),\n",
       " ('служащий', 0.59498530626297),\n",
       " ('партиец', 0.5915732383728027),\n",
       " ('работница', 0.5583502650260925),\n",
       " ('специалист', 0.5535200238227844),\n",
       " ('деятель', 0.5532211065292358),\n",
       " ('организатор', 0.5462093353271484)]"
      ]
     },
     "execution_count": 67,
     "metadata": {},
     "output_type": "execute_result"
    }
   ],
   "source": [
    "w2v_soviet_and_new.wv.most_similar(positive=[main_word, plus_word], negative=[minus_word])"
   ]
  },
  {
   "cell_type": "markdown",
   "id": "8bfad831",
   "metadata": {},
   "source": [
    "Мне очень стыдно оставлять такое, но, наверное, стоит, так как это лишь еще раз показывает масштабы сексизма.<br> Стоит отметить, что в послереволюционное время, конечно, получившиеся результаты сильно приятнее "
   ]
  },
  {
   "cell_type": "markdown",
   "id": "a9a32ec6",
   "metadata": {},
   "source": [
    "*О наболевшем* "
   ]
  },
  {
   "cell_type": "code",
   "execution_count": 74,
   "id": "62fd362e",
   "metadata": {},
   "outputs": [],
   "source": [
    "main_word = 'россия' \n",
    "minus_word = 'война' \n",
    "plus_word = 'процветание' "
   ]
  },
  {
   "cell_type": "code",
   "execution_count": 75,
   "id": "e92d8679",
   "metadata": {},
   "outputs": [
    {
     "data": {
      "text/plain": [
       "[('благоденствие', 0.6233654022216797),\n",
       " ('ревнитель', 0.616132915019989),\n",
       " ('снискать', 0.6039957404136658),\n",
       " ('независимость', 0.5851789712905884),\n",
       " ('преданность', 0.5808767676353455),\n",
       " ('утвердиться', 0.5792183876037598),\n",
       " ('устроение', 0.5768240094184875),\n",
       " ('паства', 0.5730204582214355),\n",
       " ('преуспеяние', 0.572310209274292),\n",
       " ('любовия', 0.5671443939208984)]"
      ]
     },
     "execution_count": 75,
     "metadata": {},
     "output_type": "execute_result"
    }
   ],
   "source": [
    "w2v_imperial.wv.most_similar(positive=[main_word, plus_word], negative=[minus_word])"
   ]
  },
  {
   "cell_type": "code",
   "execution_count": 76,
   "id": "9d91c0ec",
   "metadata": {},
   "outputs": [
    {
     "data": {
      "text/plain": [
       "[('независимость', 0.6604427099227905),\n",
       " ('порабощение', 0.6335461139678955),\n",
       " ('автономия', 0.6265232563018799),\n",
       " ('государство', 0.6189990639686584),\n",
       " ('страна', 0.6075066924095154),\n",
       " ('многонациональный', 0.6059742569923401),\n",
       " ('государственность', 0.598889946937561),\n",
       " ('демократия', 0.5983263850212097),\n",
       " ('народность', 0.5964455008506775),\n",
       " ('возродить', 0.5913171768188477)]"
      ]
     },
     "execution_count": 76,
     "metadata": {},
     "output_type": "execute_result"
    }
   ],
   "source": [
    "w2v_soviet_and_new.wv.most_similar(positive=[main_word, plus_word], negative=[minus_word])"
   ]
  },
  {
   "cell_type": "markdown",
   "id": "8b1450eb",
   "metadata": {},
   "source": [
    "## Итоги"
   ]
  },
  {
   "cell_type": "markdown",
   "id": "1a0f907b",
   "metadata": {},
   "source": [
    "В данной работе были обучены две модели Word2Vec на материале дневников Прожито за два исторических периода - Российская империя и Советское время + современная Россия. \n",
    "\n",
    "Модели показали достаточно разумные результаты - в целом близкие слова к каким-то важным понятиям как будто бы очень соответствуют периодам.\n",
    "\n",
    "Также было показано, что и семантическая арифметика для этих моделей работает, хоть и, конечно, явно уже похуже. "
   ]
  }
 ],
 "metadata": {
  "kernelspec": {
   "display_name": "Python 3 (ipykernel)",
   "language": "python",
   "name": "python3"
  },
  "language_info": {
   "codemirror_mode": {
    "name": "ipython",
    "version": 3
   },
   "file_extension": ".py",
   "mimetype": "text/x-python",
   "name": "python",
   "nbconvert_exporter": "python",
   "pygments_lexer": "ipython3",
   "version": "3.10.6"
  }
 },
 "nbformat": 4,
 "nbformat_minor": 5
}
